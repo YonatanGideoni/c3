{
 "cells": [
  {
   "cell_type": "code",
   "execution_count": 1,
   "metadata": {},
   "outputs": [],
   "source": [
    "import sys\n",
    "sys.path.append('C:\\\\Users\\\\Yonatan Gideoni\\\\Desktop\\\\ML4Q\\\\c3')"
   ]
  },
  {
   "cell_type": "markdown",
   "metadata": {},
   "source": [
    "Code mostly taken from <code>two_qubits.ipynb</code>"
   ]
  },
  {
   "cell_type": "markdown",
   "metadata": {},
   "source": [
    "#### Imports"
   ]
  },
  {
   "cell_type": "code",
   "execution_count": 2,
   "metadata": {
    "ExecuteTime": {
     "end_time": "2020-06-10T13:45:05.684014Z",
     "start_time": "2020-06-10T13:45:04.441825Z"
    },
    "code_folding": [
     0
    ]
   },
   "outputs": [],
   "source": [
    "# System imports\n",
    "import copy\n",
    "import numpy as np\n",
    "import matplotlib.pyplot as plt\n",
    "import tensorflow as tf\n",
    "from pprint import pprint\n",
    "\n",
    "# Main C3 objects\n",
    "from c3.c3objs import Quantity as Qty\n",
    "from c3.parametermap import ParameterMap as PMap\n",
    "from c3.experiment import Experiment as Exp\n",
    "from c3.model import Model as Mdl\n",
    "from c3.generator.generator import Generator as Gnr\n",
    "\n",
    "# Building blocks\n",
    "import c3.generator.devices as devices\n",
    "import c3.signal.gates as gates\n",
    "import c3.libraries.chip as chip\n",
    "import c3.signal.pulse as pulse\n",
    "import c3.libraries.tasks as tasks\n",
    "\n",
    "# Libs and helpers\n",
    "import c3.libraries.algorithms as algorithms\n",
    "import c3.libraries.hamiltonians as hamiltonians\n",
    "import c3.libraries.fidelities as fidelities\n",
    "import c3.libraries.envelopes as envelopes\n",
    "\n",
    "# Qiskit related modules\n",
    "from c3.qiskit import C3Provider\n",
    "from c3.qiskit.c3_gates import RX90pGate\n",
    "from qiskit import QuantumCircuit, Aer, execute\n",
    "from qiskit.tools.visualization import plot_histogram"
   ]
  },
  {
   "cell_type": "markdown",
   "metadata": {},
   "source": [
    "#### Model components"
   ]
  },
  {
   "cell_type": "code",
   "execution_count": 3,
   "metadata": {
    "ExecuteTime": {
     "end_time": "2020-06-10T13:45:05.684014Z",
     "start_time": "2020-06-10T13:45:04.441825Z"
    },
    "code_folding": [
     7
    ]
   },
   "outputs": [],
   "source": [
    "qubit_lvls = 3\n",
    "freq_q1 = 5e9\n",
    "anhar_q1 = -210e6\n",
    "t1_q1 = 27e-6\n",
    "t2star_q1 = 39e-6\n",
    "qubit_temp = 50e-3\n",
    "\n",
    "q1 = chip.Qubit(\n",
    "    name=\"Q1\",\n",
    "    desc=\"Qubit 1\",\n",
    "    freq=Qty(\n",
    "        value=freq_q1,\n",
    "        min_val=4.995e9 ,\n",
    "        max_val=5.005e9 ,\n",
    "        unit='Hz 2pi'\n",
    "    ),\n",
    "    anhar=Qty(\n",
    "        value=anhar_q1,\n",
    "        min_val=-380e6 ,\n",
    "        max_val=-120e6 ,\n",
    "        unit='Hz 2pi'\n",
    "    ),\n",
    "    hilbert_dim=qubit_lvls,\n",
    "    t1=Qty(\n",
    "        value=t1_q1,\n",
    "        min_val=1e-6,\n",
    "        max_val=90e-6,\n",
    "        unit='s'\n",
    "    ),\n",
    "    t2star=Qty(\n",
    "        value=t2star_q1,\n",
    "        min_val=10e-6,\n",
    "        max_val=90e-3,\n",
    "        unit='s'\n",
    "    ),\n",
    "    temp=Qty(\n",
    "        value=qubit_temp,\n",
    "        min_val=0.0,\n",
    "        max_val=0.12,\n",
    "        unit='K'\n",
    "    )\n",
    ")"
   ]
  },
  {
   "cell_type": "code",
   "execution_count": 4,
   "metadata": {
    "ExecuteTime": {
     "end_time": "2020-06-10T13:45:05.684014Z",
     "start_time": "2020-06-10T13:45:04.441825Z"
    },
    "code_folding": [
     0
    ]
   },
   "outputs": [],
   "source": [
    "drive = chip.Drive(\n",
    "    name=\"d1\",\n",
    "    desc=\"Drive 1\",\n",
    "    comment=\"Drive line 1 on qubit 1\",\n",
    "    connected=[\"Q1\"],\n",
    "    hamiltonian_func=hamiltonians.x_drive\n",
    ")"
   ]
  },
  {
   "cell_type": "markdown",
   "metadata": {},
   "source": [
    "The following task creates an initial thermal state with given temperature."
   ]
  },
  {
   "cell_type": "code",
   "execution_count": 5,
   "metadata": {
    "ExecuteTime": {
     "end_time": "2020-06-10T13:45:05.684014Z",
     "start_time": "2020-06-10T13:45:04.441825Z"
    },
    "code_folding": [
     1
    ]
   },
   "outputs": [],
   "source": [
    "init_temp = 50e-3\n",
    "init_ground = tasks.InitialiseGround(\n",
    "    init_temp=Qty(\n",
    "        value=init_temp,\n",
    "        min_val=-0.001,\n",
    "        max_val=0.22,\n",
    "        unit='K'\n",
    "    )\n",
    ")"
   ]
  },
  {
   "cell_type": "markdown",
   "metadata": {},
   "source": [
    "We collect the parts specified above in the Model."
   ]
  },
  {
   "cell_type": "code",
   "execution_count": 6,
   "metadata": {
    "ExecuteTime": {
     "end_time": "2020-06-10T13:45:05.684014Z",
     "start_time": "2020-06-10T13:45:04.441825Z"
    }
   },
   "outputs": [],
   "source": [
    "model = Mdl(\n",
    "    [q1], # Individual, self-contained components\n",
    "    [drive],  # Interactions between components\n",
    ")"
   ]
  },
  {
   "cell_type": "markdown",
   "metadata": {},
   "source": [
    "Further, we can decide between coherent or open-system dynamics using set_lindbladian() and whether to eliminate the static coupling by going to the dressed frame with set_dressed()."
   ]
  },
  {
   "cell_type": "code",
   "execution_count": 7,
   "metadata": {
    "ExecuteTime": {
     "end_time": "2020-06-10T13:45:05.684014Z",
     "start_time": "2020-06-10T13:45:04.441825Z"
    }
   },
   "outputs": [],
   "source": [
    "model.set_lindbladian(False)\n",
    "model.set_dressed(True)"
   ]
  },
  {
   "cell_type": "markdown",
   "metadata": {},
   "source": [
    "#### Control signals"
   ]
  },
  {
   "cell_type": "code",
   "execution_count": 8,
   "metadata": {
    "ExecuteTime": {
     "end_time": "2020-06-10T13:45:05.684014Z",
     "start_time": "2020-06-10T13:45:04.441825Z"
    }
   },
   "outputs": [],
   "source": [
    "sim_res = 100e9 # Resolution for numerical simulation\n",
    "awg_res = 2e9 # Realistic, limited resolution of an AWG\n",
    "lo = devices.LO(name='lo', resolution=sim_res)\n",
    "awg = devices.AWG(name='awg', resolution=awg_res)\n",
    "mixer = devices.Mixer(name='mixer')"
   ]
  },
  {
   "cell_type": "code",
   "execution_count": 9,
   "metadata": {
    "code_folding": [
     0,
     5
    ]
   },
   "outputs": [],
   "source": [
    "dig_to_an = devices.DigitalToAnalog(\n",
    "    name=\"dac\",\n",
    "    resolution=sim_res\n",
    ")\n",
    "v2hz = 1e9\n",
    "v_to_hz = devices.VoltsToHertz(\n",
    "    name='v_to_hz',\n",
    "    V_to_Hz=Qty(\n",
    "        value=v2hz,\n",
    "        min_val=0.9e9,\n",
    "        max_val=1.1e9,\n",
    "        unit='Hz/V'\n",
    "    )\n",
    ")"
   ]
  },
  {
   "cell_type": "markdown",
   "metadata": {},
   "source": [
    "The generator combines the parts of the signal generation and assignes a signal chain to each control line."
   ]
  },
  {
   "cell_type": "code",
   "execution_count": 10,
   "metadata": {
    "ExecuteTime": {
     "end_time": "2020-06-10T13:45:05.684014Z",
     "start_time": "2020-06-10T13:45:04.441825Z"
    },
    "code_folding": [
     0
    ]
   },
   "outputs": [],
   "source": [
    "generator = Gnr(\n",
    "        devices={\n",
    "            \"LO\": devices.LO(name='lo', resolution=sim_res, outputs=1),\n",
    "            \"AWG\": devices.AWG(name='awg', resolution=awg_res, outputs=1),\n",
    "            \"DigitalToAnalog\": devices.DigitalToAnalog(\n",
    "                name=\"dac\",\n",
    "                resolution=sim_res,\n",
    "                inputs=1,\n",
    "                outputs=1\n",
    "            ),\n",
    "            \"Mixer\": devices.Mixer(name='mixer', inputs=2, outputs=1),\n",
    "            \"VoltsToHertz\": devices.VoltsToHertz(\n",
    "                name='v_to_hz',\n",
    "                V_to_Hz=Qty(\n",
    "                    value=1e9,\n",
    "                    min_val=0.9e9,\n",
    "                    max_val=1.1e9,\n",
    "                    unit='Hz/V'\n",
    "                ),\n",
    "                inputs=1,\n",
    "                outputs=1\n",
    "            )\n",
    "        },\n",
    "        chains= {\n",
    "            \"d1\": {\n",
    "                \"LO\": [],\n",
    "                \"AWG\": [],\n",
    "                \"DigitalToAnalog\": [\"AWG\"],\n",
    "                \"Mixer\": [\"LO\", \"DigitalToAnalog\"],\n",
    "                \"VoltsToHertz\": [\"Mixer\"]\n",
    "            },\n",
    "            \"d2\": {\n",
    "                \"LO\": [],\n",
    "                \"AWG\": [],\n",
    "                \"DigitalToAnalog\": [\"AWG\"],\n",
    "                \"Mixer\": [\"LO\", \"DigitalToAnalog\"],\n",
    "                \"VoltsToHertz\": [\"Mixer\"]\n",
    "            },\n",
    "        }\n",
    "    )"
   ]
  },
  {
   "cell_type": "markdown",
   "metadata": {},
   "source": [
    "#### Gates-set and Parameter map"
   ]
  },
  {
   "cell_type": "code",
   "execution_count": 11,
   "metadata": {
    "ExecuteTime": {
     "end_time": "2020-06-10T13:45:05.684014Z",
     "start_time": "2020-06-10T13:45:04.441825Z"
    },
    "code_folding": []
   },
   "outputs": [],
   "source": [
    "t_final = 7e-9   # Time for single qubit gates\n",
    "sideband = 50e6 "
   ]
  },
  {
   "cell_type": "code",
   "execution_count": 12,
   "metadata": {
    "code_folding": [
     0
    ]
   },
   "outputs": [],
   "source": [
    "def_params = {\n",
    "    'amp': Qty(\n",
    "        value=0.26,\n",
    "        min_val=0.0,\n",
    "        max_val=20,\n",
    "        unit=\"V\"\n",
    "    ),\n",
    "    't_final': Qty(\n",
    "        value=t_final,\n",
    "        min_val=0.5 * t_final,\n",
    "        max_val=1.5 * t_final,\n",
    "        unit=\"s\"\n",
    "    ),\n",
    "    'xy_angle': Qty(\n",
    "        value=0.0,\n",
    "        min_val=-0.5 * np.pi,\n",
    "        max_val=2.5 * np.pi,\n",
    "        unit='rad'\n",
    "    ),\n",
    "    'freq_offset': Qty(\n",
    "        value=-sideband - 3e6 ,\n",
    "        min_val=-56 * 1e6 ,\n",
    "        max_val=-52 * 1e6 ,\n",
    "        unit='Hz 2pi'\n",
    "    ),\n",
    "    'delta': Qty(\n",
    "        value=-1,\n",
    "        min_val=-5,\n",
    "        max_val=3,\n",
    "        unit=\"\"\n",
    "    )\n",
    "}"
   ]
  },
  {
   "cell_type": "code",
   "execution_count": 13,
   "metadata": {
    "code_folding": [
     2,
     9,
     19,
     28
    ],
    "scrolled": false
   },
   "outputs": [],
   "source": [
    "# gaussiam params\n",
    "gauss_params = copy.deepcopy(def_params)\n",
    "gauss_params['sigma'] = Qty(\n",
    "    value=t_final / 4, \n",
    "    min_val=t_final / 8, \n",
    "    max_val=t_final / 2, \n",
    "    unit=\"s\"\n",
    ")\n",
    "\n",
    "gauss_env = pulse.Envelope(\n",
    "    name=\"gauss\",\n",
    "    desc=\"Gaussian comp for single-qubit gates\",\n",
    "    params=gauss_params,\n",
    "    shape=envelopes.gaussian_nonorm,\n",
    "    normalize_pulse=True\n",
    ")\n",
    "\n",
    "left_half_gauss_params = copy.deepcopy(gauss_params)\n",
    "left_half_gauss_params['t_final'].set_value(t_final * 0.8)\n",
    "left_half_gauss_env = pulse.Envelope(\n",
    "    name=\"left_gauss\",\n",
    "    desc=\"Left half gaussian comp for single-qubit gates\",\n",
    "    params=left_half_gauss_params,\n",
    "    shape=envelopes.left_half_gaussian_nonorm,\n",
    "    normalize_pulse=True\n",
    ")\n",
    "\n",
    "right_half_gauss_params = copy.deepcopy(gauss_params)\n",
    "right_half_gauss_env = pulse.Envelope(\n",
    "    name=\"right_gauss\",\n",
    "    desc=\"Right half gaussian comp for single-qubit gates\",\n",
    "    params=right_half_gauss_params,\n",
    "    shape=envelopes.right_half_gaussian_nonorm,\n",
    "    normalize_pulse=True\n",
    ")"
   ]
  },
  {
   "cell_type": "code",
   "execution_count": 14,
   "metadata": {
    "code_folding": [
     2
    ]
   },
   "outputs": [],
   "source": [
    "# hann params\n",
    "hann_params = copy.deepcopy(def_params)\n",
    "hann_env = pulse.Envelope(\n",
    "    name=\"hann\",\n",
    "    desc=\"Hann comp for single-qubit gates\",\n",
    "    params=hann_params,\n",
    "    shape=envelopes.hann,\n",
    "    normalize_pulse=True\n",
    ")"
   ]
  },
  {
   "cell_type": "code",
   "execution_count": 15,
   "metadata": {
    "code_folding": [
     3
    ]
   },
   "outputs": [],
   "source": [
    "# blackman params\n",
    "blackman_params = copy.deepcopy(def_params)\n",
    "\n",
    "blackman_env = pulse.Envelope(\n",
    "    name=\"blackman\",\n",
    "    desc=\"Blackman comp for single-qubit gates\",\n",
    "    params=blackman_params,\n",
    "    shape=envelopes.blackman_window,\n",
    "    normalize_pulse=True\n",
    ")"
   ]
  },
  {
   "cell_type": "code",
   "execution_count": 16,
   "metadata": {
    "code_folding": [
     0,
     8
    ]
   },
   "outputs": [],
   "source": [
    "signal_type_config = {\n",
    "    'gauss': (gauss_params, gauss_env), \n",
    "    'hann': (hann_params, hann_env),\n",
    "    'blackman': (blackman_params, blackman_env),\n",
    "    'left_gauss': (left_half_gauss_params, left_half_gauss_env), \n",
    "    'right_gauss': (right_half_gauss_params, right_half_gauss_env), \n",
    "}\n",
    "\n",
    "opt_params_per_sig =  {\n",
    "    'gauss': ['amp', 'freq_offset', 'xy_angle', 'delta'],\n",
    "    'hann': ['amp', 'freq_offset', 'xy_angle', 'delta'],\n",
    "    'blackman': ['amp', 'freq_offset', 'xy_angle', 'delta'],\n",
    "    'left_gauss': ['amp', 'freq_offset', 'xy_angle', 'delta', 't_final'],\n",
    "    'right_gauss': ['amp', 'freq_offset', 'xy_angle', 'delta', 't_final'],\n",
    "}"
   ]
  },
  {
   "cell_type": "code",
   "execution_count": 17,
   "metadata": {
    "code_folding": [
     12
    ]
   },
   "outputs": [],
   "source": [
    "n_pulses_per_type = {'gauss': 8,\n",
    "                     'hann': 8,\n",
    "                     'blackman': 8,\n",
    "                     'left_gauss': 0,\n",
    "                     'right_gauss': 0}\n",
    "\n",
    "largest_pulse_v = 0.3\n",
    "smallest_pulse_v = 0.16\n",
    "\n",
    "signal_envelopes = []\n",
    "signals_opt_params = []\n",
    "\n",
    "for pulse_type, n_pulses in n_pulses_per_type.items():\n",
    "    for i, voltage in enumerate(np.linspace(smallest_pulse_v, largest_pulse_v, n_pulses)):\n",
    "        def_params, def_env = signal_type_config[pulse_type]\n",
    "        pulse_params = copy.deepcopy(def_params)\n",
    "        pulse_params['amp'].set_value(voltage)\n",
    "        \n",
    "        envelope = copy.deepcopy(def_env)\n",
    "        envelope.params = pulse_params\n",
    "        signals_opt_params.append(opt_params_per_sig[envelope.name])\n",
    "        envelope.name += str(i)\n",
    "        signal_envelopes.append(envelope)"
   ]
  },
  {
   "cell_type": "code",
   "execution_count": 18,
   "metadata": {
    "ExecuteTime": {
     "end_time": "2020-06-10T13:45:05.684014Z",
     "start_time": "2020-06-10T13:45:04.441825Z"
    },
    "code_folding": [
     1,
     15
    ]
   },
   "outputs": [],
   "source": [
    "lo_freq_q1 = 5e9  + sideband\n",
    "carrier_parameters = {\n",
    "    'freq': Qty(\n",
    "        value=lo_freq_q1,\n",
    "        min_val=4.5e9 ,\n",
    "        max_val=6e9 ,\n",
    "        unit='Hz 2pi'\n",
    "    ),\n",
    "    'framechange': Qty(\n",
    "        value=0.0,\n",
    "        min_val= -np.pi,\n",
    "        max_val= 3 * np.pi,\n",
    "        unit='rad'\n",
    "    )\n",
    "}\n",
    "carr = pulse.Carrier(\n",
    "    name=\"carrier\",\n",
    "    desc=\"Frequency of the local oscillator\",\n",
    "    params=carrier_parameters\n",
    ")"
   ]
  },
  {
   "cell_type": "markdown",
   "metadata": {},
   "source": [
    "#### Instructions"
   ]
  },
  {
   "cell_type": "code",
   "execution_count": 19,
   "metadata": {
    "ExecuteTime": {
     "end_time": "2020-06-10T13:45:05.684014Z",
     "start_time": "2020-06-10T13:45:04.441825Z"
    },
    "code_folding": [
     0
    ]
   },
   "outputs": [],
   "source": [
    "rx90p_q1 = gates.Instruction(\n",
    "    name=\"rx90p\", targets=[0], t_start=0.0, t_end=t_final, channels=[\"d1\"]\n",
    ")\n",
    "\n",
    "rx90p_q1.add_component(carr, \"d1\")\n",
    "\n",
    "for envelope in signal_envelopes:\n",
    "    if envelope.params['amp'].numpy() < 0.01:\n",
    "        continue\n",
    "    rx90p_q1.add_component(envelope, \"d1\")"
   ]
  },
  {
   "cell_type": "code",
   "execution_count": 20,
   "metadata": {
    "ExecuteTime": {
     "end_time": "2020-06-10T13:45:05.684014Z",
     "start_time": "2020-06-10T13:45:04.441825Z"
    }
   },
   "outputs": [],
   "source": [
    "single_q_gates = [rx90p_q1]"
   ]
  },
  {
   "cell_type": "code",
   "execution_count": 21,
   "metadata": {},
   "outputs": [
    {
     "data": {
      "text/plain": [
       "{'carrier': carrier:: freq : 5.050 GHz 2pi , framechange : 0.000 rad , ,\n",
       " 'gauss0': gauss0:: amp : 160.000 mV , t_final : 7.000 ns , xy_angle : -444.089 arad , freq_offset : -53.000 MHz 2pi , delta : -1.000  , sigma : 1.750 ns , shape: gaussian_nonorm, ,\n",
       " 'gauss1': gauss1:: amp : 180.000 mV , t_final : 7.000 ns , xy_angle : -444.089 arad , freq_offset : -53.000 MHz 2pi , delta : -1.000  , sigma : 1.750 ns , shape: gaussian_nonorm, ,\n",
       " 'gauss2': gauss2:: amp : 200.000 mV , t_final : 7.000 ns , xy_angle : -444.089 arad , freq_offset : -53.000 MHz 2pi , delta : -1.000  , sigma : 1.750 ns , shape: gaussian_nonorm, ,\n",
       " 'gauss3': gauss3:: amp : 220.000 mV , t_final : 7.000 ns , xy_angle : -444.089 arad , freq_offset : -53.000 MHz 2pi , delta : -1.000  , sigma : 1.750 ns , shape: gaussian_nonorm, ,\n",
       " 'gauss4': gauss4:: amp : 240.000 mV , t_final : 7.000 ns , xy_angle : -444.089 arad , freq_offset : -53.000 MHz 2pi , delta : -1.000  , sigma : 1.750 ns , shape: gaussian_nonorm, ,\n",
       " 'gauss5': gauss5:: amp : 260.000 mV , t_final : 7.000 ns , xy_angle : -444.089 arad , freq_offset : -53.000 MHz 2pi , delta : -1.000  , sigma : 1.750 ns , shape: gaussian_nonorm, ,\n",
       " 'gauss6': gauss6:: amp : 280.000 mV , t_final : 7.000 ns , xy_angle : -444.089 arad , freq_offset : -53.000 MHz 2pi , delta : -1.000  , sigma : 1.750 ns , shape: gaussian_nonorm, ,\n",
       " 'gauss7': gauss7:: amp : 300.000 mV , t_final : 7.000 ns , xy_angle : -444.089 arad , freq_offset : -53.000 MHz 2pi , delta : -1.000  , sigma : 1.750 ns , shape: gaussian_nonorm, ,\n",
       " 'hann0': hann0:: amp : 160.000 mV , t_final : 7.000 ns , xy_angle : -444.089 arad , freq_offset : -53.000 MHz 2pi , delta : -1.000  , shape: hann, ,\n",
       " 'hann1': hann1:: amp : 180.000 mV , t_final : 7.000 ns , xy_angle : -444.089 arad , freq_offset : -53.000 MHz 2pi , delta : -1.000  , shape: hann, ,\n",
       " 'hann2': hann2:: amp : 200.000 mV , t_final : 7.000 ns , xy_angle : -444.089 arad , freq_offset : -53.000 MHz 2pi , delta : -1.000  , shape: hann, ,\n",
       " 'hann3': hann3:: amp : 220.000 mV , t_final : 7.000 ns , xy_angle : -444.089 arad , freq_offset : -53.000 MHz 2pi , delta : -1.000  , shape: hann, ,\n",
       " 'hann4': hann4:: amp : 240.000 mV , t_final : 7.000 ns , xy_angle : -444.089 arad , freq_offset : -53.000 MHz 2pi , delta : -1.000  , shape: hann, ,\n",
       " 'hann5': hann5:: amp : 260.000 mV , t_final : 7.000 ns , xy_angle : -444.089 arad , freq_offset : -53.000 MHz 2pi , delta : -1.000  , shape: hann, ,\n",
       " 'hann6': hann6:: amp : 280.000 mV , t_final : 7.000 ns , xy_angle : -444.089 arad , freq_offset : -53.000 MHz 2pi , delta : -1.000  , shape: hann, ,\n",
       " 'hann7': hann7:: amp : 300.000 mV , t_final : 7.000 ns , xy_angle : -444.089 arad , freq_offset : -53.000 MHz 2pi , delta : -1.000  , shape: hann, ,\n",
       " 'blackman0': blackman0:: amp : 160.000 mV , t_final : 7.000 ns , xy_angle : -444.089 arad , freq_offset : -53.000 MHz 2pi , delta : -1.000  , shape: blackman_window, ,\n",
       " 'blackman1': blackman1:: amp : 180.000 mV , t_final : 7.000 ns , xy_angle : -444.089 arad , freq_offset : -53.000 MHz 2pi , delta : -1.000  , shape: blackman_window, ,\n",
       " 'blackman2': blackman2:: amp : 200.000 mV , t_final : 7.000 ns , xy_angle : -444.089 arad , freq_offset : -53.000 MHz 2pi , delta : -1.000  , shape: blackman_window, ,\n",
       " 'blackman3': blackman3:: amp : 220.000 mV , t_final : 7.000 ns , xy_angle : -444.089 arad , freq_offset : -53.000 MHz 2pi , delta : -1.000  , shape: blackman_window, ,\n",
       " 'blackman4': blackman4:: amp : 240.000 mV , t_final : 7.000 ns , xy_angle : -444.089 arad , freq_offset : -53.000 MHz 2pi , delta : -1.000  , shape: blackman_window, ,\n",
       " 'blackman5': blackman5:: amp : 260.000 mV , t_final : 7.000 ns , xy_angle : -444.089 arad , freq_offset : -53.000 MHz 2pi , delta : -1.000  , shape: blackman_window, ,\n",
       " 'blackman6': blackman6:: amp : 280.000 mV , t_final : 7.000 ns , xy_angle : -444.089 arad , freq_offset : -53.000 MHz 2pi , delta : -1.000  , shape: blackman_window, ,\n",
       " 'blackman7': blackman7:: amp : 300.000 mV , t_final : 7.000 ns , xy_angle : -444.089 arad , freq_offset : -53.000 MHz 2pi , delta : -1.000  , shape: blackman_window, }"
      ]
     },
     "execution_count": 21,
     "metadata": {},
     "output_type": "execute_result"
    }
   ],
   "source": [
    "rx90p_q1.comps[\"d1\"]"
   ]
  },
  {
   "cell_type": "markdown",
   "metadata": {},
   "source": [
    "With every component defined, we collect them in the parameter map, our object that holds information and methods to manipulate and examine model and control parameters."
   ]
  },
  {
   "cell_type": "code",
   "execution_count": 22,
   "metadata": {
    "ExecuteTime": {
     "end_time": "2020-06-10T13:45:05.684014Z",
     "start_time": "2020-06-10T13:45:04.441825Z"
    }
   },
   "outputs": [],
   "source": [
    "parameter_map = PMap(instructions=single_q_gates, model=model, generator=generator)"
   ]
  },
  {
   "cell_type": "markdown",
   "metadata": {},
   "source": [
    "#### The experiment"
   ]
  },
  {
   "cell_type": "code",
   "execution_count": 23,
   "metadata": {
    "ExecuteTime": {
     "end_time": "2020-06-10T13:45:05.684014Z",
     "start_time": "2020-06-10T13:45:04.441825Z"
    }
   },
   "outputs": [],
   "source": [
    "exp = Exp(pmap=parameter_map)"
   ]
  },
  {
   "cell_type": "markdown",
   "metadata": {},
   "source": [
    "#### Simulation"
   ]
  },
  {
   "cell_type": "code",
   "execution_count": 24,
   "metadata": {},
   "outputs": [],
   "source": [
    "exp.set_opt_gates(['rx90p[0]'])\n",
    "unitaries = exp.compute_propagators()"
   ]
  },
  {
   "cell_type": "markdown",
   "metadata": {},
   "source": [
    "### Dynamics"
   ]
  },
  {
   "cell_type": "code",
   "execution_count": 25,
   "metadata": {},
   "outputs": [],
   "source": [
    "psi_init = [[0] * 3]\n",
    "psi_init[0][0] = 1\n",
    "init_state = tf.transpose(tf.constant(psi_init, tf.complex128))"
   ]
  },
  {
   "cell_type": "code",
   "execution_count": 26,
   "metadata": {},
   "outputs": [
    {
     "data": {
      "text/plain": [
       "<tf.Tensor: shape=(3, 1), dtype=complex128, numpy=\n",
       "array([[1.+0.j],\n",
       "       [0.+0.j],\n",
       "       [0.+0.j]])>"
      ]
     },
     "execution_count": 26,
     "metadata": {},
     "output_type": "execute_result"
    }
   ],
   "source": [
    "init_state"
   ]
  },
  {
   "cell_type": "code",
   "execution_count": 27,
   "metadata": {},
   "outputs": [],
   "source": [
    "gate_seq = ['rx90p[0]']"
   ]
  },
  {
   "cell_type": "markdown",
   "metadata": {},
   "source": [
    "Plotting system dynamics and signal:"
   ]
  },
  {
   "cell_type": "code",
   "execution_count": 28,
   "metadata": {
    "code_folding": [
     0,
     33
    ]
   },
   "outputs": [],
   "source": [
    "def plot_dynamics(exp, psi_init, seq, goal=-1):\n",
    "        \"\"\"\n",
    "        Plotting code for time-resolved populations.\n",
    "\n",
    "        Parameters\n",
    "        ----------\n",
    "        psi_init: tf.Tensor\n",
    "            Initial state or density matrix.\n",
    "        seq: list\n",
    "            List of operations to apply to the initial state.\n",
    "        goal: tf.float64\n",
    "            Value of the goal function, if used.\n",
    "        debug: boolean\n",
    "            If true, return a matplotlib figure instead of saving.\n",
    "        \"\"\"\n",
    "        model = exp.pmap.model\n",
    "        exp.compute_propagators()\n",
    "        dUs = exp.partial_propagators\n",
    "        psi_t = psi_init.numpy()\n",
    "        pop_t = exp.populations(psi_t, model.lindbladian)\n",
    "        for gate in seq:\n",
    "            for du in dUs[gate]:\n",
    "                psi_t = np.matmul(du.numpy(), psi_t)\n",
    "                pops = exp.populations(psi_t, model.lindbladian)\n",
    "                pop_t = np.append(pop_t, pops, axis=1)\n",
    "        \n",
    "\n",
    "        fig, axs = plt.subplots(1, 1)\n",
    "        ts = exp.ts\n",
    "        dt = ts[1] - ts[0]\n",
    "        ts = np.linspace(0.0, dt*pop_t.shape[1], pop_t.shape[1]) / 1e-9\n",
    "        axs.plot(ts, pop_t.T)\n",
    "        axs.grid(linestyle=\"--\")\n",
    "        axs.tick_params(\n",
    "            direction=\"in\", left=True, right=True, top=True, bottom=True\n",
    "        )\n",
    "        axs.set_xlabel('Time [ns]')\n",
    "        axs.set_ylabel('Population')\n",
    "        \n",
    "        for state_pop in pops:\n",
    "            state_pop = state_pop.numpy()[0]\n",
    "            axs.annotate(f'{state_pop*100:.0f}%', (ts.max(), state_pop))\n",
    "        \n",
    "        plt.legend(model.state_labels)\n",
    "        plt.xlim(0, ts.max() * 1.1)"
   ]
  },
  {
   "cell_type": "code",
   "execution_count": 29,
   "metadata": {
    "scrolled": true
   },
   "outputs": [
    {
     "data": {
      "image/png": "[encoded data removed]",
      "text/plain": [
       "<Figure size 432x288 with 1 Axes>"
      ]
     },
     "metadata": {
      "needs_background": "light"
     },
     "output_type": "display_data"
    }
   ],
   "source": [
    "plot_dynamics(exp, init_state, gate_seq)"
   ]
  },
  {
   "cell_type": "code",
   "execution_count": 30,
   "metadata": {},
   "outputs": [
    {
     "data": {
      "image/png": "[encoded data removed]",
      "text/plain": [
       "<Figure size 432x288 with 1 Axes>"
      ]
     },
     "metadata": {
      "needs_background": "light"
     },
     "output_type": "display_data"
    }
   ],
   "source": [
    "plot_dynamics(exp, init_state, gate_seq * 5)"
   ]
  },
  {
   "cell_type": "code",
   "execution_count": 31,
   "metadata": {},
   "outputs": [
    {
     "data": {
      "image/png": "[encoded data removed]",
      "text/plain": [
       "<Figure size 432x288 with 1 Axes>"
      ]
     },
     "metadata": {
      "needs_background": "light"
     },
     "output_type": "display_data"
    }
   ],
   "source": [
    "plot_dynamics(exp, init_state, gate_seq * 10)"
   ]
  },
  {
   "cell_type": "markdown",
   "metadata": {},
   "source": [
    "Note that at this point, we only multiply already computed matrices. We don't need to solve the equations of motion again for new sequences."
   ]
  },
  {
   "cell_type": "markdown",
   "metadata": {},
   "source": [
    "To define which parameters we optimize, we write the gateset_opt_map, a nested list of tuples that identifies each parameter."
   ]
  },
  {
   "cell_type": "code",
   "execution_count": 32,
   "metadata": {
    "code_folding": []
   },
   "outputs": [],
   "source": [
    "opt_gates = [\"rx90p[0]\"]\n",
    "gateset_opt_map = [[(\"rx90p[0]\", \"d1\", \"carrier\", \"framechange\"),]]\n",
    "for envelope, sig_opt_params in zip(signal_envelopes, signals_opt_params):\n",
    "    if envelope.params['amp'].numpy() < 0.01:\n",
    "        continue\n",
    "    sig_name = envelope.name\n",
    "    for param in sig_opt_params:\n",
    "        gateset_opt_map.append([(\"rx90p[0]\", \"d1\", sig_name, param),])\n",
    "\n",
    "parameter_map.set_opt_map(gateset_opt_map)"
   ]
  },
  {
   "cell_type": "code",
   "execution_count": 33,
   "metadata": {},
   "outputs": [
    {
     "name": "stdout",
     "output_type": "stream",
     "text": [
      "rx90p[0]-d1-carrier-framechange       : 0.000 rad \n",
      "rx90p[0]-d1-gauss0-amp                : 160.000 mV \n",
      "rx90p[0]-d1-gauss0-freq_offset        : -53.000 MHz 2pi \n",
      "rx90p[0]-d1-gauss0-xy_angle           : -444.089 arad \n",
      "rx90p[0]-d1-gauss0-delta              : -1.000  \n",
      "rx90p[0]-d1-gauss1-amp                : 180.000 mV \n",
      "rx90p[0]-d1-gauss1-freq_offset        : -53.000 MHz 2pi \n",
      "rx90p[0]-d1-gauss1-xy_angle           : -444.089 arad \n",
      "rx90p[0]-d1-gauss1-delta              : -1.000  \n",
      "rx90p[0]-d1-gauss2-amp                : 200.000 mV \n",
      "rx90p[0]-d1-gauss2-freq_offset        : -53.000 MHz 2pi \n",
      "rx90p[0]-d1-gauss2-xy_angle           : -444.089 arad \n",
      "rx90p[0]-d1-gauss2-delta              : -1.000  \n",
      "rx90p[0]-d1-gauss3-amp                : 220.000 mV \n",
      "rx90p[0]-d1-gauss3-freq_offset        : -53.000 MHz 2pi \n",
      "rx90p[0]-d1-gauss3-xy_angle           : -444.089 arad \n",
      "rx90p[0]-d1-gauss3-delta              : -1.000  \n",
      "rx90p[0]-d1-gauss4-amp                : 240.000 mV \n",
      "rx90p[0]-d1-gauss4-freq_offset        : -53.000 MHz 2pi \n",
      "rx90p[0]-d1-gauss4-xy_angle           : -444.089 arad \n",
      "rx90p[0]-d1-gauss4-delta              : -1.000  \n",
      "rx90p[0]-d1-gauss5-amp                : 260.000 mV \n",
      "rx90p[0]-d1-gauss5-freq_offset        : -53.000 MHz 2pi \n",
      "rx90p[0]-d1-gauss5-xy_angle           : -444.089 arad \n",
      "rx90p[0]-d1-gauss5-delta              : -1.000  \n",
      "rx90p[0]-d1-gauss6-amp                : 280.000 mV \n",
      "rx90p[0]-d1-gauss6-freq_offset        : -53.000 MHz 2pi \n",
      "rx90p[0]-d1-gauss6-xy_angle           : -444.089 arad \n",
      "rx90p[0]-d1-gauss6-delta              : -1.000  \n",
      "rx90p[0]-d1-gauss7-amp                : 300.000 mV \n",
      "rx90p[0]-d1-gauss7-freq_offset        : -53.000 MHz 2pi \n",
      "rx90p[0]-d1-gauss7-xy_angle           : -444.089 arad \n",
      "rx90p[0]-d1-gauss7-delta              : -1.000  \n",
      "rx90p[0]-d1-hann0-amp                 : 160.000 mV \n",
      "rx90p[0]-d1-hann0-freq_offset         : -53.000 MHz 2pi \n",
      "rx90p[0]-d1-hann0-xy_angle            : -444.089 arad \n",
      "rx90p[0]-d1-hann0-delta               : -1.000  \n",
      "rx90p[0]-d1-hann1-amp                 : 180.000 mV \n",
      "rx90p[0]-d1-hann1-freq_offset         : -53.000 MHz 2pi \n",
      "rx90p[0]-d1-hann1-xy_angle            : -444.089 arad \n",
      "rx90p[0]-d1-hann1-delta               : -1.000  \n",
      "rx90p[0]-d1-hann2-amp                 : 200.000 mV \n",
      "rx90p[0]-d1-hann2-freq_offset         : -53.000 MHz 2pi \n",
      "rx90p[0]-d1-hann2-xy_angle            : -444.089 arad \n",
      "rx90p[0]-d1-hann2-delta               : -1.000  \n",
      "rx90p[0]-d1-hann3-amp                 : 220.000 mV \n",
      "rx90p[0]-d1-hann3-freq_offset         : -53.000 MHz 2pi \n",
      "rx90p[0]-d1-hann3-xy_angle            : -444.089 arad \n",
      "rx90p[0]-d1-hann3-delta               : -1.000  \n",
      "rx90p[0]-d1-hann4-amp                 : 240.000 mV \n",
      "rx90p[0]-d1-hann4-freq_offset         : -53.000 MHz 2pi \n",
      "rx90p[0]-d1-hann4-xy_angle            : -444.089 arad \n",
      "rx90p[0]-d1-hann4-delta               : -1.000  \n",
      "rx90p[0]-d1-hann5-amp                 : 260.000 mV \n",
      "rx90p[0]-d1-hann5-freq_offset         : -53.000 MHz 2pi \n",
      "rx90p[0]-d1-hann5-xy_angle            : -444.089 arad \n",
      "rx90p[0]-d1-hann5-delta               : -1.000  \n",
      "rx90p[0]-d1-hann6-amp                 : 280.000 mV \n",
      "rx90p[0]-d1-hann6-freq_offset         : -53.000 MHz 2pi \n",
      "rx90p[0]-d1-hann6-xy_angle            : -444.089 arad \n",
      "rx90p[0]-d1-hann6-delta               : -1.000  \n",
      "rx90p[0]-d1-hann7-amp                 : 300.000 mV \n",
      "rx90p[0]-d1-hann7-freq_offset         : -53.000 MHz 2pi \n",
      "rx90p[0]-d1-hann7-xy_angle            : -444.089 arad \n",
      "rx90p[0]-d1-hann7-delta               : -1.000  \n",
      "rx90p[0]-d1-blackman0-amp             : 160.000 mV \n",
      "rx90p[0]-d1-blackman0-freq_offset     : -53.000 MHz 2pi \n",
      "rx90p[0]-d1-blackman0-xy_angle        : -444.089 arad \n",
      "rx90p[0]-d1-blackman0-delta           : -1.000  \n",
      "rx90p[0]-d1-blackman1-amp             : 180.000 mV \n",
      "rx90p[0]-d1-blackman1-freq_offset     : -53.000 MHz 2pi \n",
      "rx90p[0]-d1-blackman1-xy_angle        : -444.089 arad \n",
      "rx90p[0]-d1-blackman1-delta           : -1.000  \n",
      "rx90p[0]-d1-blackman2-amp             : 200.000 mV \n",
      "rx90p[0]-d1-blackman2-freq_offset     : -53.000 MHz 2pi \n",
      "rx90p[0]-d1-blackman2-xy_angle        : -444.089 arad \n",
      "rx90p[0]-d1-blackman2-delta           : -1.000  \n",
      "rx90p[0]-d1-blackman3-amp             : 220.000 mV \n",
      "rx90p[0]-d1-blackman3-freq_offset     : -53.000 MHz 2pi \n",
      "rx90p[0]-d1-blackman3-xy_angle        : -444.089 arad \n",
      "rx90p[0]-d1-blackman3-delta           : -1.000  \n",
      "rx90p[0]-d1-blackman4-amp             : 240.000 mV \n",
      "rx90p[0]-d1-blackman4-freq_offset     : -53.000 MHz 2pi \n",
      "rx90p[0]-d1-blackman4-xy_angle        : -444.089 arad \n",
      "rx90p[0]-d1-blackman4-delta           : -1.000  \n",
      "rx90p[0]-d1-blackman5-amp             : 260.000 mV \n",
      "rx90p[0]-d1-blackman5-freq_offset     : -53.000 MHz 2pi \n",
      "rx90p[0]-d1-blackman5-xy_angle        : -444.089 arad \n",
      "rx90p[0]-d1-blackman5-delta           : -1.000  \n",
      "rx90p[0]-d1-blackman6-amp             : 280.000 mV \n",
      "rx90p[0]-d1-blackman6-freq_offset     : -53.000 MHz 2pi \n",
      "rx90p[0]-d1-blackman6-xy_angle        : -444.089 arad \n",
      "rx90p[0]-d1-blackman6-delta           : -1.000  \n",
      "rx90p[0]-d1-blackman7-amp             : 300.000 mV \n",
      "rx90p[0]-d1-blackman7-freq_offset     : -53.000 MHz 2pi \n",
      "rx90p[0]-d1-blackman7-xy_angle        : -444.089 arad \n",
      "rx90p[0]-d1-blackman7-delta           : -1.000  \n",
      "\n"
     ]
    }
   ],
   "source": [
    "parameter_map.print_parameters()"
   ]
  },
  {
   "cell_type": "markdown",
   "metadata": {},
   "source": [
    "###### Control\n",
    "Fidelity before optimization:"
   ]
  },
  {
   "cell_type": "code",
   "execution_count": 34,
   "metadata": {},
   "outputs": [],
   "source": [
    "ideal_rx90p = parameter_map.instructions['rx90p[0]'].get_ideal_gate(dims=[3])"
   ]
  },
  {
   "cell_type": "code",
   "execution_count": 35,
   "metadata": {},
   "outputs": [
    {
     "data": {
      "text/plain": [
       "0.6504387206034784"
      ]
     },
     "execution_count": 35,
     "metadata": {},
     "output_type": "execute_result"
    }
   ],
   "source": [
    "1 - fidelities.unitary_infid(ideal_rx90p, exp.propagators['rx90p[0]'], dims=[3]).numpy()[0]"
   ]
  },
  {
   "cell_type": "code",
   "execution_count": 36,
   "metadata": {},
   "outputs": [],
   "source": [
    "from c3.optimizers.optimalcontrol import OptimalControl"
   ]
  },
  {
   "cell_type": "code",
   "execution_count": 37,
   "metadata": {
    "code_folding": [
     10,
     15
    ]
   },
   "outputs": [],
   "source": [
    "import os\n",
    "import tempfile\n",
    "\n",
    "# Create a temporary directory to store logfiles, modify as needed\n",
    "log_dir = os.path.join(tempfile.TemporaryDirectory().name, \"c3logs\")\n",
    "fid_func = lambda *args, **kwargs: fidelities.sparse_unitary_infid_set(*args, \n",
    "                                                                       reg_strength=5e-2,\n",
    "                                                                       loss_func_type='sumOverSqrtMax',\n",
    "                                                                       **kwargs)\n",
    "\n",
    "lbfgs_options = {\"maxfun\" : 10**100, 'maxiter': 10**6,  'iprint': 0,\n",
    "                 'eps': 0, 'gtol': 0, 'ftol': 0, 'maxls': 10**6, \n",
    "                 'maxcor': 100}\n",
    "cmaes_options = {'maxiter': 10**4}\n",
    "\n",
    "opt = OptimalControl(\n",
    "    dir_path=log_dir,\n",
    "    fid_func=fid_func,\n",
    "    fid_subspace=[\"Q1\"],\n",
    "    pmap=parameter_map,\n",
    "    algorithm=algorithms.lbfgs,\n",
    "    options=lbfgs_options,\n",
    "    run_name=\"opt_multi_same_pulse\"\n",
    ")"
   ]
  },
  {
   "cell_type": "code",
   "execution_count": 38,
   "metadata": {},
   "outputs": [],
   "source": [
    "exp.set_opt_gates(opt_gates)\n",
    "opt.set_exp(exp)"
   ]
  },
  {
   "cell_type": "code",
   "execution_count": 39,
   "metadata": {
    "scrolled": true
   },
   "outputs": [
    {
     "name": "stdout",
     "output_type": "stream",
     "text": [
      "C3:STATUS:Saving as: C:\\Users\\YONATA~1\\AppData\\Local\\Temp\\tmpbzrr5xqm\\c3logs\\opt_multi_same_pulse\\2022_08_11_T_15_45_57\\open_loop.c3log\n"
     ]
    },
    {
     "name": "stderr",
     "output_type": "stream",
     "text": [
      "C:\\Users\\Yonatan Gideoni\\Desktop\\ML4Q\\c3\\c3\\utils\\utils.py:64: UserWarning: OSError encountered while creating symlink\n",
      "  warnings.warn(\"OSError encountered while creating symlink\")\n",
      "C:\\Users\\Yonatan Gideoni\\Desktop\\ML4Q\\c3\\c3\\optimizers\\optimizer.py:296: Warning: rx90p[0]-d1-gauss0-delta has no gradient. This might indicate no usage for current experiment.\n",
      "  warnings.warn(\n",
      "C:\\Users\\Yonatan Gideoni\\Desktop\\ML4Q\\c3\\c3\\optimizers\\optimizer.py:296: Warning: rx90p[0]-d1-gauss1-delta has no gradient. This might indicate no usage for current experiment.\n",
      "  warnings.warn(\n",
      "C:\\Users\\Yonatan Gideoni\\Desktop\\ML4Q\\c3\\c3\\optimizers\\optimizer.py:296: Warning: rx90p[0]-d1-gauss2-delta has no gradient. This might indicate no usage for current experiment.\n",
      "  warnings.warn(\n",
      "C:\\Users\\Yonatan Gideoni\\Desktop\\ML4Q\\c3\\c3\\optimizers\\optimizer.py:296: Warning: rx90p[0]-d1-gauss3-delta has no gradient. This might indicate no usage for current experiment.\n",
      "  warnings.warn(\n",
      "C:\\Users\\Yonatan Gideoni\\Desktop\\ML4Q\\c3\\c3\\optimizers\\optimizer.py:296: Warning: rx90p[0]-d1-gauss4-delta has no gradient. This might indicate no usage for current experiment.\n",
      "  warnings.warn(\n",
      "C:\\Users\\Yonatan Gideoni\\Desktop\\ML4Q\\c3\\c3\\optimizers\\optimizer.py:296: Warning: rx90p[0]-d1-gauss5-delta has no gradient. This might indicate no usage for current experiment.\n",
      "  warnings.warn(\n",
      "C:\\Users\\Yonatan Gideoni\\Desktop\\ML4Q\\c3\\c3\\optimizers\\optimizer.py:296: Warning: rx90p[0]-d1-gauss6-delta has no gradient. This might indicate no usage for current experiment.\n",
      "  warnings.warn(\n",
      "C:\\Users\\Yonatan Gideoni\\Desktop\\ML4Q\\c3\\c3\\optimizers\\optimizer.py:296: Warning: rx90p[0]-d1-gauss7-delta has no gradient. This might indicate no usage for current experiment.\n",
      "  warnings.warn(\n",
      "C:\\Users\\Yonatan Gideoni\\Desktop\\ML4Q\\c3\\c3\\optimizers\\optimizer.py:296: Warning: rx90p[0]-d1-hann0-delta has no gradient. This might indicate no usage for current experiment.\n",
      "  warnings.warn(\n",
      "C:\\Users\\Yonatan Gideoni\\Desktop\\ML4Q\\c3\\c3\\optimizers\\optimizer.py:296: Warning: rx90p[0]-d1-hann1-delta has no gradient. This might indicate no usage for current experiment.\n",
      "  warnings.warn(\n",
      "C:\\Users\\Yonatan Gideoni\\Desktop\\ML4Q\\c3\\c3\\optimizers\\optimizer.py:296: Warning: rx90p[0]-d1-hann2-delta has no gradient. This might indicate no usage for current experiment.\n",
      "  warnings.warn(\n",
      "C:\\Users\\Yonatan Gideoni\\Desktop\\ML4Q\\c3\\c3\\optimizers\\optimizer.py:296: Warning: rx90p[0]-d1-hann3-delta has no gradient. This might indicate no usage for current experiment.\n",
      "  warnings.warn(\n",
      "C:\\Users\\Yonatan Gideoni\\Desktop\\ML4Q\\c3\\c3\\optimizers\\optimizer.py:296: Warning: rx90p[0]-d1-hann4-delta has no gradient. This might indicate no usage for current experiment.\n",
      "  warnings.warn(\n",
      "C:\\Users\\Yonatan Gideoni\\Desktop\\ML4Q\\c3\\c3\\optimizers\\optimizer.py:296: Warning: rx90p[0]-d1-hann5-delta has no gradient. This might indicate no usage for current experiment.\n",
      "  warnings.warn(\n",
      "C:\\Users\\Yonatan Gideoni\\Desktop\\ML4Q\\c3\\c3\\optimizers\\optimizer.py:296: Warning: rx90p[0]-d1-hann6-delta has no gradient. This might indicate no usage for current experiment.\n",
      "  warnings.warn(\n",
      "C:\\Users\\Yonatan Gideoni\\Desktop\\ML4Q\\c3\\c3\\optimizers\\optimizer.py:296: Warning: rx90p[0]-d1-hann7-delta has no gradient. This might indicate no usage for current experiment.\n",
      "  warnings.warn(\n",
      "C:\\Users\\Yonatan Gideoni\\Desktop\\ML4Q\\c3\\c3\\optimizers\\optimizer.py:296: Warning: rx90p[0]-d1-blackman0-delta has no gradient. This might indicate no usage for current experiment.\n",
      "  warnings.warn(\n",
      "C:\\Users\\Yonatan Gideoni\\Desktop\\ML4Q\\c3\\c3\\optimizers\\optimizer.py:296: Warning: rx90p[0]-d1-blackman1-delta has no gradient. This might indicate no usage for current experiment.\n",
      "  warnings.warn(\n",
      "C:\\Users\\Yonatan Gideoni\\Desktop\\ML4Q\\c3\\c3\\optimizers\\optimizer.py:296: Warning: rx90p[0]-d1-blackman2-delta has no gradient. This might indicate no usage for current experiment.\n",
      "  warnings.warn(\n",
      "C:\\Users\\Yonatan Gideoni\\Desktop\\ML4Q\\c3\\c3\\optimizers\\optimizer.py:296: Warning: rx90p[0]-d1-blackman3-delta has no gradient. This might indicate no usage for current experiment.\n",
      "  warnings.warn(\n",
      "C:\\Users\\Yonatan Gideoni\\Desktop\\ML4Q\\c3\\c3\\optimizers\\optimizer.py:296: Warning: rx90p[0]-d1-blackman4-delta has no gradient. This might indicate no usage for current experiment.\n",
      "  warnings.warn(\n",
      "C:\\Users\\Yonatan Gideoni\\Desktop\\ML4Q\\c3\\c3\\optimizers\\optimizer.py:296: Warning: rx90p[0]-d1-blackman5-delta has no gradient. This might indicate no usage for current experiment.\n",
      "  warnings.warn(\n",
      "C:\\Users\\Yonatan Gideoni\\Desktop\\ML4Q\\c3\\c3\\optimizers\\optimizer.py:296: Warning: rx90p[0]-d1-blackman6-delta has no gradient. This might indicate no usage for current experiment.\n",
      "  warnings.warn(\n",
      "C:\\Users\\Yonatan Gideoni\\Desktop\\ML4Q\\c3\\c3\\optimizers\\optimizer.py:296: Warning: rx90p[0]-d1-blackman7-delta has no gradient. This might indicate no usage for current experiment.\n",
      "  warnings.warn(\n",
      "C:\\Users\\Yonatan Gideoni\\Desktop\\ML4Q\\c3\\c3\\optimizers\\optimizer.py:296: Warning: rx90p[0]-d1-gauss0-freq_offset has no gradient. This might indicate no usage for current experiment.\n",
      "  warnings.warn(\n",
      "C:\\Users\\Yonatan Gideoni\\Desktop\\ML4Q\\c3\\c3\\optimizers\\optimizer.py:296: Warning: rx90p[0]-d1-gauss0-xy_angle has no gradient. This might indicate no usage for current experiment.\n",
      "  warnings.warn(\n",
      "C:\\Users\\Yonatan Gideoni\\Desktop\\ML4Q\\c3\\c3\\optimizers\\optimizer.py:296: Warning: rx90p[0]-d1-hann7-freq_offset has no gradient. This might indicate no usage for current experiment.\n",
      "  warnings.warn(\n",
      "C:\\Users\\Yonatan Gideoni\\Desktop\\ML4Q\\c3\\c3\\optimizers\\optimizer.py:296: Warning: rx90p[0]-d1-hann7-xy_angle has no gradient. This might indicate no usage for current experiment.\n",
      "  warnings.warn(\n",
      "C:\\Users\\Yonatan Gideoni\\Desktop\\ML4Q\\c3\\c3\\optimizers\\optimizer.py:296: Warning: rx90p[0]-d1-gauss3-freq_offset has no gradient. This might indicate no usage for current experiment.\n",
      "  warnings.warn(\n",
      "C:\\Users\\Yonatan Gideoni\\Desktop\\ML4Q\\c3\\c3\\optimizers\\optimizer.py:296: Warning: rx90p[0]-d1-gauss3-xy_angle has no gradient. This might indicate no usage for current experiment.\n",
      "  warnings.warn(\n",
      "C:\\Users\\Yonatan Gideoni\\Desktop\\ML4Q\\c3\\c3\\optimizers\\optimizer.py:296: Warning: rx90p[0]-d1-blackman0-freq_offset has no gradient. This might indicate no usage for current experiment.\n",
      "  warnings.warn(\n",
      "C:\\Users\\Yonatan Gideoni\\Desktop\\ML4Q\\c3\\c3\\optimizers\\optimizer.py:296: Warning: rx90p[0]-d1-blackman0-xy_angle has no gradient. This might indicate no usage for current experiment.\n",
      "  warnings.warn(\n",
      "C:\\Users\\Yonatan Gideoni\\Desktop\\ML4Q\\c3\\c3\\optimizers\\optimizer.py:296: Warning: rx90p[0]-d1-hann3-freq_offset has no gradient. This might indicate no usage for current experiment.\n",
      "  warnings.warn(\n",
      "C:\\Users\\Yonatan Gideoni\\Desktop\\ML4Q\\c3\\c3\\optimizers\\optimizer.py:296: Warning: rx90p[0]-d1-hann3-xy_angle has no gradient. This might indicate no usage for current experiment.\n",
      "  warnings.warn(\n",
      "C:\\Users\\Yonatan Gideoni\\Desktop\\ML4Q\\c3\\c3\\optimizers\\optimizer.py:296: Warning: rx90p[0]-d1-blackman4-freq_offset has no gradient. This might indicate no usage for current experiment.\n",
      "  warnings.warn(\n",
      "C:\\Users\\Yonatan Gideoni\\Desktop\\ML4Q\\c3\\c3\\optimizers\\optimizer.py:296: Warning: rx90p[0]-d1-blackman4-xy_angle has no gradient. This might indicate no usage for current experiment.\n",
      "  warnings.warn(\n",
      "C:\\Users\\Yonatan Gideoni\\Desktop\\ML4Q\\c3\\c3\\optimizers\\optimizer.py:296: Warning: rx90p[0]-d1-blackman7-freq_offset has no gradient. This might indicate no usage for current experiment.\n",
      "  warnings.warn(\n",
      "C:\\Users\\Yonatan Gideoni\\Desktop\\ML4Q\\c3\\c3\\optimizers\\optimizer.py:296: Warning: rx90p[0]-d1-blackman7-xy_angle has no gradient. This might indicate no usage for current experiment.\n",
      "  warnings.warn(\n",
      "C:\\Users\\Yonatan Gideoni\\Desktop\\ML4Q\\c3\\c3\\optimizers\\optimizer.py:296: Warning: rx90p[0]-d1-blackman3-freq_offset has no gradient. This might indicate no usage for current experiment.\n",
      "  warnings.warn(\n",
      "C:\\Users\\Yonatan Gideoni\\Desktop\\ML4Q\\c3\\c3\\optimizers\\optimizer.py:296: Warning: rx90p[0]-d1-blackman3-xy_angle has no gradient. This might indicate no usage for current experiment.\n",
      "  warnings.warn(\n",
      "C:\\Users\\Yonatan Gideoni\\Desktop\\ML4Q\\c3\\c3\\optimizers\\optimizer.py:296: Warning: rx90p[0]-d1-gauss2-freq_offset has no gradient. This might indicate no usage for current experiment.\n",
      "  warnings.warn(\n",
      "C:\\Users\\Yonatan Gideoni\\Desktop\\ML4Q\\c3\\c3\\optimizers\\optimizer.py:296: Warning: rx90p[0]-d1-gauss2-xy_angle has no gradient. This might indicate no usage for current experiment.\n",
      "  warnings.warn(\n"
     ]
    },
    {
     "name": "stderr",
     "output_type": "stream",
     "text": [
      "C:\\Users\\Yonatan Gideoni\\Desktop\\ML4Q\\c3\\c3\\optimizers\\optimizer.py:296: Warning: rx90p[0]-d1-blackman6-freq_offset has no gradient. This might indicate no usage for current experiment.\n",
      "  warnings.warn(\n",
      "C:\\Users\\Yonatan Gideoni\\Desktop\\ML4Q\\c3\\c3\\optimizers\\optimizer.py:296: Warning: rx90p[0]-d1-blackman6-xy_angle has no gradient. This might indicate no usage for current experiment.\n",
      "  warnings.warn(\n",
      "C:\\Users\\Yonatan Gideoni\\Desktop\\ML4Q\\c3\\c3\\optimizers\\optimizer.py:296: Warning: rx90p[0]-d1-gauss5-freq_offset has no gradient. This might indicate no usage for current experiment.\n",
      "  warnings.warn(\n",
      "C:\\Users\\Yonatan Gideoni\\Desktop\\ML4Q\\c3\\c3\\optimizers\\optimizer.py:296: Warning: rx90p[0]-d1-gauss5-xy_angle has no gradient. This might indicate no usage for current experiment.\n",
      "  warnings.warn(\n",
      "C:\\Users\\Yonatan Gideoni\\Desktop\\ML4Q\\c3\\c3\\optimizers\\optimizer.py:296: Warning: rx90p[0]-d1-gauss6-freq_offset has no gradient. This might indicate no usage for current experiment.\n",
      "  warnings.warn(\n",
      "C:\\Users\\Yonatan Gideoni\\Desktop\\ML4Q\\c3\\c3\\optimizers\\optimizer.py:296: Warning: rx90p[0]-d1-gauss6-xy_angle has no gradient. This might indicate no usage for current experiment.\n",
      "  warnings.warn(\n",
      "C:\\Users\\Yonatan Gideoni\\Desktop\\ML4Q\\c3\\c3\\optimizers\\optimizer.py:296: Warning: rx90p[0]-d1-hann0-freq_offset has no gradient. This might indicate no usage for current experiment.\n",
      "  warnings.warn(\n",
      "C:\\Users\\Yonatan Gideoni\\Desktop\\ML4Q\\c3\\c3\\optimizers\\optimizer.py:296: Warning: rx90p[0]-d1-hann0-xy_angle has no gradient. This might indicate no usage for current experiment.\n",
      "  warnings.warn(\n",
      "C:\\Users\\Yonatan Gideoni\\Desktop\\ML4Q\\c3\\c3\\optimizers\\optimizer.py:296: Warning: rx90p[0]-d1-hann2-freq_offset has no gradient. This might indicate no usage for current experiment.\n",
      "  warnings.warn(\n",
      "C:\\Users\\Yonatan Gideoni\\Desktop\\ML4Q\\c3\\c3\\optimizers\\optimizer.py:296: Warning: rx90p[0]-d1-hann2-xy_angle has no gradient. This might indicate no usage for current experiment.\n",
      "  warnings.warn(\n",
      "C:\\Users\\Yonatan Gideoni\\Desktop\\ML4Q\\c3\\c3\\optimizers\\optimizer.py:296: Warning: rx90p[0]-d1-blackman2-freq_offset has no gradient. This might indicate no usage for current experiment.\n",
      "  warnings.warn(\n",
      "C:\\Users\\Yonatan Gideoni\\Desktop\\ML4Q\\c3\\c3\\optimizers\\optimizer.py:296: Warning: rx90p[0]-d1-blackman2-xy_angle has no gradient. This might indicate no usage for current experiment.\n",
      "  warnings.warn(\n",
      "C:\\Users\\Yonatan Gideoni\\Desktop\\ML4Q\\c3\\c3\\optimizers\\optimizer.py:296: Warning: rx90p[0]-d1-gauss1-freq_offset has no gradient. This might indicate no usage for current experiment.\n",
      "  warnings.warn(\n",
      "C:\\Users\\Yonatan Gideoni\\Desktop\\ML4Q\\c3\\c3\\optimizers\\optimizer.py:296: Warning: rx90p[0]-d1-gauss1-xy_angle has no gradient. This might indicate no usage for current experiment.\n",
      "  warnings.warn(\n",
      "C:\\Users\\Yonatan Gideoni\\Desktop\\ML4Q\\c3\\c3\\optimizers\\optimizer.py:296: Warning: rx90p[0]-d1-blackman1-freq_offset has no gradient. This might indicate no usage for current experiment.\n",
      "  warnings.warn(\n",
      "C:\\Users\\Yonatan Gideoni\\Desktop\\ML4Q\\c3\\c3\\optimizers\\optimizer.py:296: Warning: rx90p[0]-d1-blackman1-xy_angle has no gradient. This might indicate no usage for current experiment.\n",
      "  warnings.warn(\n",
      "C:\\Users\\Yonatan Gideoni\\Desktop\\ML4Q\\c3\\c3\\optimizers\\optimizer.py:296: Warning: rx90p[0]-d1-hann1-freq_offset has no gradient. This might indicate no usage for current experiment.\n",
      "  warnings.warn(\n",
      "C:\\Users\\Yonatan Gideoni\\Desktop\\ML4Q\\c3\\c3\\optimizers\\optimizer.py:296: Warning: rx90p[0]-d1-hann1-xy_angle has no gradient. This might indicate no usage for current experiment.\n",
      "  warnings.warn(\n",
      "C:\\Users\\Yonatan Gideoni\\Desktop\\ML4Q\\c3\\c3\\optimizers\\optimizer.py:296: Warning: rx90p[0]-d1-blackman5-freq_offset has no gradient. This might indicate no usage for current experiment.\n",
      "  warnings.warn(\n",
      "C:\\Users\\Yonatan Gideoni\\Desktop\\ML4Q\\c3\\c3\\optimizers\\optimizer.py:296: Warning: rx90p[0]-d1-blackman5-xy_angle has no gradient. This might indicate no usage for current experiment.\n",
      "  warnings.warn(\n",
      "C:\\Users\\Yonatan Gideoni\\Desktop\\ML4Q\\c3\\c3\\optimizers\\optimizer.py:296: Warning: rx90p[0]-d1-hann4-freq_offset has no gradient. This might indicate no usage for current experiment.\n",
      "  warnings.warn(\n",
      "C:\\Users\\Yonatan Gideoni\\Desktop\\ML4Q\\c3\\c3\\optimizers\\optimizer.py:296: Warning: rx90p[0]-d1-hann4-xy_angle has no gradient. This might indicate no usage for current experiment.\n",
      "  warnings.warn(\n",
      "C:\\Users\\Yonatan Gideoni\\Desktop\\ML4Q\\c3\\c3\\optimizers\\optimizer.py:296: Warning: rx90p[0]-d1-gauss4-freq_offset has no gradient. This might indicate no usage for current experiment.\n",
      "  warnings.warn(\n",
      "C:\\Users\\Yonatan Gideoni\\Desktop\\ML4Q\\c3\\c3\\optimizers\\optimizer.py:296: Warning: rx90p[0]-d1-gauss4-xy_angle has no gradient. This might indicate no usage for current experiment.\n",
      "  warnings.warn(\n",
      "C:\\Users\\Yonatan Gideoni\\Desktop\\ML4Q\\c3\\c3\\optimizers\\optimizer.py:296: Warning: rx90p[0]-d1-hann6-freq_offset has no gradient. This might indicate no usage for current experiment.\n",
      "  warnings.warn(\n",
      "C:\\Users\\Yonatan Gideoni\\Desktop\\ML4Q\\c3\\c3\\optimizers\\optimizer.py:296: Warning: rx90p[0]-d1-hann6-xy_angle has no gradient. This might indicate no usage for current experiment.\n",
      "  warnings.warn(\n",
      "C:\\Users\\Yonatan Gideoni\\Desktop\\ML4Q\\c3\\c3\\optimizers\\optimizer.py:296: Warning: rx90p[0]-d1-hann5-freq_offset has no gradient. This might indicate no usage for current experiment.\n",
      "  warnings.warn(\n",
      "C:\\Users\\Yonatan Gideoni\\Desktop\\ML4Q\\c3\\c3\\optimizers\\optimizer.py:296: Warning: rx90p[0]-d1-hann5-xy_angle has no gradient. This might indicate no usage for current experiment.\n",
      "  warnings.warn(\n"
     ]
    }
   ],
   "source": [
    "opt_res = opt.optimize_controls()"
   ]
  },
  {
   "cell_type": "code",
   "execution_count": 40,
   "metadata": {},
   "outputs": [
    {
     "name": "stdout",
     "output_type": "stream",
     "text": [
      "9.21e-02\n"
     ]
    }
   ],
   "source": [
    "print(f'{opt.current_best_goal:.2e}')"
   ]
  },
  {
   "cell_type": "markdown",
   "metadata": {},
   "source": [
    "Results for same gate sequence as before post-optimization:"
   ]
  },
  {
   "cell_type": "code",
   "execution_count": 41,
   "metadata": {
    "scrolled": true
   },
   "outputs": [
    {
     "data": {
      "image/png": "[encoded data removed]",
      "text/plain": [
       "<Figure size 432x288 with 1 Axes>"
      ]
     },
     "metadata": {
      "needs_background": "light"
     },
     "output_type": "display_data"
    }
   ],
   "source": [
    "plot_dynamics(exp, init_state, gate_seq)"
   ]
  },
  {
   "cell_type": "code",
   "execution_count": 42,
   "metadata": {},
   "outputs": [
    {
     "data": {
      "image/png": "[encoded data removed]",
      "text/plain": [
       "<Figure size 432x288 with 1 Axes>"
      ]
     },
     "metadata": {
      "needs_background": "light"
     },
     "output_type": "display_data"
    }
   ],
   "source": [
    "plot_dynamics(exp, init_state, gate_seq * 5)"
   ]
  },
  {
   "cell_type": "markdown",
   "metadata": {},
   "source": [
    "Optimal parameters and fidelity post-optimization:"
   ]
  },
  {
   "cell_type": "code",
   "execution_count": 43,
   "metadata": {
    "scrolled": true
   },
   "outputs": [
    {
     "name": "stdout",
     "output_type": "stream",
     "text": [
      "rx90p[0]-d1-carrier-framechange       : 354.005 mrad \n",
      "rx90p[0]-d1-gauss0-amp                : 0.000 V \n",
      "rx90p[0]-d1-gauss0-freq_offset        : -53.000 MHz 2pi \n",
      "rx90p[0]-d1-gauss0-xy_angle           : -22.091 mrad \n",
      "rx90p[0]-d1-gauss0-delta              : -1.000  \n",
      "rx90p[0]-d1-gauss1-amp                : 0.000 V \n",
      "rx90p[0]-d1-gauss1-freq_offset        : -53.000 MHz 2pi \n",
      "rx90p[0]-d1-gauss1-xy_angle           : -18.602 mrad \n",
      "rx90p[0]-d1-gauss1-delta              : -1.000  \n",
      "rx90p[0]-d1-gauss2-amp                : 0.000 V \n",
      "rx90p[0]-d1-gauss2-freq_offset        : -53.000 MHz 2pi \n",
      "rx90p[0]-d1-gauss2-xy_angle           : -15.162 mrad \n",
      "rx90p[0]-d1-gauss2-delta              : -1.000  \n",
      "rx90p[0]-d1-gauss3-amp                : 577.034 nV \n",
      "rx90p[0]-d1-gauss3-freq_offset        : -53.000 MHz 2pi \n",
      "rx90p[0]-d1-gauss3-xy_angle           : -3.761 mrad \n",
      "rx90p[0]-d1-gauss3-delta              : -1.000  \n",
      "rx90p[0]-d1-gauss4-amp                : 0.000 V \n",
      "rx90p[0]-d1-gauss4-freq_offset        : -53.000 MHz 2pi \n",
      "rx90p[0]-d1-gauss4-xy_angle           : -4.899 mrad \n",
      "rx90p[0]-d1-gauss4-delta              : -1.000  \n",
      "rx90p[0]-d1-gauss5-amp                : 0.000 V \n",
      "rx90p[0]-d1-gauss5-freq_offset        : -53.000 MHz 2pi \n",
      "rx90p[0]-d1-gauss5-xy_angle           : -9.959 mrad \n",
      "rx90p[0]-d1-gauss5-delta              : -1.000  \n",
      "rx90p[0]-d1-gauss6-amp                : 0.000 V \n",
      "rx90p[0]-d1-gauss6-freq_offset        : -53.000 MHz 2pi \n",
      "rx90p[0]-d1-gauss6-xy_angle           : -11.410 mrad \n",
      "rx90p[0]-d1-gauss6-delta              : -1.000  \n",
      "rx90p[0]-d1-gauss7-amp                : 3.057 V \n",
      "rx90p[0]-d1-gauss7-freq_offset        : -52.000 MHz 2pi \n",
      "rx90p[0]-d1-gauss7-xy_angle           : -155.984 mrad \n",
      "rx90p[0]-d1-gauss7-delta              : -1.000  \n",
      "rx90p[0]-d1-hann0-amp                 : 0.000 V \n",
      "rx90p[0]-d1-hann0-freq_offset         : -53.000 MHz 2pi \n",
      "rx90p[0]-d1-hann0-xy_angle            : -14.430 mrad \n",
      "rx90p[0]-d1-hann0-delta               : -1.000  \n",
      "rx90p[0]-d1-hann1-amp                 : 0.000 V \n",
      "rx90p[0]-d1-hann1-freq_offset         : -53.000 MHz 2pi \n",
      "rx90p[0]-d1-hann1-xy_angle            : -12.398 mrad \n",
      "rx90p[0]-d1-hann1-delta               : -1.000  \n",
      "rx90p[0]-d1-hann2-amp                 : 0.000 V \n",
      "rx90p[0]-d1-hann2-freq_offset         : -53.000 MHz 2pi \n",
      "rx90p[0]-d1-hann2-xy_angle            : -8.126 mrad \n",
      "rx90p[0]-d1-hann2-delta               : -1.000  \n",
      "rx90p[0]-d1-hann3-amp                 : 0.000 V \n",
      "rx90p[0]-d1-hann3-freq_offset         : -53.000 MHz 2pi \n",
      "rx90p[0]-d1-hann3-xy_angle            : -3.621 mrad \n",
      "rx90p[0]-d1-hann3-delta               : -1.000  \n",
      "rx90p[0]-d1-hann4-amp                 : 0.000 V \n",
      "rx90p[0]-d1-hann4-freq_offset         : -53.000 MHz 2pi \n",
      "rx90p[0]-d1-hann4-xy_angle            : -4.389 mrad \n",
      "rx90p[0]-d1-hann4-delta               : -1.000  \n",
      "rx90p[0]-d1-hann5-amp                 : 0.000 V \n",
      "rx90p[0]-d1-hann5-freq_offset         : -53.000 MHz 2pi \n",
      "rx90p[0]-d1-hann5-xy_angle            : -4.133 mrad \n",
      "rx90p[0]-d1-hann5-delta               : -1.000  \n",
      "rx90p[0]-d1-hann6-amp                 : 94.864 nV \n",
      "rx90p[0]-d1-hann6-freq_offset         : -53.000 MHz 2pi \n",
      "rx90p[0]-d1-hann6-xy_angle            : -10.039 mrad \n",
      "rx90p[0]-d1-hann6-delta               : -1.000  \n",
      "rx90p[0]-d1-hann7-amp                 : 0.000 V \n",
      "rx90p[0]-d1-hann7-freq_offset         : -53.000 MHz 2pi \n",
      "rx90p[0]-d1-hann7-xy_angle            : -40.747 mrad \n",
      "rx90p[0]-d1-hann7-delta               : -1.000  \n",
      "rx90p[0]-d1-blackman0-amp             : 0.000 V \n",
      "rx90p[0]-d1-blackman0-freq_offset     : -53.000 MHz 2pi \n",
      "rx90p[0]-d1-blackman0-xy_angle        : -13.198 mrad \n",
      "rx90p[0]-d1-blackman0-delta           : -1.000  \n",
      "rx90p[0]-d1-blackman1-amp             : 0.000 V \n",
      "rx90p[0]-d1-blackman1-freq_offset     : -53.000 MHz 2pi \n",
      "rx90p[0]-d1-blackman1-xy_angle        : -11.650 mrad \n",
      "rx90p[0]-d1-blackman1-delta           : -1.000  \n",
      "rx90p[0]-d1-blackman2-amp             : 0.000 V \n",
      "rx90p[0]-d1-blackman2-freq_offset     : -53.000 MHz 2pi \n",
      "rx90p[0]-d1-blackman2-xy_angle        : -5.718 mrad \n",
      "rx90p[0]-d1-blackman2-delta           : -1.000  \n",
      "rx90p[0]-d1-blackman3-amp             : 0.000 V \n",
      "rx90p[0]-d1-blackman3-freq_offset     : -53.000 MHz 2pi \n",
      "rx90p[0]-d1-blackman3-xy_angle        : -2.283 mrad \n",
      "rx90p[0]-d1-blackman3-delta           : -1.000  \n",
      "rx90p[0]-d1-blackman4-amp             : 0.000 V \n",
      "rx90p[0]-d1-blackman4-freq_offset     : -53.000 MHz 2pi \n",
      "rx90p[0]-d1-blackman4-xy_angle        : -2.856 mrad \n",
      "rx90p[0]-d1-blackman4-delta           : -1.000  \n",
      "rx90p[0]-d1-blackman5-amp             : 0.000 V \n",
      "rx90p[0]-d1-blackman5-freq_offset     : -53.000 MHz 2pi \n",
      "rx90p[0]-d1-blackman5-xy_angle        : -6.280 mrad \n",
      "rx90p[0]-d1-blackman5-delta           : -1.000  \n",
      "rx90p[0]-d1-blackman6-amp             : 94.864 nV \n",
      "rx90p[0]-d1-blackman6-freq_offset     : -53.000 MHz 2pi \n",
      "rx90p[0]-d1-blackman6-xy_angle        : -6.805 mrad \n",
      "rx90p[0]-d1-blackman6-delta           : -1.000  \n",
      "rx90p[0]-d1-blackman7-amp             : 0.000 V \n",
      "rx90p[0]-d1-blackman7-freq_offset     : -52.998 MHz 2pi \n",
      "rx90p[0]-d1-blackman7-xy_angle        : -35.447 mrad \n",
      "rx90p[0]-d1-blackman7-delta           : -1.000  \n",
      "\n"
     ]
    }
   ],
   "source": [
    "parameter_map.print_parameters()"
   ]
  },
  {
   "cell_type": "code",
   "execution_count": 44,
   "metadata": {},
   "outputs": [],
   "source": [
    "ideal_rx90p = parameter_map.instructions['rx90p[0]'].get_ideal_gate(dims=[3])"
   ]
  },
  {
   "cell_type": "code",
   "execution_count": 45,
   "metadata": {},
   "outputs": [
    {
     "data": {
      "text/plain": [
       "0.9953409307785797"
      ]
     },
     "execution_count": 45,
     "metadata": {},
     "output_type": "execute_result"
    }
   ],
   "source": [
    "1 - fidelities.unitary_infid(ideal_rx90p, exp.propagators['rx90p[0]'], dims=[3]).numpy()[0]"
   ]
  },
  {
   "cell_type": "markdown",
   "metadata": {},
   "source": [
    "How the final signal looks:"
   ]
  },
  {
   "cell_type": "code",
   "execution_count": 46,
   "metadata": {
    "code_folding": [
     0,
     12
    ]
   },
   "outputs": [],
   "source": [
    "def plot_signal(signal_envelopes: list, n_points: int= 1000):\n",
    "    t_final = max(signal_envelopes[0].params['t_final'] for env in signal_envelopes).numpy()\n",
    "    signal_t = np.linspace(0, t_final, n_points)\n",
    "    res_signal = np.zeros(len(signal_t), dtype=np.complex128)\n",
    "\n",
    "    for env in signal_envelopes:\n",
    "        amplitude = env.params['amp'].numpy()\n",
    "        signal = env.get_shape_values(signal_t).numpy() * amplitude\n",
    "        res_signal += signal\n",
    "\n",
    "        plt.plot(signal_t*1e9, np.real(signal), label=env.name)\n",
    "\n",
    "    plt.plot(signal_t*1e9, np.real(res_signal), label='Resulting signal', c='k', \n",
    "             linewidth=2, linestyle='dashed')\n",
    "    \n",
    "    plt.title('Real part of pulses')\n",
    "    plt.legend(loc='center left', bbox_to_anchor=(1, 0.5))\n",
    "    plt.grid()\n",
    "    plt.xlabel('Time[ns]')\n",
    "    plt.ylabel('Signal[V]')\n",
    "    plt.xlim(0, t_final*1e9)"
   ]
  },
  {
   "cell_type": "code",
   "execution_count": 47,
   "metadata": {},
   "outputs": [
    {
     "data": {
      "image/png": "[encoded data removed]",
      "text/plain": [
       "<Figure size 432x288 with 1 Axes>"
      ]
     },
     "metadata": {
      "needs_background": "light"
     },
     "output_type": "display_data"
    }
   ],
   "source": [
    "plot_signal(signal_envelopes)"
   ]
  },
  {
   "cell_type": "code",
   "execution_count": null,
   "metadata": {},
   "outputs": [],
   "source": []
  },
  {
   "cell_type": "code",
   "execution_count": 48,
   "metadata": {},
   "outputs": [
    {
     "name": "stdout",
     "output_type": "stream",
     "text": [
      "True\n",
      "CONVERGENCE: REL_REDUCTION_OF_F_<=_FACTR*EPSMCH\n"
     ]
    }
   ],
   "source": [
    "print(opt_res.success)\n",
    "print(opt_res.message)"
   ]
  },
  {
   "cell_type": "code",
   "execution_count": null,
   "metadata": {},
   "outputs": [],
   "source": []
  }
 ],
 "metadata": {
  "interpreter": {
   "hash": "8fc56ae400e717d872a76f4d6b257151d16696a9d0a72e6998d355f9b43887c7"
  },
  "kernelspec": {
   "display_name": "Python 3 (ipykernel)",
   "language": "python",
   "name": "python3"
  },
  "language_info": {
   "codemirror_mode": {
    "name": "ipython",
    "version": 3
   },
   "file_extension": ".py",
   "mimetype": "text/x-python",
   "name": "python",
   "nbconvert_exporter": "python",
   "pygments_lexer": "ipython3",
   "version": "3.8.13"
  }
 },
 "nbformat": 4,
 "nbformat_minor": 4
}
