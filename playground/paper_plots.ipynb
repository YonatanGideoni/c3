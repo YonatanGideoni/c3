{
 "cells": [
  {
   "cell_type": "markdown",
   "source": [
    "Imports"
   ],
   "metadata": {
    "collapsed": false
   }
  },
  {
   "cell_type": "code",
   "execution_count": 104,
   "outputs": [],
   "source": [
    "import os\n",
    "\n",
    "import numpy as np\n",
    "\n",
    "from c3.experiment import Experiment\n",
    "from playground.utils import calc_exp_fid"
   ],
   "metadata": {
    "collapsed": false
   }
  },
  {
   "cell_type": "markdown",
   "source": [
    "SPARSE solutions are robust"
   ],
   "metadata": {
    "collapsed": false
   }
  },
  {
   "cell_type": "code",
   "execution_count": 105,
   "outputs": [],
   "source": [
    "sparse_cx_exp = Experiment()\n",
    "sparse_cx_exp.read_config(os.path.join('plots_exps', 'cx_45ns_ftgu_d1_hann_d2_hann.hjson'))\n",
    "\n",
    "pwc_cx_exp = Experiment()\n",
    "pwc_cx_exp.read_config(os.path.join('plots_exps', 'TODO'))\n",
    "\n",
    "#TODO add frequency basis"
   ],
   "metadata": {
    "collapsed": false
   }
  },
  {
   "cell_type": "code",
   "execution_count": 106,
   "outputs": [],
   "source": [
    "def fid_for_delta_freq(exp: Experiment, delta_freq: float, qubit: int) -> float:\n",
    "    freq = exp.pmap.model.subsystems[f'Q{qubit}'].params['freq']\n",
    "    freq.set_value(freq.numpy() + delta_freq, extend_bounds=True)\n",
    "    exp.pmap.model.update_model()\n",
    "\n",
    "    exp.compute_propagators()\n",
    "    fid = calc_exp_fid(exp)\n",
    "\n",
    "    freq.set_value(freq.numpy() - delta_freq, extend_bounds=True)\n",
    "    exp.pmap.model.update_model()\n",
    "\n",
    "    return fid"
   ],
   "metadata": {
    "collapsed": false
   }
  },
  {
   "cell_type": "code",
   "execution_count": null,
   "outputs": [],
   "source": [
    "n_dfreqs = 10\n",
    "dfreqs = np.linspace(0, 10e6, num=n_dfreqs)"
   ],
   "metadata": {
    "collapsed": false
   }
  },
  {
   "cell_type": "code",
   "execution_count": 107,
   "outputs": [
    {
     "name": "stdout",
     "output_type": "stream",
     "text": [
      "WARNING:tensorflow:You are casting an input of type complex128 to an incompatible dtype float64.  This will discard the imaginary part and may not be what you intended.\n",
      "WARNING:tensorflow:You are casting an input of type complex128 to an incompatible dtype float64.  This will discard the imaginary part and may not be what you intended.\n",
      "WARNING:tensorflow:You are casting an input of type complex128 to an incompatible dtype float64.  This will discard the imaginary part and may not be what you intended.\n",
      "WARNING:tensorflow:You are casting an input of type complex128 to an incompatible dtype float64.  This will discard the imaginary part and may not be what you intended.\n",
      "WARNING:tensorflow:You are casting an input of type complex128 to an incompatible dtype float64.  This will discard the imaginary part and may not be what you intended.\n",
      "WARNING:tensorflow:You are casting an input of type complex128 to an incompatible dtype float64.  This will discard the imaginary part and may not be what you intended.\n",
      "WARNING:tensorflow:You are casting an input of type complex128 to an incompatible dtype float64.  This will discard the imaginary part and may not be what you intended.\n",
      "WARNING:tensorflow:You are casting an input of type complex128 to an incompatible dtype float64.  This will discard the imaginary part and may not be what you intended.\n",
      "WARNING:tensorflow:You are casting an input of type complex128 to an incompatible dtype float64.  This will discard the imaginary part and may not be what you intended.\n",
      "WARNING:tensorflow:You are casting an input of type complex128 to an incompatible dtype float64.  This will discard the imaginary part and may not be what you intended.\n"
     ]
    }
   ],
   "source": [
    "sparse_fids = [fid_for_delta_freq(sparse_cx_exp, dfreq, qubit=1) for dfreq in dfreqs]\n",
    "pwc_fids = [fid_for_delta_freq(pwc_cx_exp, dfreq, qubit=1) for dfreq in dfreqs]"
   ],
   "metadata": {
    "collapsed": false
   }
  },
  {
   "cell_type": "code",
   "execution_count": null,
   "outputs": [],
   "source": [],
   "metadata": {
    "collapsed": false
   }
  }
 ],
 "metadata": {
  "kernelspec": {
   "display_name": "Python 3",
   "language": "python",
   "name": "python3"
  },
  "language_info": {
   "codemirror_mode": {
    "name": "ipython",
    "version": 2
   },
   "file_extension": ".py",
   "mimetype": "text/x-python",
   "name": "python",
   "nbconvert_exporter": "python",
   "pygments_lexer": "ipython2",
   "version": "2.7.6"
  }
 },
 "nbformat": 4,
 "nbformat_minor": 0
}
