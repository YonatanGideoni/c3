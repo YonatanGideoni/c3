{
 "cells": [
  {
   "cell_type": "markdown",
   "metadata": {},
   "source": [
    "### Setup of a two-qubit chip with $C^3$\n",
    "\n",
    "In this example we will set-up a two qubit quantum processor and define a simple gate."
   ]
  },
  {
   "cell_type": "markdown",
   "metadata": {},
   "source": [
    "#### Imports"
   ]
  },
  {
   "cell_type": "code",
   "execution_count": 1,
   "metadata": {
    "ExecuteTime": {
     "end_time": "2020-06-10T13:45:05.684014Z",
     "start_time": "2020-06-10T13:45:04.441825Z"
    }
   },
   "outputs": [],
   "source": [
    "# System imports\n",
    "import copy\n",
    "import numpy as np\n",
    "import time\n",
    "import itertools\n",
    "import matplotlib.pyplot as plt\n",
    "import tensorflow as tf\n",
    "import tensorflow_probability as tfp\n",
    "from pprint import pprint\n",
    "\n",
    "# Main C3 objects\n",
    "from c3.c3objs import Quantity as Qty\n",
    "from c3.parametermap import ParameterMap as PMap\n",
    "from c3.experiment import Experiment as Exp\n",
    "from c3.model import Model as Mdl\n",
    "from c3.generator.generator import Generator as Gnr\n",
    "\n",
    "# Building blocks\n",
    "import c3.generator.devices as devices\n",
    "import c3.signal.gates as gates\n",
    "import c3.libraries.chip as chip\n",
    "import c3.signal.pulse as pulse\n",
    "import c3.libraries.tasks as tasks\n",
    "\n",
    "# Libs and helpers\n",
    "import c3.libraries.algorithms as algorithms\n",
    "import c3.libraries.hamiltonians as hamiltonians\n",
    "import c3.libraries.fidelities as fidelities\n",
    "import c3.libraries.envelopes as envelopes\n",
    "import c3.utils.qt_utils as qt_utils\n",
    "import c3.utils.tf_utils as tf_utils\n",
    "\n",
    "# Qiskit related modules\n",
    "from c3.qiskit import C3Provider\n",
    "from c3.qiskit.c3_gates import RX90pGate\n",
    "from qiskit import QuantumCircuit, Aer, execute\n",
    "from qiskit.tools.visualization import plot_histogram"
   ]
  },
  {
   "cell_type": "markdown",
   "metadata": {},
   "source": [
    "#### Model components\n",
    "We first create a qubit. Each parameter is a Quantity (`Qty()`) object with bounds and a unit. In $C^3$, the default multi-level qubit is a Transmon modelled as a Duffing oscillator with frequency $\\omega$ and anharmonicity $\\delta$ :\n",
    "$$ H/\\hbar = \\omega b^\\dagger b - \\frac{\\delta}{2}                        \\left(b^\\dagger b - 1\\right) b^\\dagger b \n",
    "$$\n",
    "The \"name\" will be used to identify this qubit (or other component) later and should thus be chosen carefully."
   ]
  },
  {
   "cell_type": "code",
   "execution_count": 2,
   "metadata": {
    "ExecuteTime": {
     "end_time": "2020-06-10T13:45:05.684014Z",
     "start_time": "2020-06-10T13:45:04.441825Z"
    }
   },
   "outputs": [],
   "source": [
    "qubit_lvls = 3\n",
    "freq_q1 = 5e9\n",
    "anhar_q1 = -210e6\n",
    "t1_q1 = 27e-6\n",
    "t2star_q1 = 39e-6\n",
    "qubit_temp = 50e-3\n",
    "\n",
    "q1 = chip.Qubit(\n",
    "    name=\"Q1\",\n",
    "    desc=\"Qubit 1\",\n",
    "    freq=Qty(\n",
    "        value=freq_q1,\n",
    "        min_val=4.995e9 ,\n",
    "        max_val=5.005e9 ,\n",
    "        unit='Hz 2pi'\n",
    "    ),\n",
    "    anhar=Qty(\n",
    "        value=anhar_q1,\n",
    "        min_val=-380e6 ,\n",
    "        max_val=-120e6 ,\n",
    "        unit='Hz 2pi'\n",
    "    ),\n",
    "    hilbert_dim=qubit_lvls,\n",
    "    t1=Qty(\n",
    "        value=t1_q1,\n",
    "        min_val=1e-6,\n",
    "        max_val=90e-6,\n",
    "        unit='s'\n",
    "    ),\n",
    "    t2star=Qty(\n",
    "        value=t2star_q1,\n",
    "        min_val=10e-6,\n",
    "        max_val=90e-3,\n",
    "        unit='s'\n",
    "    ),\n",
    "    temp=Qty(\n",
    "        value=qubit_temp,\n",
    "        min_val=0.0,\n",
    "        max_val=0.12,\n",
    "        unit='K'\n",
    "    )\n",
    ")"
   ]
  },
  {
   "cell_type": "markdown",
   "metadata": {},
   "source": [
    "In the same spirit, we specify control Hamiltonians to drive the system. Again \"connected\" connected tells us which qubit this drive acts on and \"name\" will later be used to assign the correct control signal to this drive line."
   ]
  },
  {
   "cell_type": "code",
   "execution_count": 3,
   "metadata": {
    "ExecuteTime": {
     "end_time": "2020-06-10T13:45:05.684014Z",
     "start_time": "2020-06-10T13:45:04.441825Z"
    }
   },
   "outputs": [],
   "source": [
    "drive = chip.Drive(\n",
    "    name=\"d1\",\n",
    "    desc=\"Drive 1\",\n",
    "    comment=\"Drive line 1 on qubit 1\",\n",
    "    connected=[\"Q1\"],\n",
    "    hamiltonian_func=hamiltonians.x_drive\n",
    ")"
   ]
  },
  {
   "cell_type": "markdown",
   "metadata": {},
   "source": [
    "#### SPAM errors\n",
    "In experimental practice, the qubit state can be mis-classified during read-out. We simulate this by constructing a _confusion matrix_, containing the probabilities for one qubit state being mistaken for another."
   ]
  },
  {
   "cell_type": "code",
   "execution_count": 4,
   "metadata": {
    "ExecuteTime": {
     "end_time": "2020-06-10T13:45:05.684014Z",
     "start_time": "2020-06-10T13:45:04.441825Z"
    }
   },
   "outputs": [],
   "source": [
    "m00_q1 = 0.97  # Prop to read qubit 1 state 0 as 0\n",
    "m01_q1 = 0.04  # Prop to read qubit 1 state 0 as 1\n",
    "m00_q2 = 0.96  # Prop to read qubit 2 state 0 as 0\n",
    "m01_q2 = 0.05  # Prop to read qubit 2 state 0 as 1\n",
    "one_zeros = np.array([0] * qubit_lvls)\n",
    "zero_ones = np.array([1] * qubit_lvls)\n",
    "one_zeros[0] = 1\n",
    "zero_ones[0] = 0\n",
    "val1 = one_zeros * m00_q1 + zero_ones * m01_q1\n",
    "val2 = one_zeros * m00_q2 + zero_ones * m01_q2\n",
    "min_val = one_zeros * 0.8 + zero_ones * 0.0\n",
    "max_val = one_zeros * 1.0 + zero_ones * 0.2\n",
    "confusion_row1 = Qty(value=val1, min_val=min_val, max_val=max_val, unit=\"\")\n",
    "confusion_row2 = Qty(value=val2, min_val=min_val, max_val=max_val, unit=\"\")\n",
    "conf_matrix = tasks.ConfusionMatrix(Q1=confusion_row1, Q2=confusion_row2)"
   ]
  },
  {
   "cell_type": "markdown",
   "metadata": {},
   "source": [
    "The following task creates an initial thermal state with given temperature."
   ]
  },
  {
   "cell_type": "code",
   "execution_count": 5,
   "metadata": {
    "ExecuteTime": {
     "end_time": "2020-06-10T13:45:05.684014Z",
     "start_time": "2020-06-10T13:45:04.441825Z"
    }
   },
   "outputs": [],
   "source": [
    "init_temp = 50e-3\n",
    "init_ground = tasks.InitialiseGround(\n",
    "    init_temp=Qty(\n",
    "        value=init_temp,\n",
    "        min_val=-0.001,\n",
    "        max_val=0.22,\n",
    "        unit='K'\n",
    "    )\n",
    ")"
   ]
  },
  {
   "cell_type": "markdown",
   "metadata": {},
   "source": [
    "We collect the parts specified above in the Model."
   ]
  },
  {
   "cell_type": "code",
   "execution_count": 6,
   "metadata": {
    "ExecuteTime": {
     "end_time": "2020-06-10T13:45:05.684014Z",
     "start_time": "2020-06-10T13:45:04.441825Z"
    }
   },
   "outputs": [],
   "source": [
    "model = Mdl(\n",
    "    [q1], # Individual, self-contained components\n",
    "    [drive],  # Interactions between components\n",
    "    # [conf_matrix, init_ground] # SPAM processing\n",
    ")"
   ]
  },
  {
   "cell_type": "markdown",
   "metadata": {},
   "source": [
    "Further, we can decide between coherent or open-system dynamics using set_lindbladian() and whether to eliminate the static coupling by going to the dressed frame with set_dressed()."
   ]
  },
  {
   "cell_type": "code",
   "execution_count": 7,
   "metadata": {
    "ExecuteTime": {
     "end_time": "2020-06-10T13:45:05.684014Z",
     "start_time": "2020-06-10T13:45:04.441825Z"
    }
   },
   "outputs": [],
   "source": [
    "model.set_lindbladian(False)\n",
    "model.set_dressed(True)"
   ]
  },
  {
   "cell_type": "markdown",
   "metadata": {},
   "source": [
    "#### Control signals\n",
    "With the model taken care of, we now specify the control electronics and signal chain. Complex shaped controls are often realized by creating an envelope signal with an arbitrary waveform generator (AWG) with limited bandwith and mixing it with a fast, stable local oscillator (LO)."
   ]
  },
  {
   "cell_type": "code",
   "execution_count": 8,
   "metadata": {
    "ExecuteTime": {
     "end_time": "2020-06-10T13:45:05.684014Z",
     "start_time": "2020-06-10T13:45:04.441825Z"
    }
   },
   "outputs": [],
   "source": [
    "sim_res = 100e9 # Resolution for numerical simulation\n",
    "awg_res = 2e9 # Realistic, limited resolution of an AWG\n",
    "lo = devices.LO(name='lo', resolution=sim_res)\n",
    "awg = devices.AWG(name='awg', resolution=awg_res)\n",
    "mixer = devices.Mixer(name='mixer')"
   ]
  },
  {
   "cell_type": "markdown",
   "metadata": {},
   "source": [
    "In simulation, we translate between AWG resolution and simulation (or \"analog\") resolultion by including an up-sampling device."
   ]
  },
  {
   "cell_type": "code",
   "execution_count": 9,
   "metadata": {},
   "outputs": [],
   "source": [
    "\n",
    "dig_to_an = devices.DigitalToAnalog(\n",
    "    name=\"dac\",\n",
    "    resolution=sim_res\n",
    ")"
   ]
  },
  {
   "cell_type": "markdown",
   "metadata": {},
   "source": [
    "Control electronics apply voltages to lines, whereas in a Hamiltonian we usually write the control fields in energy or frequency units. In practice, this conversion can be highly non-trivial if it involves multiple stages of attenuation and for example the conversion of a line voltage in an antenna to a dipole field coupling to the qubit. The following device represents a simple, linear conversion factor."
   ]
  },
  {
   "cell_type": "code",
   "execution_count": 10,
   "metadata": {
    "ExecuteTime": {
     "end_time": "2020-06-10T13:45:05.684014Z",
     "start_time": "2020-06-10T13:45:04.441825Z"
    }
   },
   "outputs": [],
   "source": [
    "v2hz = 1e9\n",
    "v_to_hz = devices.VoltsToHertz(\n",
    "    name='v_to_hz',\n",
    "    V_to_Hz=Qty(\n",
    "        value=v2hz,\n",
    "        min_val=0.9e9,\n",
    "        max_val=1.1e9,\n",
    "        unit='Hz/V'\n",
    "    )\n",
    ")"
   ]
  },
  {
   "cell_type": "markdown",
   "metadata": {},
   "source": [
    "The generator combines the parts of the signal generation and assignes a signal chain to each control line."
   ]
  },
  {
   "cell_type": "code",
   "execution_count": 11,
   "metadata": {
    "ExecuteTime": {
     "end_time": "2020-06-10T13:45:05.684014Z",
     "start_time": "2020-06-10T13:45:04.441825Z"
    }
   },
   "outputs": [],
   "source": [
    "generator = Gnr(\n",
    "        devices={\n",
    "            \"LO\": devices.LO(name='lo', resolution=sim_res, outputs=1),\n",
    "            \"AWG\": devices.AWG(name='awg', resolution=awg_res, outputs=1),\n",
    "            \"DigitalToAnalog\": devices.DigitalToAnalog(\n",
    "                name=\"dac\",\n",
    "                resolution=sim_res,\n",
    "                inputs=1,\n",
    "                outputs=1\n",
    "            ),\n",
    "            \"Mixer\": devices.Mixer(name='mixer', inputs=2, outputs=1),\n",
    "            \"VoltsToHertz\": devices.VoltsToHertz(\n",
    "                name='v_to_hz',\n",
    "                V_to_Hz=Qty(\n",
    "                    value=1e9,\n",
    "                    min_val=0.9e9,\n",
    "                    max_val=1.1e9,\n",
    "                    unit='Hz/V'\n",
    "                ),\n",
    "                inputs=1,\n",
    "                outputs=1\n",
    "            )\n",
    "        },\n",
    "        chains= {\n",
    "            \"d1\": {\n",
    "                \"LO\": [],\n",
    "                \"AWG\": [],\n",
    "                \"DigitalToAnalog\": [\"AWG\"],\n",
    "                \"Mixer\": [\"LO\", \"DigitalToAnalog\"],\n",
    "                \"VoltsToHertz\": [\"Mixer\"]\n",
    "            },\n",
    "        }\n",
    "    )"
   ]
  },
  {
   "cell_type": "markdown",
   "metadata": {
    "pycharm": {
     "name": "#%% md\n"
    }
   },
   "source": [
    "Optionally, we can look at the signal generated by each device by setting a callback."
   ]
  },
  {
   "cell_type": "code",
   "execution_count": 12,
   "metadata": {
    "jupyter": {
     "outputs_hidden": false
    },
    "pycharm": {
     "name": "#%%\n"
    }
   },
   "outputs": [],
   "source": [
    "generator.callback = lambda chain_id, device_id, signal: (\n",
    "    # do something\n",
    ")"
   ]
  },
  {
   "cell_type": "markdown",
   "metadata": {},
   "source": [
    "#### Gates-set and Parameter map\n",
    "It remains to write down what kind of operations we want to perform on the device. For a gate based quantum computing chip, we define a gate-set.\n",
    "\n",
    "We choose a gate time of 7ns and a gaussian envelope shape with a list of parameters."
   ]
  },
  {
   "cell_type": "code",
   "execution_count": 13,
   "metadata": {
    "ExecuteTime": {
     "end_time": "2020-06-10T13:45:05.684014Z",
     "start_time": "2020-06-10T13:45:04.441825Z"
    }
   },
   "outputs": [],
   "source": [
    "t_final = 7e-9   # Time for single qubit gates\n",
    "sideband = 50e6 \n",
    "gauss_params_single = {\n",
    "    'amp': Qty(\n",
    "        value=0.3,\n",
    "        min_val=0.0,\n",
    "        max_val=100,\n",
    "        unit=\"V\"\n",
    "    ),\n",
    "    't_final': Qty(\n",
    "        value=t_final,\n",
    "        min_val=0.5 * t_final,\n",
    "        max_val=1.5 * t_final,\n",
    "        unit=\"s\"\n",
    "    ),\n",
    "    'sigma': Qty(\n",
    "        value=t_final / 4,\n",
    "        min_val=t_final / 8,\n",
    "        max_val=t_final / 2,\n",
    "        unit=\"s\"\n",
    "    ),\n",
    "    'xy_angle': Qty(\n",
    "        value=0.0,\n",
    "        min_val=-0.5 * np.pi,\n",
    "        max_val=2.5 * np.pi,\n",
    "        unit='rad'\n",
    "    ),\n",
    "    'freq_offset': Qty(\n",
    "        value=-sideband - 3e6 ,\n",
    "        min_val=-56 * 1e6 ,\n",
    "        max_val=-52 * 1e6 ,\n",
    "        unit='Hz 2pi'\n",
    "    ),\n",
    "    'delta': Qty(\n",
    "        value=-1,\n",
    "        min_val=-5,\n",
    "        max_val=3,\n",
    "        unit=\"\"\n",
    "    )\n",
    "}"
   ]
  },
  {
   "cell_type": "code",
   "execution_count": 14,
   "metadata": {
    "code_folding": [
     0,
     40,
     80
    ]
   },
   "outputs": [],
   "source": [
    "gauss1_params_single = {\n",
    "    'amp': Qty(\n",
    "        value=0.28,\n",
    "        min_val=0.0,\n",
    "        max_val=100,\n",
    "        unit=\"V\"\n",
    "    ),\n",
    "    't_final': Qty(\n",
    "        value=t_final,\n",
    "        min_val=0.5 * t_final,\n",
    "        max_val=1.5 * t_final,\n",
    "        unit=\"s\"\n",
    "    ),\n",
    "    'sigma': Qty(\n",
    "        value=t_final / 4,\n",
    "        min_val=t_final / 8,\n",
    "        max_val=t_final / 2,\n",
    "        unit=\"s\"\n",
    "    ),\n",
    "    'xy_angle': Qty(\n",
    "        value=0.0,\n",
    "        min_val=-0.5 * np.pi,\n",
    "        max_val=2.5 * np.pi,\n",
    "        unit='rad'\n",
    "    ),\n",
    "    'freq_offset': Qty(\n",
    "        value=-sideband - 3e6 ,\n",
    "        min_val=-56 * 1e6 ,\n",
    "        max_val=-52 * 1e6 ,\n",
    "        unit='Hz 2pi'\n",
    "    ),\n",
    "    'delta': Qty(\n",
    "        value=-1,\n",
    "        min_val=-5,\n",
    "        max_val=3,\n",
    "        unit=\"\"\n",
    "    )\n",
    "}\n",
    "\n",
    "\n",
    "gauss2_params_single = {\n",
    "    'amp': Qty(\n",
    "        value=0.26,\n",
    "        min_val=0.0,\n",
    "        max_val=100,\n",
    "        unit=\"V\"\n",
    "    ),\n",
    "    't_final': Qty(\n",
    "        value=t_final,\n",
    "        min_val=0.5 * t_final,\n",
    "        max_val=1.5 * t_final,\n",
    "        unit=\"s\"\n",
    "    ),\n",
    "    'sigma': Qty(\n",
    "        value=t_final / 4,\n",
    "        min_val=t_final / 8,\n",
    "        max_val=t_final / 2,\n",
    "        unit=\"s\"\n",
    "    ),\n",
    "    'xy_angle': Qty(\n",
    "        value=0.0,\n",
    "        min_val=-0.5 * np.pi,\n",
    "        max_val=2.5 * np.pi,\n",
    "        unit='rad'\n",
    "    ),\n",
    "    'freq_offset': Qty(\n",
    "        value=-sideband - 3e6 ,\n",
    "        min_val=-56 * 1e6 ,\n",
    "        max_val=-52 * 1e6 ,\n",
    "        unit='Hz 2pi'\n",
    "    ),\n",
    "    'delta': Qty(\n",
    "        value=-1,\n",
    "        min_val=-5,\n",
    "        max_val=3,\n",
    "        unit=\"\"\n",
    "    )\n",
    "}\n",
    "\n",
    "\n",
    "gauss3_params_single = {\n",
    "    'amp': Qty(\n",
    "        value=0.24,\n",
    "        min_val=0.0,\n",
    "        max_val=100,\n",
    "        unit=\"V\"\n",
    "    ),\n",
    "    't_final': Qty(\n",
    "        value=t_final,\n",
    "        min_val=0.5 * t_final,\n",
    "        max_val=1.5 * t_final,\n",
    "        unit=\"s\"\n",
    "    ),\n",
    "    'sigma': Qty(\n",
    "        value=t_final / 4,\n",
    "        min_val=t_final / 8,\n",
    "        max_val=t_final / 2,\n",
    "        unit=\"s\"\n",
    "    ),\n",
    "    'xy_angle': Qty(\n",
    "        value=0.0,\n",
    "        min_val=-0.5 * np.pi,\n",
    "        max_val=2.5 * np.pi,\n",
    "        unit='rad'\n",
    "    ),\n",
    "    'freq_offset': Qty(\n",
    "        value=-sideband - 3e6 ,\n",
    "        min_val=-56 * 1e6 ,\n",
    "        max_val=-52 * 1e6 ,\n",
    "        unit='Hz 2pi'\n",
    "    ),\n",
    "    'delta': Qty(\n",
    "        value=-1,\n",
    "        min_val=-5,\n",
    "        max_val=3,\n",
    "        unit=\"\"\n",
    "    )\n",
    "}\n",
    "\n",
    "\n",
    "gauss4_params_single = {\n",
    "    'amp': Qty(\n",
    "        value=0.22,\n",
    "        min_val=0.0,\n",
    "        max_val=100,\n",
    "        unit=\"V\"\n",
    "    ),\n",
    "    't_final': Qty(\n",
    "        value=t_final,\n",
    "        min_val=0.5 * t_final,\n",
    "        max_val=1.5 * t_final,\n",
    "        unit=\"s\"\n",
    "    ),\n",
    "    'sigma': Qty(\n",
    "        value=t_final / 4,\n",
    "        min_val=t_final / 8,\n",
    "        max_val=t_final / 2,\n",
    "        unit=\"s\"\n",
    "    ),\n",
    "    'xy_angle': Qty(\n",
    "        value=0.0,\n",
    "        min_val=-0.5 * np.pi,\n",
    "        max_val=2.5 * np.pi,\n",
    "        unit='rad'\n",
    "    ),\n",
    "    'freq_offset': Qty(\n",
    "        value=-sideband - 3e6 ,\n",
    "        min_val=-56 * 1e6 ,\n",
    "        max_val=-52 * 1e6 ,\n",
    "        unit='Hz 2pi'\n",
    "    ),\n",
    "    'delta': Qty(\n",
    "        value=-1,\n",
    "        min_val=-5,\n",
    "        max_val=3,\n",
    "        unit=\"\"\n",
    "    )\n",
    "}\n",
    "\n",
    "\n",
    "gauss5_params_single = {\n",
    "    'amp': Qty(\n",
    "        value=0.2,\n",
    "        min_val=0.0,\n",
    "        max_val=100,\n",
    "        unit=\"V\"\n",
    "    ),\n",
    "    't_final': Qty(\n",
    "        value=t_final,\n",
    "        min_val=0.5 * t_final,\n",
    "        max_val=1.5 * t_final,\n",
    "        unit=\"s\"\n",
    "    ),\n",
    "    'sigma': Qty(\n",
    "        value=t_final / 4,\n",
    "        min_val=t_final / 8,\n",
    "        max_val=t_final / 2,\n",
    "        unit=\"s\"\n",
    "    ),\n",
    "    'xy_angle': Qty(\n",
    "        value=0.0,\n",
    "        min_val=-0.5 * np.pi,\n",
    "        max_val=2.5 * np.pi,\n",
    "        unit='rad'\n",
    "    ),\n",
    "    'freq_offset': Qty(\n",
    "        value=-sideband - 3e6 ,\n",
    "        min_val=-56 * 1e6 ,\n",
    "        max_val=-52 * 1e6 ,\n",
    "        unit='Hz 2pi'\n",
    "    ),\n",
    "    'delta': Qty(\n",
    "        value=-1,\n",
    "        min_val=-5,\n",
    "        max_val=3,\n",
    "        unit=\"\"\n",
    "    )\n",
    "}\n",
    "\n",
    "\n",
    "gauss6_params_single = {\n",
    "    'amp': Qty(\n",
    "        value=0.18,\n",
    "        min_val=0.0,\n",
    "        max_val=100,\n",
    "        unit=\"V\"\n",
    "    ),\n",
    "    't_final': Qty(\n",
    "        value=t_final,\n",
    "        min_val=0.5 * t_final,\n",
    "        max_val=1.5 * t_final,\n",
    "        unit=\"s\"\n",
    "    ),\n",
    "    'sigma': Qty(\n",
    "        value=t_final / 4,\n",
    "        min_val=t_final / 8,\n",
    "        max_val=t_final / 2,\n",
    "        unit=\"s\"\n",
    "    ),\n",
    "    'xy_angle': Qty(\n",
    "        value=0.0,\n",
    "        min_val=-0.5 * np.pi,\n",
    "        max_val=2.5 * np.pi,\n",
    "        unit='rad'\n",
    "    ),\n",
    "    'freq_offset': Qty(\n",
    "        value=-sideband - 3e6 ,\n",
    "        min_val=-56 * 1e6 ,\n",
    "        max_val=-52 * 1e6 ,\n",
    "        unit='Hz 2pi'\n",
    "    ),\n",
    "    'delta': Qty(\n",
    "        value=-1,\n",
    "        min_val=-5,\n",
    "        max_val=3,\n",
    "        unit=\"\"\n",
    "    )\n",
    "}\n",
    "\n",
    "\n",
    "gauss7_params_single = {\n",
    "    'amp': Qty(\n",
    "        value=0.16,\n",
    "        min_val=0.0,\n",
    "        max_val=100,\n",
    "        unit=\"V\"\n",
    "    ),\n",
    "    't_final': Qty(\n",
    "        value=t_final,\n",
    "        min_val=0.5 * t_final,\n",
    "        max_val=1.5 * t_final,\n",
    "        unit=\"s\"\n",
    "    ),\n",
    "    'sigma': Qty(\n",
    "        value=t_final / 4,\n",
    "        min_val=t_final / 8,\n",
    "        max_val=t_final / 2,\n",
    "        unit=\"s\"\n",
    "    ),\n",
    "    'xy_angle': Qty(\n",
    "        value=0.0,\n",
    "        min_val=-0.5 * np.pi,\n",
    "        max_val=2.5 * np.pi,\n",
    "        unit='rad'\n",
    "    ),\n",
    "    'freq_offset': Qty(\n",
    "        value=-sideband - 3e6 ,\n",
    "        min_val=-56 * 1e6 ,\n",
    "        max_val=-52 * 1e6 ,\n",
    "        unit='Hz 2pi'\n",
    "    ),\n",
    "    'delta': Qty(\n",
    "        value=-1,\n",
    "        min_val=-5,\n",
    "        max_val=3,\n",
    "        unit=\"\"\n",
    "    )\n",
    "}\n",
    "\n",
    "gauss8_params_single = {\n",
    "    'amp': Qty(\n",
    "        value=0.2,\n",
    "        min_val=0.0,\n",
    "        max_val=100,\n",
    "        unit=\"V\"\n",
    "    ),\n",
    "    't_final': Qty(\n",
    "        value=t_final,\n",
    "        min_val=0.5 * t_final,\n",
    "        max_val=1.5 * t_final,\n",
    "        unit=\"s\"\n",
    "    ),\n",
    "    'sigma': Qty(\n",
    "        value=t_final / 4,\n",
    "        min_val=t_final / 8,\n",
    "        max_val=t_final / 2,\n",
    "        unit=\"s\"\n",
    "    ),\n",
    "    'xy_angle': Qty(\n",
    "        value=0.0,\n",
    "        min_val=-0.5 * np.pi,\n",
    "        max_val=2.5 * np.pi,\n",
    "        unit='rad'\n",
    "    ),\n",
    "    'freq_offset': Qty(\n",
    "        value=-sideband - 3e6 ,\n",
    "        min_val=-56 * 1e6 ,\n",
    "        max_val=-52 * 1e6 ,\n",
    "        unit='Hz 2pi'\n",
    "    ),\n",
    "    'delta': Qty(\n",
    "        value=-1,\n",
    "        min_val=-5,\n",
    "        max_val=3,\n",
    "        unit=\"\"\n",
    "    )\n",
    "}"
   ]
  },
  {
   "cell_type": "markdown",
   "metadata": {},
   "source": [
    "Here we take `gaussian_nonorm()` from the libraries as the function to define the shape."
   ]
  },
  {
   "cell_type": "code",
   "execution_count": 15,
   "metadata": {
    "ExecuteTime": {
     "end_time": "2020-06-10T13:45:05.684014Z",
     "start_time": "2020-06-10T13:45:04.441825Z"
    }
   },
   "outputs": [],
   "source": [
    "gauss_env_single = pulse.Envelope(\n",
    "    name=\"gauss\",\n",
    "    desc=\"Gaussian comp for single-qubit gates\",\n",
    "    params=gauss_params_single,\n",
    "    shape=envelopes.gaussian_nonorm,\n",
    "    normalize_pulse=True\n",
    ")\n",
    "\n",
    "gauss_env_single1 = pulse.Envelope(\n",
    "    name=\"gauss_sigma\",\n",
    "    desc=\"Gaussian sigma comp for single-qubit gates\",\n",
    "    params=gauss1_params_single,\n",
    "    shape=envelopes.gaussian_sigma,\n",
    "    normalize_pulse=True\n",
    ")\n",
    "\n",
    "gauss_env_single2 = pulse.Envelope(\n",
    "    name=\"hann\",\n",
    "    desc=\"Hann comp for single-qubit gates\",\n",
    "    params=gauss2_params_single,\n",
    "    shape=envelopes.hann,\n",
    "    normalize_pulse=True\n",
    ")\n",
    "\n",
    "gauss_env_single3 = pulse.Envelope(\n",
    "    name=\"hamming\",\n",
    "    desc=\"Hamming comp for single-qubit gates\",\n",
    "    params=gauss3_params_single,\n",
    "    shape=envelopes.hamming,\n",
    "    normalize_pulse=True\n",
    ")\n",
    "\n",
    "# gauss_env_single4 = pulse.Envelope(\n",
    "#     name=\"gauss_der\",\n",
    "#     desc=\"Gauss_der comp for single-qubit gates\",\n",
    "#     params=gauss4_params_single,\n",
    "#     shape=envelopes.gaussian_der_nonorm,\n",
    "#     normalize_pulse=True\n",
    "# )\n",
    "\n",
    "gauss_env_single5 = pulse.Envelope(\n",
    "    name=\"gauss2\",\n",
    "    desc=\"Second Gaussian comp for single-qubit gates\",\n",
    "    params=gauss5_params_single,\n",
    "    shape=envelopes.gaussian_nonorm,\n",
    "    normalize_pulse=True\n",
    ")\n",
    "\n",
    "gauss_env_single6 = pulse.Envelope(\n",
    "    name=\"gauss3\",\n",
    "    desc=\"Third Gaussian comp for single-qubit gates\",\n",
    "    params=gauss6_params_single,\n",
    "    shape=envelopes.gaussian_nonorm,\n",
    "    normalize_pulse=True\n",
    ")\n",
    "\n",
    "gauss_env_single7 = pulse.Envelope(\n",
    "    name=\"gauss_sigma2\",\n",
    "    desc=\"Second gaussian sigma comp for single-qubit gates\",\n",
    "    params=gauss7_params_single,\n",
    "    shape=envelopes.gaussian_sigma,\n",
    "    normalize_pulse=True\n",
    ")\n",
    "\n",
    "gauss_env_single8 = pulse.Envelope(\n",
    "    name=\"hamming2\",\n",
    "    desc=\"Second hamming comp for single-qubit gates\",\n",
    "    params=gauss8_params_single,\n",
    "    shape=envelopes.hamming,\n",
    "    normalize_pulse=True\n",
    ")\n",
    "\n",
    "# cosineflattop_env_single = pulse.Envelope(\n",
    "#     name=\"cosine_flattop\",\n",
    "#     desc=\"Cosine flat top comp for single-qubit gates\",\n",
    "#     params=cosineflattop_params_single,\n",
    "#     shape=envelopes.cosine_flattop,\n",
    "#     normalize_pulse=True\n",
    "# )"
   ]
  },
  {
   "cell_type": "markdown",
   "metadata": {},
   "source": [
    "We specify the drive tones with an offset from the qubit frequencies. As is done in experiment, we will later adjust the resonance by modulating the envelope function."
   ]
  },
  {
   "cell_type": "code",
   "execution_count": 16,
   "metadata": {
    "ExecuteTime": {
     "end_time": "2020-06-10T13:45:05.684014Z",
     "start_time": "2020-06-10T13:45:04.441825Z"
    }
   },
   "outputs": [],
   "source": [
    "lo_freq_q1 = 5e9  + sideband\n",
    "carrier_parameters = {\n",
    "    'freq': Qty(\n",
    "        value=lo_freq_q1,\n",
    "        min_val=4.5e9 ,\n",
    "        max_val=6e9 ,\n",
    "        unit='Hz 2pi'\n",
    "    ),\n",
    "    'framechange': Qty(\n",
    "        value=0.0,\n",
    "        min_val= -np.pi,\n",
    "        max_val= 3 * np.pi,\n",
    "        unit='rad'\n",
    "    )\n",
    "}\n",
    "carr = pulse.Carrier(\n",
    "    name=\"carrier\",\n",
    "    desc=\"Frequency of the local oscillator\",\n",
    "    params=carrier_parameters\n",
    ")"
   ]
  },
  {
   "cell_type": "markdown",
   "metadata": {},
   "source": [
    "#### Instructions\n",
    "We define the gates we want to perform with a \"name\" that will identify them later and \"channels\" relating to the control Hamiltonians and drive lines we specified earlier. As a start we write down 90 degree rotations in the positive $x$-direction and identity gates for both qubits. Then we add a carrier and envelope to each."
   ]
  },
  {
   "cell_type": "code",
   "execution_count": 17,
   "metadata": {
    "ExecuteTime": {
     "end_time": "2020-06-10T13:45:05.684014Z",
     "start_time": "2020-06-10T13:45:04.441825Z"
    }
   },
   "outputs": [],
   "source": [
    "rx90p_q1 = gates.Instruction(\n",
    "    name=\"rx90p\", targets=[0], t_start=0.0, t_end=t_final, channels=[\"d1\"]\n",
    ")\n",
    "\n",
    "rx90p_q1.add_component(gauss_env_single, \"d1\")\n",
    "rx90p_q1.add_component(carr, \"d1\")\n",
    "\n",
    "rx90p_q1.add_component(gauss_env_single1, \"d1\")\n",
    "\n",
    "rx90p_q1.add_component(gauss_env_single2, \"d1\")\n",
    "\n",
    "rx90p_q1.add_component(gauss_env_single3, \"d1\")\n",
    "\n",
    "# rx90p_q1.add_component(gauss_env_single4, \"d1\")  # Don't use\n",
    "\n",
    "rx90p_q1.add_component(gauss_env_single5, \"d1\")\n",
    "\n",
    "rx90p_q1.add_component(gauss_env_single6, \"d1\")\n",
    "\n",
    "rx90p_q1.add_component(gauss_env_single7, \"d1\")\n",
    "\n",
    "rx90p_q1.add_component(gauss_env_single8, \"d1\")\n",
    "\n",
    "# rx90p_q1.add_component(cosineflattop_env_single, \"d1\")"
   ]
  },
  {
   "cell_type": "markdown",
   "metadata": {},
   "source": [
    "When later compiling gates into sequences, we have to take care of the relative rotating frames of the qubits and local oscillators. We do this by adding a phase after each gate that realigns the frames."
   ]
  },
  {
   "cell_type": "code",
   "execution_count": 18,
   "metadata": {},
   "outputs": [],
   "source": [
    "# rx90p_q1.add_component(nodrive_env, \"d2\")\n",
    "# rx90p_q1.add_component(copy.deepcopy(carr_2), \"d2\")\n",
    "# rx90p_q1.comps[\"d2\"][\"carrier\"].params[\"framechange\"].set_value(\n",
    "#     (-sideband * t_final) * 2 * np.pi % (2 * np.pi)\n",
    "# )\n",
    "\n",
    "# rx90p_q2.add_component(nodrive_env, \"d1\")\n",
    "# rx90p_q2.add_component(copy.deepcopy(carr), \"d1\")\n",
    "# rx90p_q2.comps[\"d1\"][\"carrier\"].params[\"framechange\"].set_value(\n",
    "#     (-sideband * t_final) * 2 * np.pi % (2 * np.pi)\n",
    "# )"
   ]
  },
  {
   "cell_type": "code",
   "execution_count": 19,
   "metadata": {},
   "outputs": [],
   "source": [
    "######### Plot the control signals #############\n",
    "\n",
    "def plot_controls(pmap, prefactor):\n",
    "    for gate, instruction in pmap.instructions.items():\n",
    "        fig, ax = plt.subplots(1)\n",
    "        ax.set_title(gate.replace(\"_\", \"-\"))\n",
    "        legend = []\n",
    "        counter = 0\n",
    "        for chan, channel in instruction.comps.items():\n",
    "            amp = prefactor[counter]\n",
    "            counter += 1\n",
    "            for com, component in channel.items():\n",
    "                if \"t_final\" in component.params:\n",
    "                    t_final = component.params[\"t_final\"].get_value()\n",
    "                    ts = np.linspace(0, t_final, 1001)\n",
    "                    shape = amp * component.get_shape_values(ts)\n",
    "                    ax.plot(ts[:len(shape)]/1e-9, shape)\n",
    "                    legend.append((chan, com.replace(\"_\", \"-\")))\n",
    "        ax.set_xlabel(\"Time [ns]\")\n",
    "#         ax.set_ylabel(\"Amplitude\")\n",
    "        ax.set_ylabel(\"Amplitude [normalized]\")\n",
    "        ax.legend(legend)"
   ]
  },
  {
   "cell_type": "code",
   "execution_count": 20,
   "metadata": {},
   "outputs": [],
   "source": [
    "# def find_l1(pmap):\n",
    "#     for gate, instruction in pmap.instructions.items():\n",
    "#         l1_norm = 0\n",
    "#         for chan, channel in instruction.comps.items():\n",
    "# #             print(chan)\n",
    "# #             print(channel)\n",
    "#             for com, component in channel.items():\n",
    "# #                 print(com)\n",
    "# #                 print(component)\n",
    "#                 if \"amp\" in component.params:\n",
    "#                     amplitude = component.params[\"amp\"].get_value()\n",
    "#                     l1_norm += tf.math.abs(amplitude)\n",
    "# #             print(f\"L1 norm for control signals in channel: {channel}, is {l1_norm}\")"
   ]
  },
  {
   "cell_type": "markdown",
   "metadata": {},
   "source": [
    "The remainder of the gates-set can be derived from the RX90p gate by shifting its phase by multiples of $\\pi/2$."
   ]
  },
  {
   "cell_type": "code",
   "execution_count": 21,
   "metadata": {
    "ExecuteTime": {
     "end_time": "2020-06-10T13:45:05.684014Z",
     "start_time": "2020-06-10T13:45:04.441825Z"
    }
   },
   "outputs": [],
   "source": [
    "# ry90p_q1 = copy.deepcopy(rx90p_q1)\n",
    "# ry90p_q1.name = \"ry90p\"\n",
    "# rx90m_q1 = copy.deepcopy(rx90p_q1)\n",
    "# rx90m_q1.name = \"rx90m\"\n",
    "# ry90m_q1 = copy.deepcopy(rx90p_q1)\n",
    "# ry90m_q1.name = \"ry90m\"\n",
    "# ry90p_q1.comps['d1']['gauss'].params['xy_angle'].set_value(0.5 * np.pi)\n",
    "# rx90m_q1.comps['d1']['gauss'].params['xy_angle'].set_value(np.pi)\n",
    "# ry90m_q1.comps['d1']['gauss'].params['xy_angle'].set_value(1.5 * np.pi)\n",
    "\n",
    "# ry90p_q1.comps['d1']['gauss_sigma'].params['xy_angle'].set_value(0.5 * np.pi)\n",
    "# rx90m_q1.comps['d1']['gauss_sigma'].params['xy_angle'].set_value(np.pi)\n",
    "# ry90m_q1.comps['d1']['gauss_sigma'].params['xy_angle'].set_value(1.5 * np.pi)\n",
    "\n",
    "# ry90p_q1.comps['d1']['hann'].params['xy_angle'].set_value(0.5 * np.pi)\n",
    "# rx90m_q1.comps['d1']['hann'].params['xy_angle'].set_value(np.pi)\n",
    "# ry90m_q1.comps['d1']['hann'].params['xy_angle'].set_value(1.5 * np.pi)\n",
    "\n",
    "# ry90p_q1.comps['d1']['hamming'].params['xy_angle'].set_value(0.5 * np.pi)\n",
    "# rx90m_q1.comps['d1']['hamming'].params['xy_angle'].set_value(np.pi)\n",
    "# ry90m_q1.comps['d1']['hamming'].params['xy_angle'].set_value(1.5 * np.pi)\n",
    "\n",
    "# ry90p_q1.comps['d1']['gauss_der'].params['xy_angle'].set_value(0.5 * np.pi)\n",
    "# rx90m_q1.comps['d1']['gauss_der'].params['xy_angle'].set_value(np.pi)\n",
    "# ry90m_q1.comps['d1']['gauss_der'].params['xy_angle'].set_value(1.5 * np.pi)\n",
    "\n",
    "# ry90p_q1.comps['d1']['gauss2'].params['xy_angle'].set_value(0.5 * np.pi)\n",
    "# rx90m_q1.comps['d1']['gauss2'].params['xy_angle'].set_value(np.pi)\n",
    "# ry90m_q1.comps['d1']['gauss2'].params['xy_angle'].set_value(1.5 * np.pi)\n",
    "\n",
    "# ry90p_q1.comps['d1']['cosine_flattop'].params['xy_angle'].set_value(0.5 * np.pi)\n",
    "# rx90m_q1.comps['d1']['cosine_flattop'].params['xy_angle'].set_value(np.pi)\n",
    "# ry90m_q1.comps['d1']['cosine_flattop'].params['xy_angle'].set_value(1.5 * np.pi)\n",
    "# single_q_gates = [rx90p_q1, ry90p_q1, rx90m_q1, ry90m_q1]\n",
    "single_q_gates = [rx90p_q1]\n",
    "\n",
    "# ry90p_q2 = copy.deepcopy(rx90p_q2)\n",
    "# ry90p_q2.name = \"ry90p\"\n",
    "# rx90m_q2 = copy.deepcopy(rx90p_q2)\n",
    "# rx90m_q2.name = \"rx90m\"\n",
    "# ry90m_q2 = copy.deepcopy(rx90p_q2)\n",
    "# ry90m_q2.name = \"ry90m\"\n",
    "# ry90p_q2.comps['d2']['gauss'].params['xy_angle'].set_value(0.5 * np.pi)\n",
    "# rx90m_q2.comps['d2']['gauss'].params['xy_angle'].set_value(np.pi)\n",
    "# ry90m_q2.comps['d2']['gauss'].params['xy_angle'].set_value(1.5 * np.pi)\n",
    "\n",
    "# ry90p_q2.comps['d2']['gauss_sigma'].params['xy_angle'].set_value(0.5 * np.pi)\n",
    "# rx90m_q2.comps['d2']['gauss_sigma'].params['xy_angle'].set_value(np.pi)\n",
    "# ry90m_q2.comps['d2']['gauss_sigma'].params['xy_angle'].set_value(1.5 * np.pi)\n",
    "\n",
    "# ry90p_q2.comps['d2']['hann'].params['xy_angle'].set_value(0.5 * np.pi)\n",
    "# rx90m_q2.comps['d2']['hann'].params['xy_angle'].set_value(np.pi)\n",
    "# ry90m_q2.comps['d2']['hann'].params['xy_angle'].set_value(1.5 * np.pi)\n",
    "\n",
    "# ry90p_q2.comps['d2']['hamming'].params['xy_angle'].set_value(0.5 * np.pi)\n",
    "# rx90m_q2.comps['d2']['hamming'].params['xy_angle'].set_value(np.pi)\n",
    "# ry90m_q2.comps['d2']['hamming'].params['xy_angle'].set_value(1.5 * np.pi)\n",
    "\n",
    "# # ry90p_q2.comps['d2']['gauss_der'].params['xy_angle'].set_value(0.5 * np.pi)\n",
    "# # rx90m_q2.comps['d2']['gauss_der'].params['xy_angle'].set_value(np.pi)\n",
    "# # ry90m_q2.comps['d2']['gauss_der'].params['xy_angle'].set_value(1.5 * np.pi)\n",
    "\n",
    "# ry90p_q2.comps['d2']['gauss2'].params['xy_angle'].set_value(0.5 * np.pi)\n",
    "# rx90m_q2.comps['d2']['gauss2'].params['xy_angle'].set_value(np.pi)\n",
    "# ry90m_q2.comps['d2']['gauss2'].params['xy_angle'].set_value(1.5 * np.pi)\n",
    "\n",
    "# ry90p_q2.comps['d2']['cosine_flattop'].params['xy_angle'].set_value(0.5 * np.pi)\n",
    "# rx90m_q2.comps['d2']['cosine_flattop'].params['xy_angle'].set_value(np.pi)\n",
    "# ry90m_q2.comps['d2']['cosine_flattop'].params['xy_angle'].set_value(1.5 * np.pi)\n",
    "# single_q_gates.extend([rx90p_q2, ry90p_q2, rx90m_q2, ry90m_q2])\n",
    "# # single_q_gates = [rx90p_q2]"
   ]
  },
  {
   "cell_type": "code",
   "execution_count": 22,
   "metadata": {},
   "outputs": [
    {
     "data": {
      "text/plain": [
       "{'gauss': gauss:: amp : 300.000 mV , delta : -1.000  , freq_offset : -53.000 MHz 2pi , xy_angle : -444.089 arad , sigma : 1.750 ns , t_final : 7.000 ns , shape: gaussian_nonorm, ,\n",
       " 'carrier': carrier:: freq : 5.050 GHz 2pi , framechange : 0.000 rad , ,\n",
       " 'gauss_sigma': gauss_sigma:: amp : 280.000 mV , delta : -1.000  , freq_offset : -53.000 MHz 2pi , xy_angle : -444.089 arad , sigma : 1.750 ns , t_final : 7.000 ns , shape: gaussian_sigma, ,\n",
       " 'hann': hann:: amp : 260.000 mV , delta : -1.000  , freq_offset : -53.000 MHz 2pi , xy_angle : -444.089 arad , sigma : 1.750 ns , t_final : 7.000 ns , shape: hann, ,\n",
       " 'hamming': hamming:: amp : 240.000 mV , delta : -1.000  , freq_offset : -53.000 MHz 2pi , xy_angle : -444.089 arad , sigma : 1.750 ns , t_final : 7.000 ns , shape: hamming, ,\n",
       " 'gauss2': gauss2:: amp : 200.000 mV , delta : -1.000  , freq_offset : -53.000 MHz 2pi , xy_angle : -444.089 arad , sigma : 1.750 ns , t_final : 7.000 ns , shape: gaussian_nonorm, ,\n",
       " 'gauss3': gauss3:: amp : 180.000 mV , delta : -1.000  , freq_offset : -53.000 MHz 2pi , xy_angle : -444.089 arad , sigma : 1.750 ns , t_final : 7.000 ns , shape: gaussian_nonorm, ,\n",
       " 'gauss_sigma2': gauss_sigma2:: amp : 160.000 mV , delta : -1.000  , freq_offset : -53.000 MHz 2pi , xy_angle : -444.089 arad , sigma : 1.750 ns , t_final : 7.000 ns , shape: gaussian_sigma, ,\n",
       " 'hamming2': hamming2:: amp : 200.000 mV , delta : -1.000  , freq_offset : -53.000 MHz 2pi , xy_angle : -444.089 arad , sigma : 1.750 ns , t_final : 7.000 ns , shape: hamming, }"
      ]
     },
     "execution_count": 22,
     "metadata": {},
     "output_type": "execute_result"
    }
   ],
   "source": [
    "rx90p_q1.comps[\"d1\"]"
   ]
  },
  {
   "cell_type": "markdown",
   "metadata": {},
   "source": [
    "With every component defined, we collect them in the parameter map, our object that holds information and methods to manipulate and examine model and control parameters."
   ]
  },
  {
   "cell_type": "code",
   "execution_count": 23,
   "metadata": {
    "ExecuteTime": {
     "end_time": "2020-06-10T13:45:05.684014Z",
     "start_time": "2020-06-10T13:45:04.441825Z"
    }
   },
   "outputs": [],
   "source": [
    "parameter_map = PMap(instructions=single_q_gates, model=model, generator=generator)\n",
    "# print(parameter_map)"
   ]
  },
  {
   "cell_type": "code",
   "execution_count": 24,
   "metadata": {},
   "outputs": [],
   "source": [
    "# pre_factor = [0.1, 0.3, 0.1, 0.1, 0.3, 0.3, 0.3]"
   ]
  },
  {
   "cell_type": "code",
   "execution_count": 25,
   "metadata": {},
   "outputs": [],
   "source": [
    "# plot_controls(parameter_map, pre_factor)"
   ]
  },
  {
   "cell_type": "markdown",
   "metadata": {},
   "source": [
    "#### The experiment\n",
    "Finally everything is collected in the experiment that provides the functions to interact with the system."
   ]
  },
  {
   "cell_type": "code",
   "execution_count": 26,
   "metadata": {
    "ExecuteTime": {
     "end_time": "2020-06-10T13:45:05.684014Z",
     "start_time": "2020-06-10T13:45:04.441825Z"
    }
   },
   "outputs": [],
   "source": [
    "exp = Exp(pmap=parameter_map)"
   ]
  },
  {
   "cell_type": "markdown",
   "metadata": {},
   "source": [
    "#### Simulation\n",
    "With our experiment all set-up, we can perform simulations. We first decide which basic gates to simulate, in this case only the 90 degree rotation on one qubit and the identity."
   ]
  },
  {
   "cell_type": "code",
   "execution_count": 27,
   "metadata": {},
   "outputs": [],
   "source": [
    "exp.set_opt_gates(['rx90p[0]'])"
   ]
  },
  {
   "cell_type": "markdown",
   "metadata": {},
   "source": [
    "The actual numerical simulation is done by calling `exp.compute_propagators()`. \n",
    "This is the most resource intensive part as it involves solving the equations of motion for the system."
   ]
  },
  {
   "cell_type": "code",
   "execution_count": 28,
   "metadata": {},
   "outputs": [],
   "source": [
    "unitaries = exp.compute_propagators()"
   ]
  },
  {
   "cell_type": "markdown",
   "metadata": {},
   "source": [
    "After this step the unitaries or process matrices are stored in the exp object. We can look at their names and matrix representations."
   ]
  },
  {
   "cell_type": "code",
   "execution_count": 29,
   "metadata": {},
   "outputs": [
    {
     "data": {
      "text/plain": [
       "{'rx90p[0]': <tf.Tensor: shape=(3, 3), dtype=complex128, numpy=\n",
       " array([[ 0.63355909+0.03455823j, -0.14930118-0.74829549j,\n",
       "          0.12044891+0.02576203j],\n",
       "        [-0.15030548-0.74809178j,  0.57044372-0.29030075j,\n",
       "         -0.08475314-0.03005477j],\n",
       "        [ 0.12039406+0.02609268j, -0.08461813-0.0303681j ,\n",
       "         -0.97225071+0.17739943j]])>}"
      ]
     },
     "execution_count": 29,
     "metadata": {},
     "output_type": "execute_result"
    }
   ],
   "source": [
    "unitaries"
   ]
  },
  {
   "cell_type": "markdown",
   "metadata": {},
   "source": [
    "### Dynamics\n",
    "\n",
    "To investigate dynamics, we define the ground state as an initial state."
   ]
  },
  {
   "cell_type": "code",
   "execution_count": 30,
   "metadata": {},
   "outputs": [],
   "source": [
    "psi_init = [[0] * 3]\n",
    "psi_init[0][0] = 1\n",
    "init_state = tf.transpose(tf.constant(psi_init, tf.complex128))"
   ]
  },
  {
   "cell_type": "code",
   "execution_count": 31,
   "metadata": {},
   "outputs": [
    {
     "data": {
      "text/plain": [
       "<tf.Tensor: shape=(3, 1), dtype=complex128, numpy=\n",
       "array([[1.+0.j],\n",
       "       [0.+0.j],\n",
       "       [0.+0.j]])>"
      ]
     },
     "execution_count": 31,
     "metadata": {},
     "output_type": "execute_result"
    }
   ],
   "source": [
    "init_state"
   ]
  },
  {
   "cell_type": "markdown",
   "metadata": {},
   "source": [
    "Since we stored the process matrices, we can now relatively inexpesively evaluate sequences. We start with just one gate"
   ]
  },
  {
   "cell_type": "code",
   "execution_count": 32,
   "metadata": {},
   "outputs": [],
   "source": [
    "barely_a_seq = ['rx90p[0]']"
   ]
  },
  {
   "cell_type": "markdown",
   "metadata": {},
   "source": [
    "and plot system dynamics."
   ]
  },
  {
   "cell_type": "code",
   "execution_count": 33,
   "metadata": {},
   "outputs": [],
   "source": [
    "def plot_dynamics(exp, psi_init, seq, goal=-1):\n",
    "        \"\"\"\n",
    "        Plotting code for time-resolved populations.\n",
    "\n",
    "        Parameters\n",
    "        ----------\n",
    "        psi_init: tf.Tensor\n",
    "            Initial state or density matrix.\n",
    "        seq: list\n",
    "            List of operations to apply to the initial state.\n",
    "        goal: tf.float64\n",
    "            Value of the goal function, if used.\n",
    "        debug: boolean\n",
    "            If true, return a matplotlib figure instead of saving.\n",
    "        \"\"\"\n",
    "        model = exp.pmap.model\n",
    "        exp.compute_propagators()\n",
    "        dUs = exp.partial_propagators\n",
    "        psi_t = psi_init.numpy()\n",
    "        pop_t = exp.populations(psi_t, model.lindbladian)\n",
    "        for gate in seq:\n",
    "            for du in dUs[gate]:\n",
    "                psi_t = np.matmul(du.numpy(), psi_t)\n",
    "                pops = exp.populations(psi_t, model.lindbladian)\n",
    "                pop_t = np.append(pop_t, pops, axis=1)\n",
    "\n",
    "        fig, axs = plt.subplots(1, 1)\n",
    "        ts = exp.ts\n",
    "        dt = ts[1] - ts[0]\n",
    "        ts = np.linspace(0.0, dt*pop_t.shape[1], pop_t.shape[1])\n",
    "        axs.plot(ts / 1e-9, pop_t.T)\n",
    "        axs.grid(linestyle=\"--\")\n",
    "        axs.tick_params(\n",
    "            direction=\"in\", left=True, right=True, top=True, bottom=True\n",
    "        )\n",
    "        axs.set_xlabel('Time [ns]')\n",
    "        axs.set_ylabel('Population')\n",
    "        plt.legend(model.state_labels)\n",
    "        pass"
   ]
  },
  {
   "cell_type": "code",
   "execution_count": 34,
   "metadata": {},
   "outputs": [
    {
     "data": {
      "image/png": "[encoded data removed]",
      "text/plain": [
       "<Figure size 432x288 with 1 Axes>"
      ]
     },
     "metadata": {
      "needs_background": "light"
     },
     "output_type": "display_data"
    }
   ],
   "source": [
    "plot_dynamics(exp, init_state, barely_a_seq)"
   ]
  },
  {
   "cell_type": "markdown",
   "metadata": {},
   "source": [
    "We can see an ill-defined un-optimized gate. The labels indicate qubit states in the product basis. Next we increase the number of repetitions of the same gate."
   ]
  },
  {
   "cell_type": "code",
   "execution_count": 35,
   "metadata": {},
   "outputs": [
    {
     "data": {
      "text/plain": [
       "['rx90p[0]',\n",
       " 'rx90p[0]',\n",
       " 'rx90p[0]',\n",
       " 'rx90p[0]',\n",
       " 'rx90p[0]',\n",
       " 'rx90p[0]',\n",
       " 'rx90p[0]',\n",
       " 'rx90p[0]',\n",
       " 'rx90p[0]',\n",
       " 'rx90p[0]']"
      ]
     },
     "execution_count": 35,
     "metadata": {},
     "output_type": "execute_result"
    }
   ],
   "source": [
    "barely_a_seq * 10"
   ]
  },
  {
   "cell_type": "code",
   "execution_count": 36,
   "metadata": {},
   "outputs": [
    {
     "data": {
      "image/png": "[encoded data removed]",
      "text/plain": [
       "<Figure size 432x288 with 1 Axes>"
      ]
     },
     "metadata": {
      "needs_background": "light"
     },
     "output_type": "display_data"
    }
   ],
   "source": [
    "plot_dynamics(exp, init_state, barely_a_seq * 5)"
   ]
  },
  {
   "cell_type": "code",
   "execution_count": 37,
   "metadata": {},
   "outputs": [
    {
     "data": {
      "image/png": "[encoded data removed]",
      "text/plain": [
       "<Figure size 432x288 with 1 Axes>"
      ]
     },
     "metadata": {
      "needs_background": "light"
     },
     "output_type": "display_data"
    }
   ],
   "source": [
    "plot_dynamics(exp, init_state, barely_a_seq * 10)"
   ]
  },
  {
   "cell_type": "markdown",
   "metadata": {},
   "source": [
    "Note that at this point, we only multiply already computed matrices. We don't need to solve the equations of motion again for new sequences."
   ]
  },
  {
   "cell_type": "markdown",
   "metadata": {},
   "source": [
    "#### Visualisation with qiskit circuit"
   ]
  },
  {
   "cell_type": "code",
   "execution_count": 38,
   "metadata": {},
   "outputs": [
    {
     "data": {
      "text/html": [
       "<pre style=\"word-wrap: normal;white-space: pre;background: #fff0;line-height: 1.1;font-family: &quot;Courier New&quot;,Courier,monospace\">   ┌────────────┐\n",
       "q: ┤ Rx90p(π/2) ├\n",
       "   └────────────┘</pre>"
      ],
      "text/plain": [
       "   ┌────────────┐\n",
       "q: ┤ Rx90p(π/2) ├\n",
       "   └────────────┘"
      ]
     },
     "execution_count": 38,
     "metadata": {},
     "output_type": "execute_result"
    }
   ],
   "source": [
    "qc = QuantumCircuit(1)\n",
    "qc.append(RX90pGate(), [0])\n",
    "qc.draw()"
   ]
  },
  {
   "cell_type": "code",
   "execution_count": 39,
   "metadata": {},
   "outputs": [],
   "source": [
    "c3_provider = C3Provider()\n",
    "c3_backend = c3_provider.get_backend(\"c3_qasm_physics_simulator\")\n",
    "c3_backend.set_c3_experiment(exp)"
   ]
  },
  {
   "cell_type": "code",
   "execution_count": 40,
   "metadata": {},
   "outputs": [
    {
     "name": "stdout",
     "output_type": "stream",
     "text": [
      "Result from unoptimized gates:\n",
      "{'(0,)': 0.4025913894221285,\n",
      " '(1,)': 0.58223305303669,\n",
      " '(2,)': 0.015175557541192592}\n"
     ]
    }
   ],
   "source": [
    "c3_job_unopt = c3_backend.run(qc)\n",
    "result_unopt = c3_job_unopt.result()\n",
    "res_pops_unopt = result_unopt.data()[\"state_pops\"]\n",
    "print(\"Result from unoptimized gates:\") \n",
    "pprint(res_pops_unopt)"
   ]
  },
  {
   "cell_type": "code",
   "execution_count": 41,
   "metadata": {},
   "outputs": [
    {
     "data": {
      "image/png": "[encoded data removed]",
      "text/plain": [
       "<Figure size 504x360 with 1 Axes>"
      ]
     },
     "execution_count": 41,
     "metadata": {},
     "output_type": "execute_result"
    }
   ],
   "source": [
    "plot_histogram(res_pops_unopt, title='Simulation of Qiskit circuit with Unoptimized Gates')"
   ]
  },
  {
   "cell_type": "markdown",
   "metadata": {},
   "source": [
    "#### Open-loop optimal control\n",
    "\n",
    "In order to improve the gate, we create the optimizer object for open-loop optimal control. We notice some leakage into the $|2,0>$ state and enable a DRAG option. Details on DRAG can be found here: https://arxiv.org/abs/1809.04919 The main principle is adding a phase-shifted component proportional to the derivative of the original signal. With automatic differentiation, our AWG can perform this operation automatically for arbitrary shapes."
   ]
  },
  {
   "cell_type": "code",
   "execution_count": 42,
   "metadata": {},
   "outputs": [],
   "source": [
    "# generator.devices['AWG'].enable_drag_2()"
   ]
  },
  {
   "cell_type": "markdown",
   "metadata": {},
   "source": [
    "At the moment there are two implementations of DRAG, variant 2 is independent of the AWG resolution."
   ]
  },
  {
   "cell_type": "markdown",
   "metadata": {},
   "source": [
    "To define which parameters we optimize, we write the gateset_opt_map, a nested list of tuples that identifies each parameter."
   ]
  },
  {
   "cell_type": "code",
   "execution_count": 43,
   "metadata": {},
   "outputs": [],
   "source": [
    "# ############## With two gaussians ###################\n",
    "\n",
    "# opt_gates = [\"rx90p[0]\"]\n",
    "# gateset_opt_map=[\n",
    "#     [\n",
    "#       (\"rx90p[0]\", \"d1\", \"gauss\", \"amp\"),\n",
    "#     ],\n",
    "#     [\n",
    "#       (\"rx90p[0]\", \"d1\", \"gauss\", \"freq_offset\"),\n",
    "#     ],\n",
    "#     [\n",
    "#       (\"rx90p[0]\", \"d1\", \"gauss\", \"xy_angle\"),\n",
    "#     ],\n",
    "#     [\n",
    "#       (\"rx90p[0]\", \"d1\", \"gauss\", \"delta\"),\n",
    "#     ],\n",
    "#     [\n",
    "#       (\"rx90p[0]\", \"d1\", \"carrier\", \"framechange\"),\n",
    "#     ],\n",
    "#     [\n",
    "#       (\"rx90p[0]\", \"d1\", \"gauss2\", \"amp\"),\n",
    "#     ],\n",
    "#     [\n",
    "#       (\"rx90p[0]\", \"d1\", \"gauss2\", \"freq_offset\"),\n",
    "#     ],\n",
    "#     [\n",
    "#       (\"rx90p[0]\", \"d1\", \"gauss2\", \"xy_angle\"),\n",
    "#     ],\n",
    "#     [\n",
    "#       (\"rx90p[0]\", \"d1\", \"gauss2\", \"delta\"),\n",
    "#     ]\n",
    "# ]\n",
    "# parameter_map.set_opt_map(gateset_opt_map)"
   ]
  },
  {
   "cell_type": "code",
   "execution_count": 44,
   "metadata": {},
   "outputs": [],
   "source": [
    "opt_gates = [\"rx90p[0]\"]\n",
    "gateset_opt_map=[\n",
    "    [\n",
    "      (\"rx90p[0]\", \"d1\", \"gauss\", \"amp\"),\n",
    "    ],\n",
    "    [\n",
    "      (\"rx90p[0]\", \"d1\", \"gauss\", \"freq_offset\"),\n",
    "    ],\n",
    "    [\n",
    "      (\"rx90p[0]\", \"d1\", \"gauss\", \"xy_angle\"),\n",
    "    ],\n",
    "    [\n",
    "      (\"rx90p[0]\", \"d1\", \"gauss\", \"delta\"),\n",
    "    ],\n",
    "    [\n",
    "      (\"rx90p[0]\", \"d1\", \"carrier\", \"framechange\"),\n",
    "    ],\n",
    "    [\n",
    "      (\"rx90p[0]\", \"d1\", \"gauss_sigma\", \"amp\"),\n",
    "    ],\n",
    "    [\n",
    "      (\"rx90p[0]\", \"d1\", \"gauss_sigma\", \"freq_offset\"),\n",
    "    ],\n",
    "    [\n",
    "      (\"rx90p[0]\", \"d1\", \"gauss_sigma\", \"xy_angle\"),\n",
    "    ],\n",
    "    [\n",
    "      (\"rx90p[0]\", \"d1\", \"gauss_sigma\", \"delta\"),\n",
    "    ],\n",
    "    [\n",
    "      (\"rx90p[0]\", \"d1\", \"hann\", \"amp\"),\n",
    "    ],\n",
    "    [\n",
    "      (\"rx90p[0]\", \"d1\", \"hann\", \"freq_offset\"),\n",
    "    ],\n",
    "    [\n",
    "      (\"rx90p[0]\", \"d1\", \"hann\", \"xy_angle\"),\n",
    "    ],\n",
    "    [\n",
    "      (\"rx90p[0]\", \"d1\", \"hann\", \"delta\"),\n",
    "    ],\n",
    "    [\n",
    "      (\"rx90p[0]\", \"d1\", \"hamming\", \"amp\"),\n",
    "    ],\n",
    "    [\n",
    "      (\"rx90p[0]\", \"d1\", \"hamming\", \"freq_offset\"),\n",
    "    ],\n",
    "    [\n",
    "      (\"rx90p[0]\", \"d1\", \"hamming\", \"xy_angle\"),\n",
    "    ],\n",
    "    [\n",
    "      (\"rx90p[0]\", \"d1\", \"hamming\", \"delta\"),\n",
    "    ],\n",
    "    [\n",
    "      (\"rx90p[0]\", \"d1\", \"gauss2\", \"amp\"),\n",
    "    ],\n",
    "    [\n",
    "      (\"rx90p[0]\", \"d1\", \"gauss2\", \"freq_offset\"),\n",
    "    ],\n",
    "    [\n",
    "      (\"rx90p[0]\", \"d1\", \"gauss2\", \"xy_angle\"),\n",
    "    ],\n",
    "    [\n",
    "      (\"rx90p[0]\", \"d1\", \"gauss2\", \"delta\"),\n",
    "    ],\n",
    "    [\n",
    "      (\"rx90p[0]\", \"d1\", \"gauss3\", \"amp\"),\n",
    "    ],\n",
    "    [\n",
    "      (\"rx90p[0]\", \"d1\", \"gauss3\", \"freq_offset\"),\n",
    "    ],\n",
    "    [\n",
    "      (\"rx90p[0]\", \"d1\", \"gauss3\", \"xy_angle\"),\n",
    "    ],\n",
    "    [\n",
    "      (\"rx90p[0]\", \"d1\", \"gauss3\", \"delta\"),\n",
    "    ],\n",
    "    [\n",
    "      (\"rx90p[0]\", \"d1\", \"gauss_sigma2\", \"amp\"),\n",
    "    ],\n",
    "    [\n",
    "      (\"rx90p[0]\", \"d1\", \"gauss_sigma2\", \"freq_offset\"),\n",
    "    ],\n",
    "    [\n",
    "      (\"rx90p[0]\", \"d1\", \"gauss_sigma2\", \"xy_angle\"),\n",
    "    ],\n",
    "    [\n",
    "      (\"rx90p[0]\", \"d1\", \"gauss_sigma2\", \"delta\"),\n",
    "    ],\n",
    "    [\n",
    "      (\"rx90p[0]\", \"d1\", \"hamming2\", \"amp\"),\n",
    "    ],\n",
    "    [\n",
    "      (\"rx90p[0]\", \"d1\", \"hamming2\", \"freq_offset\"),\n",
    "    ],\n",
    "    [\n",
    "      (\"rx90p[0]\", \"d1\", \"hamming2\", \"xy_angle\"),\n",
    "    ],\n",
    "    [\n",
    "      (\"rx90p[0]\", \"d1\", \"hamming2\", \"delta\"),\n",
    "    ]\n",
    "]\n",
    "parameter_map.set_opt_map(gateset_opt_map)"
   ]
  },
  {
   "cell_type": "code",
   "execution_count": 45,
   "metadata": {},
   "outputs": [],
   "source": [
    "# ############## Test code for Shai's task #################\n",
    "\n",
    "# opt_gates = [\"rx90p[0]\"]\n",
    "# gateset_opt_map=[\n",
    "#     [\n",
    "#       (\"rx90p[0]\", \"d1\", \"gauss\", \"amp\"),\n",
    "#     ],\n",
    "#     [\n",
    "#       (\"rx90p[0]\", \"d1\", \"gauss\", \"freq_offset\"),\n",
    "#     ],\n",
    "#     [\n",
    "#       (\"rx90p[0]\", \"d1\", \"gauss\", \"xy_angle\"),\n",
    "#     ],\n",
    "#     [\n",
    "#       (\"rx90p[0]\", \"d1\", \"gauss\", \"delta\"),\n",
    "#     ],\n",
    "#     [\n",
    "#       (\"rx90p[0]\", \"d1\", \"carrier\", \"framechange\"),\n",
    "#     ],\n",
    "#     [\n",
    "#       (\"rx90p[0]\", \"d1\", \"hann\", \"amp\"),\n",
    "#     ],\n",
    "#     [\n",
    "#       (\"rx90p[0]\", \"d1\", \"hann\", \"freq_offset\"),\n",
    "#     ],\n",
    "#     [\n",
    "#       (\"rx90p[0]\", \"d1\", \"hann\", \"xy_angle\"),\n",
    "#     ],\n",
    "#     [\n",
    "#       (\"rx90p[0]\", \"d1\", \"hann\", \"delta\"),\n",
    "#     ],\n",
    "#     [\n",
    "#       (\"rx90p[0]\", \"d1\", \"gauss2\", \"amp\"),\n",
    "#     ],\n",
    "#     [\n",
    "#       (\"rx90p[0]\", \"d1\", \"gauss2\", \"freq_offset\"),\n",
    "#     ],\n",
    "#     [\n",
    "#       (\"rx90p[0]\", \"d1\", \"gauss2\", \"xy_angle\"),\n",
    "#     ],\n",
    "#     [\n",
    "#       (\"rx90p[0]\", \"d1\", \"gauss2\", \"delta\"),\n",
    "#     ],\n",
    "#     [\n",
    "#       (\"rx90p[0]\", \"d1\", \"gauss3\", \"amp\"),\n",
    "#     ],\n",
    "#     [\n",
    "#       (\"rx90p[0]\", \"d1\", \"gauss3\", \"freq_offset\"),\n",
    "#     ],\n",
    "#     [\n",
    "#       (\"rx90p[0]\", \"d1\", \"gauss3\", \"xy_angle\"),\n",
    "#     ],\n",
    "#     [\n",
    "#       (\"rx90p[0]\", \"d1\", \"gauss3\", \"delta\"),\n",
    "#     ]\n",
    "# ]\n",
    "# parameter_map.set_opt_map(gateset_opt_map)"
   ]
  },
  {
   "cell_type": "code",
   "execution_count": 46,
   "metadata": {},
   "outputs": [],
   "source": [
    "# ########### The one consisting gauss_der ################\n",
    "\n",
    "# opt_gates = [\"rx90p[0]\"]\n",
    "# gateset_opt_map=[\n",
    "#     [\n",
    "#       (\"rx90p[0]\", \"d1\", \"gauss\", \"amp\"),\n",
    "#     ],\n",
    "#     [\n",
    "#       (\"rx90p[0]\", \"d1\", \"gauss\", \"freq_offset\"),\n",
    "#     ],\n",
    "#     [\n",
    "#       (\"rx90p[0]\", \"d1\", \"gauss\", \"xy_angle\"),\n",
    "#     ],\n",
    "#     [\n",
    "#       (\"rx90p[0]\", \"d1\", \"gauss\", \"delta\"),\n",
    "#     ],\n",
    "#     [\n",
    "#       (\"rx90p[0]\", \"d1\", \"carrier\", \"framechange\"),\n",
    "#     ],\n",
    "#     [\n",
    "#       (\"rx90p[0]\", \"d1\", \"gauss_sigma\", \"amp\"),\n",
    "#     ],\n",
    "#     [\n",
    "#       (\"rx90p[0]\", \"d1\", \"gauss_sigma\", \"freq_offset\"),\n",
    "#     ],\n",
    "#     [\n",
    "#       (\"rx90p[0]\", \"d1\", \"gauss_sigma\", \"xy_angle\"),\n",
    "#     ],\n",
    "#     [\n",
    "#       (\"rx90p[0]\", \"d1\", \"gauss_sigma\", \"delta\"),\n",
    "#     ],\n",
    "#     [\n",
    "#       (\"rx90p[0]\", \"d1\", \"hann\", \"amp\"),\n",
    "#     ],\n",
    "#     [\n",
    "#       (\"rx90p[0]\", \"d1\", \"hann\", \"freq_offset\"),\n",
    "#     ],\n",
    "#     [\n",
    "#       (\"rx90p[0]\", \"d1\", \"hann\", \"xy_angle\"),\n",
    "#     ],\n",
    "#     [\n",
    "#       (\"rx90p[0]\", \"d1\", \"hann\", \"delta\"),\n",
    "#     ],\n",
    "#     [\n",
    "#       (\"rx90p[0]\", \"d1\", \"hamming\", \"amp\"),\n",
    "#     ],\n",
    "#     [\n",
    "#       (\"rx90p[0]\", \"d1\", \"hamming\", \"freq_offset\"),\n",
    "#     ],\n",
    "#     [\n",
    "#       (\"rx90p[0]\", \"d1\", \"hamming\", \"xy_angle\"),\n",
    "#     ],\n",
    "#     [\n",
    "#       (\"rx90p[0]\", \"d1\", \"hamming\", \"delta\"),\n",
    "#     ],\n",
    "#     [\n",
    "#       (\"rx90p[0]\", \"d1\", \"gauss_der\", \"amp\"),\n",
    "#     ],\n",
    "#     [\n",
    "#       (\"rx90p[0]\", \"d1\", \"gauss_der\", \"freq_offset\"),\n",
    "#     ],\n",
    "#     [\n",
    "#       (\"rx90p[0]\", \"d1\", \"gauss_der\", \"xy_angle\"),\n",
    "#     ],\n",
    "#     [\n",
    "#       (\"rx90p[0]\", \"d1\", \"gauss_der\", \"delta\"),\n",
    "#     ],\n",
    "#     [\n",
    "#       (\"rx90p[0]\", \"d1\", \"gauss2\", \"amp\"),\n",
    "#     ],\n",
    "#     [\n",
    "#       (\"rx90p[0]\", \"d1\", \"gauss2\", \"freq_offset\"),\n",
    "#     ],\n",
    "#     [\n",
    "#       (\"rx90p[0]\", \"d1\", \"gauss2\", \"xy_angle\"),\n",
    "#     ],\n",
    "#     [\n",
    "#       (\"rx90p[0]\", \"d1\", \"gauss2\", \"delta\"),\n",
    "#     ],\n",
    "#     [\n",
    "#       (\"rx90p[0]\", \"d1\", \"gauss3\", \"amp\"),\n",
    "#     ],\n",
    "#     [\n",
    "#       (\"rx90p[0]\", \"d1\", \"gauss3\", \"freq_offset\"),\n",
    "#     ],\n",
    "#     [\n",
    "#       (\"rx90p[0]\", \"d1\", \"gauss3\", \"xy_angle\"),\n",
    "#     ],\n",
    "#     [\n",
    "#       (\"rx90p[0]\", \"d1\", \"gauss3\", \"delta\"),\n",
    "#     ],\n",
    "#     [\n",
    "#       (\"rx90p[0]\", \"d1\", \"gauss_sigma2\", \"amp\"),\n",
    "#     ],\n",
    "#     [\n",
    "#       (\"rx90p[0]\", \"d1\", \"gauss_sigma2\", \"freq_offset\"),\n",
    "#     ],\n",
    "#     [\n",
    "#       (\"rx90p[0]\", \"d1\", \"gauss_sigma2\", \"xy_angle\"),\n",
    "#     ],\n",
    "#     [\n",
    "#       (\"rx90p[0]\", \"d1\", \"gauss_sigma2\", \"delta\"),\n",
    "#     ],\n",
    "#     [\n",
    "#       (\"rx90p[0]\", \"d1\", \"hamming2\", \"amp\"),\n",
    "#     ],\n",
    "#     [\n",
    "#       (\"rx90p[0]\", \"d1\", \"hamming2\", \"freq_offset\"),\n",
    "#     ],\n",
    "#     [\n",
    "#       (\"rx90p[0]\", \"d1\", \"hamming2\", \"xy_angle\"),\n",
    "#     ],\n",
    "#     [\n",
    "#       (\"rx90p[0]\", \"d1\", \"hamming2\", \"delta\"),\n",
    "#     ]\n",
    "# ]\n",
    "# parameter_map.set_opt_map(gateset_opt_map)"
   ]
  },
  {
   "cell_type": "markdown",
   "metadata": {},
   "source": [
    "We can look at the parameters this opt_map specified with"
   ]
  },
  {
   "cell_type": "code",
   "execution_count": 47,
   "metadata": {},
   "outputs": [
    {
     "name": "stdout",
     "output_type": "stream",
     "text": [
      "rx90p[0]-d1-gauss-amp                 : 300.000 mV \n",
      "rx90p[0]-d1-gauss-freq_offset         : -53.000 MHz 2pi \n",
      "rx90p[0]-d1-gauss-xy_angle            : -444.089 arad \n",
      "rx90p[0]-d1-gauss-delta               : -1.000  \n",
      "rx90p[0]-d1-carrier-framechange       : 0.000 rad \n",
      "rx90p[0]-d1-gauss_sigma-amp           : 280.000 mV \n",
      "rx90p[0]-d1-gauss_sigma-freq_offset   : -53.000 MHz 2pi \n",
      "rx90p[0]-d1-gauss_sigma-xy_angle      : -444.089 arad \n",
      "rx90p[0]-d1-gauss_sigma-delta         : -1.000  \n",
      "rx90p[0]-d1-hann-amp                  : 260.000 mV \n",
      "rx90p[0]-d1-hann-freq_offset          : -53.000 MHz 2pi \n",
      "rx90p[0]-d1-hann-xy_angle             : -444.089 arad \n",
      "rx90p[0]-d1-hann-delta                : -1.000  \n",
      "rx90p[0]-d1-hamming-amp               : 240.000 mV \n",
      "rx90p[0]-d1-hamming-freq_offset       : -53.000 MHz 2pi \n",
      "rx90p[0]-d1-hamming-xy_angle          : -444.089 arad \n",
      "rx90p[0]-d1-hamming-delta             : -1.000  \n",
      "rx90p[0]-d1-gauss2-amp                : 200.000 mV \n",
      "rx90p[0]-d1-gauss2-freq_offset        : -53.000 MHz 2pi \n",
      "rx90p[0]-d1-gauss2-xy_angle           : -444.089 arad \n",
      "rx90p[0]-d1-gauss2-delta              : -1.000  \n",
      "rx90p[0]-d1-gauss3-amp                : 180.000 mV \n",
      "rx90p[0]-d1-gauss3-freq_offset        : -53.000 MHz 2pi \n",
      "rx90p[0]-d1-gauss3-xy_angle           : -444.089 arad \n",
      "rx90p[0]-d1-gauss3-delta              : -1.000  \n",
      "rx90p[0]-d1-gauss_sigma2-amp          : 160.000 mV \n",
      "rx90p[0]-d1-gauss_sigma2-freq_offset  : -53.000 MHz 2pi \n",
      "rx90p[0]-d1-gauss_sigma2-xy_angle     : -444.089 arad \n",
      "rx90p[0]-d1-gauss_sigma2-delta        : -1.000  \n",
      "rx90p[0]-d1-hamming2-amp              : 200.000 mV \n",
      "rx90p[0]-d1-hamming2-freq_offset      : -53.000 MHz 2pi \n",
      "rx90p[0]-d1-hamming2-xy_angle         : -444.089 arad \n",
      "rx90p[0]-d1-hamming2-delta            : -1.000  \n",
      "\n"
     ]
    }
   ],
   "source": [
    "parameter_map.print_parameters()"
   ]
  },
  {
   "cell_type": "code",
   "execution_count": 48,
   "metadata": {},
   "outputs": [],
   "source": [
    "from c3.optimizers.optimalcontrol import OptimalControl"
   ]
  },
  {
   "cell_type": "markdown",
   "metadata": {},
   "source": [
    "The OptimalControl object will handle the optimization for us. As a fidelity function we choose average fidelity as well as LBFG-S (a wrapper of the scipy implementation) from our library. See those libraries for how these functions are defined and how to supply your own, if necessary."
   ]
  },
  {
   "cell_type": "code",
   "execution_count": 49,
   "metadata": {},
   "outputs": [],
   "source": [
    "import os\n",
    "import tempfile\n",
    "\n",
    "# Create a temporary directory to store logfiles, modify as needed\n",
    "log_dir = os.path.join(tempfile.TemporaryDirectory().name, \"c3logs\")\n",
    "\n",
    "opt = OptimalControl(\n",
    "    dir_path=log_dir,\n",
    "    fid_func=fidelities.sparse_unitary_infid_set,\n",
    "    fid_subspace=[\"Q1\"],\n",
    "    pmap=parameter_map,\n",
    "    algorithm=algorithms.lbfgs,\n",
    "    options={\"maxfun\" : 150},\n",
    "    run_name=\"better_X90\"\n",
    ")"
   ]
  },
  {
   "cell_type": "markdown",
   "metadata": {},
   "source": [
    "Finally we supply our defined experiment."
   ]
  },
  {
   "cell_type": "code",
   "execution_count": 50,
   "metadata": {},
   "outputs": [],
   "source": [
    "exp.set_opt_gates(opt_gates)\n",
    "opt.set_exp(exp)"
   ]
  },
  {
   "cell_type": "markdown",
   "metadata": {},
   "source": [
    "Everything is in place to start the optimization."
   ]
  },
  {
   "cell_type": "code",
   "execution_count": 51,
   "metadata": {},
   "outputs": [
    {
     "name": "stdout",
     "output_type": "stream",
     "text": [
      "C3:STATUS:Saving as: C:\\Users\\tsark\\AppData\\Local\\Temp\\tmp_20uzei4\\c3logs\\better_X90\\2022_06_02_T_03_12_55\\open_loop.c3log\n"
     ]
    },
    {
     "name": "stderr",
     "output_type": "stream",
     "text": [
      "c:\\users\\tsark\\onedrive\\documents\\c3\\c3\\utils\\utils.py:64: UserWarning: OSError encountered while creating symlink\n",
      "  warnings.warn(\"OSError encountered while creating symlink\")\n",
      "c:\\users\\tsark\\onedrive\\documents\\c3\\c3\\optimizers\\optimizer.py:296: Warning: rx90p[0]-d1-gauss-delta has no gradient. This might indicate no usage for current experiment.\n",
      "  warnings.warn(\n",
      "c:\\users\\tsark\\onedrive\\documents\\c3\\c3\\optimizers\\optimizer.py:296: Warning: rx90p[0]-d1-gauss_sigma-delta has no gradient. This might indicate no usage for current experiment.\n",
      "  warnings.warn(\n",
      "c:\\users\\tsark\\onedrive\\documents\\c3\\c3\\optimizers\\optimizer.py:296: Warning: rx90p[0]-d1-hann-delta has no gradient. This might indicate no usage for current experiment.\n",
      "  warnings.warn(\n",
      "c:\\users\\tsark\\onedrive\\documents\\c3\\c3\\optimizers\\optimizer.py:296: Warning: rx90p[0]-d1-hamming-delta has no gradient. This might indicate no usage for current experiment.\n",
      "  warnings.warn(\n",
      "c:\\users\\tsark\\onedrive\\documents\\c3\\c3\\optimizers\\optimizer.py:296: Warning: rx90p[0]-d1-gauss2-delta has no gradient. This might indicate no usage for current experiment.\n",
      "  warnings.warn(\n",
      "c:\\users\\tsark\\onedrive\\documents\\c3\\c3\\optimizers\\optimizer.py:296: Warning: rx90p[0]-d1-gauss3-delta has no gradient. This might indicate no usage for current experiment.\n",
      "  warnings.warn(\n",
      "c:\\users\\tsark\\onedrive\\documents\\c3\\c3\\optimizers\\optimizer.py:296: Warning: rx90p[0]-d1-gauss_sigma2-delta has no gradient. This might indicate no usage for current experiment.\n",
      "  warnings.warn(\n",
      "c:\\users\\tsark\\onedrive\\documents\\c3\\c3\\optimizers\\optimizer.py:296: Warning: rx90p[0]-d1-hamming2-delta has no gradient. This might indicate no usage for current experiment.\n",
      "  warnings.warn(\n",
      "c:\\users\\tsark\\onedrive\\documents\\c3\\c3\\optimizers\\optimizer.py:296: Warning: rx90p[0]-d1-hamming2-freq_offset has no gradient. This might indicate no usage for current experiment.\n",
      "  warnings.warn(\n",
      "c:\\users\\tsark\\onedrive\\documents\\c3\\c3\\optimizers\\optimizer.py:296: Warning: rx90p[0]-d1-hamming2-xy_angle has no gradient. This might indicate no usage for current experiment.\n",
      "  warnings.warn(\n",
      "c:\\users\\tsark\\onedrive\\documents\\c3\\c3\\optimizers\\optimizer.py:296: Warning: rx90p[0]-d1-hamming-freq_offset has no gradient. This might indicate no usage for current experiment.\n",
      "  warnings.warn(\n",
      "c:\\users\\tsark\\onedrive\\documents\\c3\\c3\\optimizers\\optimizer.py:296: Warning: rx90p[0]-d1-hamming-xy_angle has no gradient. This might indicate no usage for current experiment.\n",
      "  warnings.warn(\n"
     ]
    }
   ],
   "source": [
    "opt.optimize_controls()"
   ]
  },
  {
   "cell_type": "markdown",
   "metadata": {},
   "source": [
    "After a few steps we have improved the gate significantly, as we can check with"
   ]
  },
  {
   "cell_type": "code",
   "execution_count": 52,
   "metadata": {},
   "outputs": [
    {
     "data": {
      "text/plain": [
       "0.004203853657943055"
      ]
     },
     "execution_count": 52,
     "metadata": {},
     "output_type": "execute_result"
    }
   ],
   "source": [
    "opt.current_best_goal"
   ]
  },
  {
   "cell_type": "markdown",
   "metadata": {},
   "source": [
    "And by looking at the same sequences as before."
   ]
  },
  {
   "cell_type": "code",
   "execution_count": 53,
   "metadata": {},
   "outputs": [
    {
     "data": {
      "image/png": "[encoded data removed]",
      "text/plain": [
       "<Figure size 432x288 with 1 Axes>"
      ]
     },
     "metadata": {
      "needs_background": "light"
     },
     "output_type": "display_data"
    }
   ],
   "source": [
    "plot_dynamics(exp, init_state, barely_a_seq)"
   ]
  },
  {
   "cell_type": "code",
   "execution_count": 54,
   "metadata": {},
   "outputs": [
    {
     "data": {
      "image/png": "[encoded data removed]",
      "text/plain": [
       "<Figure size 432x288 with 1 Axes>"
      ]
     },
     "metadata": {
      "needs_background": "light"
     },
     "output_type": "display_data"
    }
   ],
   "source": [
    "plot_dynamics(exp, init_state, barely_a_seq * 5)"
   ]
  },
  {
   "cell_type": "markdown",
   "metadata": {},
   "source": [
    "We can also display the optimal parameters:"
   ]
  },
  {
   "cell_type": "code",
   "execution_count": 55,
   "metadata": {},
   "outputs": [
    {
     "name": "stdout",
     "output_type": "stream",
     "text": [
      "rx90p[0]-d1-gauss-amp                 : 709.066 mV \n",
      "rx90p[0]-d1-gauss-freq_offset         : -52.999 MHz 2pi \n",
      "rx90p[0]-d1-gauss-xy_angle            : 221.632 mrad \n",
      "rx90p[0]-d1-gauss-delta               : -1.000  \n",
      "rx90p[0]-d1-carrier-framechange       : 389.549 mrad \n",
      "rx90p[0]-d1-gauss_sigma-amp           : 94.961 µV \n",
      "rx90p[0]-d1-gauss_sigma-freq_offset   : -53.000 MHz 2pi \n",
      "rx90p[0]-d1-gauss_sigma-xy_angle      : 4.751 mrad \n",
      "rx90p[0]-d1-gauss_sigma-delta         : -1.000  \n",
      "rx90p[0]-d1-hann-amp                  : 15.443 µV \n",
      "rx90p[0]-d1-hann-freq_offset          : -53.000 MHz 2pi \n",
      "rx90p[0]-d1-hann-xy_angle             : 6.178 mrad \n",
      "rx90p[0]-d1-hann-delta                : -1.000  \n",
      "rx90p[0]-d1-hamming-amp               : 0.000 V \n",
      "rx90p[0]-d1-hamming-freq_offset       : -53.000 MHz 2pi \n",
      "rx90p[0]-d1-hamming-xy_angle          : 6.144 mrad \n",
      "rx90p[0]-d1-hamming-delta             : -1.000  \n",
      "rx90p[0]-d1-gauss2-amp                : 466.981 mV \n",
      "rx90p[0]-d1-gauss2-freq_offset        : -52.999 MHz 2pi \n",
      "rx90p[0]-d1-gauss2-xy_angle           : 180.721 mrad \n",
      "rx90p[0]-d1-gauss2-delta              : -1.000  \n",
      "rx90p[0]-d1-gauss3-amp                : 417.382 mV \n",
      "rx90p[0]-d1-gauss3-freq_offset        : -52.999 MHz 2pi \n",
      "rx90p[0]-d1-gauss3-xy_angle           : 172.419 mrad \n",
      "rx90p[0]-d1-gauss3-delta              : -1.000  \n",
      "rx90p[0]-d1-gauss_sigma2-amp          : 9.949 µV \n",
      "rx90p[0]-d1-gauss_sigma2-freq_offset  : -53.000 MHz 2pi \n",
      "rx90p[0]-d1-gauss_sigma2-xy_angle     : 3.131 mrad \n",
      "rx90p[0]-d1-gauss_sigma2-delta        : -1.000  \n",
      "rx90p[0]-d1-hamming2-amp              : 3.518 µV \n",
      "rx90p[0]-d1-hamming2-freq_offset      : -52.998 MHz 2pi \n",
      "rx90p[0]-d1-hamming2-xy_angle         : 4.902 mrad \n",
      "rx90p[0]-d1-hamming2-delta            : -1.000  \n",
      "\n"
     ]
    }
   ],
   "source": [
    "parameter_map.print_parameters()    # meta_param = 10^-4"
   ]
  },
  {
   "cell_type": "code",
   "execution_count": 56,
   "metadata": {},
   "outputs": [],
   "source": [
    "# pre_factor = [0.000335, 0.393302, 0.000335, 0.000335, 0.393302, 0.393302, 0.393302]\n",
    "# plot_controls(parameter_map, pre_factor)"
   ]
  },
  {
   "cell_type": "code",
   "execution_count": 57,
   "metadata": {},
   "outputs": [
    {
     "name": "stdout",
     "output_type": "stream",
     "text": [
      "Result from optimized gates:\n",
      "{'(0,)': 0.5043412516125511,\n",
      " '(1,)': 0.48977150335133113,\n",
      " '(2,)': 0.0058872450361204375}\n"
     ]
    }
   ],
   "source": [
    "c3_job_opt = c3_backend.run(qc)\n",
    "result_opt = c3_job_opt.result()\n",
    "res_pops_opt = result_opt.data()[\"state_pops\"]\n",
    "print(\"Result from optimized gates:\")\n",
    "pprint(res_pops_opt)"
   ]
  },
  {
   "cell_type": "code",
   "execution_count": 58,
   "metadata": {},
   "outputs": [
    {
     "data": {
      "image/png": "[encoded data removed]",
      "text/plain": [
       "<Figure size 504x360 with 1 Axes>"
      ]
     },
     "execution_count": 58,
     "metadata": {},
     "output_type": "execute_result"
    }
   ],
   "source": [
    "plot_histogram(res_pops_opt, title='Simulation of Qiskit circuit with Optimized Gate')"
   ]
  },
  {
   "cell_type": "code",
   "execution_count": 59,
   "metadata": {},
   "outputs": [
    {
     "data": {
      "text/plain": [
       "{'gauss': gauss:: amp : 709.066 mV , delta : -1.000  , freq_offset : -52.999 MHz 2pi , xy_angle : 221.632 mrad , sigma : 1.750 ns , t_final : 7.000 ns , shape: gaussian_nonorm, ,\n",
       " 'carrier': carrier:: freq : 5.050 GHz 2pi , framechange : 389.549 mrad , ,\n",
       " 'gauss_sigma': gauss_sigma:: amp : 94.961 µV , delta : -1.000  , freq_offset : -53.000 MHz 2pi , xy_angle : 4.751 mrad , sigma : 1.750 ns , t_final : 7.000 ns , shape: gaussian_sigma, ,\n",
       " 'hann': hann:: amp : 15.443 µV , delta : -1.000  , freq_offset : -53.000 MHz 2pi , xy_angle : 6.178 mrad , sigma : 1.750 ns , t_final : 7.000 ns , shape: hann, ,\n",
       " 'hamming': hamming:: amp : 0.000 V , delta : -1.000  , freq_offset : -53.000 MHz 2pi , xy_angle : 6.144 mrad , sigma : 1.750 ns , t_final : 7.000 ns , shape: hamming, ,\n",
       " 'gauss2': gauss2:: amp : 466.981 mV , delta : -1.000  , freq_offset : -52.999 MHz 2pi , xy_angle : 180.721 mrad , sigma : 1.750 ns , t_final : 7.000 ns , shape: gaussian_nonorm, ,\n",
       " 'gauss3': gauss3:: amp : 417.382 mV , delta : -1.000  , freq_offset : -52.999 MHz 2pi , xy_angle : 172.419 mrad , sigma : 1.750 ns , t_final : 7.000 ns , shape: gaussian_nonorm, ,\n",
       " 'gauss_sigma2': gauss_sigma2:: amp : 9.949 µV , delta : -1.000  , freq_offset : -53.000 MHz 2pi , xy_angle : 3.131 mrad , sigma : 1.750 ns , t_final : 7.000 ns , shape: gaussian_sigma, ,\n",
       " 'hamming2': hamming2:: amp : 3.518 µV , delta : -1.000  , freq_offset : -52.998 MHz 2pi , xy_angle : 4.902 mrad , sigma : 1.750 ns , t_final : 7.000 ns , shape: hamming, }"
      ]
     },
     "execution_count": 59,
     "metadata": {},
     "output_type": "execute_result"
    }
   ],
   "source": [
    "rx90p_q1.comps[\"d1\"]"
   ]
  },
  {
   "cell_type": "code",
   "execution_count": null,
   "metadata": {},
   "outputs": [],
   "source": []
  }
 ],
 "metadata": {
  "interpreter": {
   "hash": "8fc56ae400e717d872a76f4d6b257151d16696a9d0a72e6998d355f9b43887c7"
  },
  "kernelspec": {
   "display_name": "Python 3 (ipykernel)",
   "language": "python",
   "name": "python3"
  },
  "language_info": {
   "codemirror_mode": {
    "name": "ipython",
    "version": 3
   },
   "file_extension": ".py",
   "mimetype": "text/x-python",
   "name": "python",
   "nbconvert_exporter": "python",
   "pygments_lexer": "ipython3",
   "version": "3.8.13"
  }
 },
 "nbformat": 4,
 "nbformat_minor": 4
}
