{
 "cells": [
  {
   "cell_type": "markdown",
   "metadata": {
    "tags": []
   },
   "source": [
    "### Entangling gate on two coupled qubits"
   ]
  },
  {
   "cell_type": "markdown",
   "metadata": {
    "jp-MarkdownHeadingCollapsed": true,
    "tags": []
   },
   "source": [
    "#### Imports"
   ]
  },
  {
   "cell_type": "code",
   "execution_count": 2,
   "metadata": {
    "ExecuteTime": {
     "end_time": "2020-06-10T13:45:05.684014Z",
     "start_time": "2020-06-10T13:45:04.441825Z"
    },
    "code_folding": [
     0
    ],
    "tags": []
   },
   "outputs": [],
   "source": [
    "# System imports\n",
    "import copy\n",
    "import numpy as np\n",
    "import time\n",
    "import itertools\n",
    "import matplotlib.pyplot as plt\n",
    "import tensorflow as tf\n",
    "import tensorflow_probability as tfp\n",
    "from typing import List\n",
    "from pprint import pprint\n",
    "\n",
    "# Main C3 objects\n",
    "from c3.c3objs import Quantity as Qty\n",
    "from c3.parametermap import ParameterMap as PMap\n",
    "from c3.experiment import Experiment as Exp\n",
    "from c3.model import Model as Mdl\n",
    "from c3.generator.generator import Generator as Gnr\n",
    "\n",
    "# Building blocks\n",
    "import c3.generator.devices as devices\n",
    "import c3.signal.gates as gates\n",
    "import c3.libraries.chip as chip\n",
    "import c3.signal.pulse as pulse\n",
    "import c3.libraries.tasks as tasks\n",
    "\n",
    "# Libs and helpers\n",
    "import c3.libraries.algorithms as algorithms\n",
    "import c3.libraries.hamiltonians as hamiltonians\n",
    "import c3.libraries.fidelities as fidelities\n",
    "import c3.libraries.envelopes as envelopes\n",
    "import c3.utils.qt_utils as qt_utils\n",
    "import c3.utils.tf_utils as tf_utils\n",
    "\n",
    "# Qiskit related modules\n",
    "from c3.qiskit import C3Provider\n",
    "from qiskit import QuantumCircuit, Aer, execute\n",
    "from qiskit.tools.visualization import plot_histogram"
   ]
  },
  {
   "cell_type": "markdown",
   "metadata": {
    "jp-MarkdownHeadingCollapsed": true,
    "tags": []
   },
   "source": [
    "#### Model components\n",
    "The model consists of two qubits with 3 levels each and slightly different parameters:"
   ]
  },
  {
   "cell_type": "code",
   "execution_count": 3,
   "metadata": {
    "ExecuteTime": {
     "end_time": "2020-06-10T13:45:05.684014Z",
     "start_time": "2020-06-10T13:45:04.441825Z"
    },
    "code_folding": [
     7,
     22
    ]
   },
   "outputs": [],
   "source": [
    "qubit_lvls = 5\n",
    "freq_q1 = 5e9\n",
    "anhar_q1 = -210e6\n",
    "t1_q1 = 27e-6\n",
    "t2star_q1 = 39e-6\n",
    "qubit_temp = 50e-3\n",
    "\n",
    "q1 = chip.Qubit(\n",
    "    name=\"Q1\",\n",
    "    desc=\"Qubit 1\",\n",
    "    freq=Qty(value=freq_q1, min_val=4.995e9, max_val=5.005e9, unit='Hz 2pi'),\n",
    "    anhar=Qty(value=anhar_q1, min_val=-380e6, max_val=-120e6, unit='Hz 2pi'),\n",
    "    hilbert_dim=qubit_lvls,\n",
    "    t1=Qty(value=t1_q1, min_val=1e-6, max_val=90e-6, unit='s'),\n",
    "    t2star=Qty(value=t2star_q1, min_val=10e-6, max_val=90e-3, unit='s'),\n",
    "    temp=Qty(value=qubit_temp, min_val=0.0, max_val=0.12, unit='K')\n",
    ")\n",
    "\n",
    "freq_q2 = 5.6e9\n",
    "anhar_q2 = -240e6\n",
    "t1_q2 = 23e-6\n",
    "t2star_q2 = 31e-6\n",
    "q2 = chip.Qubit(\n",
    "    name=\"Q2\",\n",
    "    desc=\"Qubit 2\",\n",
    "    freq=Qty(value=freq_q2, min_val=5.595e9, max_val=5.605e9, unit='Hz 2pi'),\n",
    "    anhar=Qty(value=anhar_q2, min_val=-380e6, max_val=-120e6, unit='Hz 2pi'),\n",
    "    hilbert_dim=qubit_lvls,\n",
    "    t1=Qty(value=t1_q2, min_val=1e-6, max_val=90e-6, unit='s'),\n",
    "    t2star=Qty(value=t2star_q2, min_val=10e-6, max_val=90e-6, unit='s'),\n",
    "    temp=Qty(value=qubit_temp, min_val=0.0, max_val=0.12, unit='K')\n",
    ")"
   ]
  },
  {
   "cell_type": "markdown",
   "metadata": {},
   "source": [
    "There is a static coupling in x-direction between them: $(b_1+b_1^\\dagger)(b_2+b_2^\\dagger)$"
   ]
  },
  {
   "cell_type": "code",
   "execution_count": 4,
   "metadata": {
    "ExecuteTime": {
     "end_time": "2020-06-10T13:45:05.684014Z",
     "start_time": "2020-06-10T13:45:04.441825Z"
    },
    "code_folding": [
     1
    ]
   },
   "outputs": [],
   "source": [
    "coupling_strength = 50e6\n",
    "q1q2 = chip.Coupling(\n",
    "    name=\"Q1-Q2\",\n",
    "    desc=\"coupling\",\n",
    "    comment=\"Coupling qubit 1 to qubit 2\",\n",
    "    connected=[\"Q1\", \"Q2\"],\n",
    "    strength=Qty(\n",
    "        value=coupling_strength,\n",
    "        min_val=-1 * 1e3,\n",
    "        max_val=200e6,\n",
    "        unit='Hz 2pi'\n",
    "    ),\n",
    "    hamiltonian_func=hamiltonians.int_XX\n",
    ")"
   ]
  },
  {
   "cell_type": "markdown",
   "metadata": {},
   "source": [
    "and each qubit has a drive line"
   ]
  },
  {
   "cell_type": "code",
   "execution_count": 5,
   "metadata": {
    "ExecuteTime": {
     "end_time": "2020-06-10T13:45:05.684014Z",
     "start_time": "2020-06-10T13:45:04.441825Z"
    },
    "code_folding": [
     0,
     7
    ]
   },
   "outputs": [],
   "source": [
    "drive1 = chip.Drive(\n",
    "    name=\"d1\",\n",
    "    desc=\"Drive 1\",\n",
    "    comment=\"Drive line 1 on qubit 1\",\n",
    "    connected=[\"Q1\"],\n",
    "    hamiltonian_func=hamiltonians.x_drive\n",
    ")\n",
    "drive2 = chip.Drive(\n",
    "    name=\"d2\",\n",
    "    desc=\"Drive 2\",\n",
    "    comment=\"Drive line 2 on qubit 2\",\n",
    "    connected=[\"Q2\"],\n",
    "    hamiltonian_func=hamiltonians.x_drive\n",
    ")"
   ]
  },
  {
   "cell_type": "markdown",
   "metadata": {},
   "source": [
    "All parts are collected in the model."
   ]
  },
  {
   "cell_type": "code",
   "execution_count": 6,
   "metadata": {
    "code_folding": [
     0
    ],
    "pycharm": {
     "name": "#%%\n"
    }
   },
   "outputs": [],
   "source": [
    "model = Mdl(\n",
    "    [q1, q2],  # Individual, self-contained components\n",
    "    [drive1, drive2, q1q2],  # Interactions between components\n",
    ")\n",
    "model.set_lindbladian(False)\n",
    "model.set_dressed(True)"
   ]
  },
  {
   "cell_type": "markdown",
   "metadata": {
    "jp-MarkdownHeadingCollapsed": true,
    "tags": []
   },
   "source": [
    "#### Control signals\n",
    "The devices for the control line are set up"
   ]
  },
  {
   "cell_type": "code",
   "execution_count": 7,
   "metadata": {
    "ExecuteTime": {
     "end_time": "2020-06-10T13:45:05.684014Z",
     "start_time": "2020-06-10T13:45:04.441825Z"
    },
    "code_folding": [
     8
    ]
   },
   "outputs": [],
   "source": [
    "sim_res = 100e9  # Resolution for numerical simulation\n",
    "awg_res = 2e9  # Realistic, limited resolution of an AWG\n",
    "v2hz = 1e9\n",
    "\n",
    "lo = devices.LO(name='lo', resolution=sim_res)\n",
    "awg = devices.AWG(name='awg', resolution=awg_res)\n",
    "mixer = devices.Mixer(name='mixer')\n",
    "dig_to_an = devices.DigitalToAnalog(name=\"dac\", resolution=sim_res)\n",
    "v_to_hz = devices.VoltsToHertz(\n",
    "    name='v_to_hz',\n",
    "    V_to_Hz=Qty(value=v2hz, min_val=0.9e9, max_val=1.1e9, unit='Hz/V')\n",
    ")"
   ]
  },
  {
   "cell_type": "markdown",
   "metadata": {},
   "source": [
    "The generator combines the parts of the signal generation and assignes a signal chain to each control line."
   ]
  },
  {
   "cell_type": "code",
   "execution_count": 8,
   "metadata": {
    "ExecuteTime": {
     "end_time": "2020-06-10T13:45:05.684014Z",
     "start_time": "2020-06-10T13:45:04.441825Z"
    },
    "code_folding": [
     0
    ]
   },
   "outputs": [],
   "source": [
    "generator = Gnr(\n",
    "    devices={\n",
    "        \"LO\": lo,\n",
    "        \"AWG\": awg,\n",
    "        \"DigitalToAnalog\": dig_to_an,\n",
    "        \"Mixer\": mixer,\n",
    "        \"VoltsToHertz\": v_to_hz\n",
    "    },\n",
    "    chains={\n",
    "        \"d1\": {\n",
    "            \"LO\": [],\n",
    "            \"AWG\": [],\n",
    "            \"DigitalToAnalog\": [\"AWG\"],\n",
    "            \"Mixer\": [\"LO\", \"DigitalToAnalog\"],\n",
    "            \"VoltsToHertz\": [\"Mixer\"],\n",
    "        },\n",
    "        \"d2\": {\n",
    "            \"LO\": [],\n",
    "            \"AWG\": [],\n",
    "            \"DigitalToAnalog\": [\"AWG\"],\n",
    "            \"Mixer\": [\"LO\", \"DigitalToAnalog\"],\n",
    "            \"VoltsToHertz\": [\"Mixer\"],\n",
    "        }\n",
    "    }\n",
    ")"
   ]
  },
  {
   "cell_type": "markdown",
   "metadata": {
    "tags": []
   },
   "source": [
    "#### Gates-set and Parameter map\n",
    "Following a general cross resonance scheme, both qubits will be resonantly driven at the frequency of qubit 2 with a Gaussian envelope. We drive qubit 1 (the control) at the frequency of qubit 2 (the target) with a higher amplitude to compensate for the reduced Rabi frequency."
   ]
  },
  {
   "cell_type": "code",
   "execution_count": 9,
   "metadata": {
    "ExecuteTime": {
     "end_time": "2020-06-10T13:45:05.684014Z",
     "start_time": "2020-06-10T13:45:04.441825Z"
    }
   },
   "outputs": [],
   "source": [
    "t_final = 45e-9\n",
    "sideband = 50e6"
   ]
  },
  {
   "cell_type": "code",
   "execution_count": 10,
   "metadata": {
    "code_folding": [
     0,
     39
    ],
    "pycharm": {
     "name": "#%%\n"
    },
    "tags": []
   },
   "outputs": [],
   "source": [
    "def_params = {\n",
    "    'amp': Qty(\n",
    "        value=1.,\n",
    "        min_val=0.0,\n",
    "        max_val=100.,\n",
    "        unit=\"V\"\n",
    "    ),\n",
    "    'sigma': Qty(\n",
    "        value=t_final / 4,\n",
    "        min_val=t_final / 8,\n",
    "        max_val=t_final / 2,\n",
    "        unit=\"s\"\n",
    "    ),\n",
    "    't_final': Qty(\n",
    "        value=t_final,\n",
    "        min_val=-0.5 * t_final,\n",
    "        max_val=2. * t_final,\n",
    "        unit=\"s\"\n",
    "    ),\n",
    "    'xy_angle': Qty(\n",
    "        value=0.0,\n",
    "        min_val=-0.5 * np.pi,\n",
    "        max_val=2.5 * np.pi,\n",
    "        unit='rad'\n",
    "    ),\n",
    "    'freq_offset': Qty(\n",
    "        value=-sideband - 3e6,\n",
    "        min_val=-56 * 1e6,\n",
    "        max_val=-52 * 1e6,\n",
    "        unit='Hz 2pi'\n",
    "    ),\n",
    "    'delta': Qty(\n",
    "        value=-1,\n",
    "        min_val=-5,\n",
    "        max_val=3,\n",
    "        unit=\"\"\n",
    "    )\n",
    "}\n",
    "\n",
    "def_env = pulse.Envelope(\n",
    "    name=\"gauss\",\n",
    "    desc=\"Gaussian comp for single-qubit gates\",\n",
    "    params=def_params,\n",
    "    shape=envelopes.gaussian_nonorm,\n",
    "    normalize_pulse=True\n",
    ")"
   ]
  },
  {
   "cell_type": "code",
   "execution_count": 11,
   "metadata": {
    "code_folding": [
     7
    ]
   },
   "outputs": [],
   "source": [
    "n_gaussians_per_q = 10\n",
    "sig_envelopes = {'d1': [], 'd2': []}\n",
    "\n",
    "sigma = t_final / (2 * n_gaussians_per_q)\n",
    "times = np.linspace(2*sigma, 2*(t_final - sigma), n_gaussians_per_q)\n",
    "sigma = Qty(value=sigma, min_val=0.5 * sigma, max_val=2 * sigma, unit=\"s\")\n",
    "default_amp = 1e-5 # arbitrary almost-zero number\n",
    "for i, t in enumerate(times):\n",
    "    d1_gauss = copy.deepcopy(def_env)\n",
    "    d1_gauss.name += str(i)\n",
    "    d1_gauss.params['t_final'].set_value(t)\n",
    "    d1_gauss.params['amp'].set_value(default_amp)\n",
    "    d1_gauss.params['xy_angle'].set_value(default_amp)\n",
    "    d1_gauss.params['sigma'] = sigma\n",
    "\n",
    "    d2_gauss = copy.deepcopy(d1_gauss)\n",
    "\n",
    "    sig_envelopes['d1'].append(d1_gauss)\n",
    "    sig_envelopes['d2'].append(d2_gauss)"
   ]
  },
  {
   "cell_type": "markdown",
   "metadata": {},
   "source": [
    "The carrier signal of each drive for the 2 Qubit gates is set to the resonance frequency of the target qubit."
   ]
  },
  {
   "cell_type": "code",
   "execution_count": 12,
   "metadata": {
    "ExecuteTime": {
     "end_time": "2020-06-10T13:45:05.684014Z",
     "start_time": "2020-06-10T13:45:04.441825Z"
    },
    "code_folding": [
     3,
     12
    ]
   },
   "outputs": [],
   "source": [
    "lo_freq_q1 = freq_q1 + sideband\n",
    "lo_freq_q2 = freq_q2 + sideband\n",
    "\n",
    "carr_2Q_1 = pulse.Carrier(\n",
    "    name=\"carrier\",\n",
    "    desc=\"Carrier on drive 1\",\n",
    "    params={\n",
    "        'freq': Qty(value=lo_freq_q2, min_val=0.9 * lo_freq_q2, max_val=1.1 * lo_freq_q2, unit='Hz 2pi'),\n",
    "        'framechange': Qty(value=0.0, min_val=-np.pi, max_val=3 * np.pi, unit='rad')\n",
    "    }\n",
    ")\n",
    "\n",
    "carr_2Q_2 = pulse.Carrier(\n",
    "    name=\"carrier\",\n",
    "    desc=\"Carrier on drive 2\",\n",
    "    params={\n",
    "        'freq': Qty(value=lo_freq_q2, min_val=0.9 * lo_freq_q2, max_val=1.1 * lo_freq_q2, unit='Hz 2pi'),\n",
    "        'framechange': Qty(value=0.0, min_val=-np.pi, max_val=3 * np.pi, unit='rad')\n",
    "    }\n",
    ")"
   ]
  },
  {
   "cell_type": "markdown",
   "metadata": {
    "tags": []
   },
   "source": [
    "#### Instructions\n",
    "The instruction to be optimised is a CNOT gates controlled by qubit 1."
   ]
  },
  {
   "cell_type": "code",
   "execution_count": 13,
   "metadata": {
    "code_folding": [
     0
    ]
   },
   "outputs": [
    {
     "name": "stderr",
     "output_type": "stream",
     "text": [
      "C:\\Users\\Yonatan Gideoni\\Desktop\\ML4Q\\c3\\c3\\signal\\gates.py:135: UserWarning: No ideal gate found for gate: cnot. Use set_ideal() explicitly.\n",
      "  warnings.warn(\n"
     ]
    }
   ],
   "source": [
    "# CNOT controlled by qubit 1\n",
    "cnot12 = gates.Instruction(\n",
    "    name=\"cnot\", targets=[0, 1], t_start=0.0, t_end=t_final, channels=[\"d1\", \"d2\"],\n",
    "    ideal=np.array([\n",
    "        [1, 0, 0, 0],\n",
    "        [0, 1, 0, 0],\n",
    "        [0, 0, 0, 1],\n",
    "        [0, 0, 1, 0]\n",
    "    ])\n",
    ")"
   ]
  },
  {
   "cell_type": "code",
   "execution_count": 14,
   "metadata": {},
   "outputs": [],
   "source": [
    "# CZ controlled by qubit 1\n",
    "cz = gates.Instruction(\n",
    "    name=\"cz\", targets=[0, 1], t_start=0.0, t_end=t_final, channels=[\"d1\", \"d2\"],\n",
    "    ideal=np.array([\n",
    "        [1, 0, 0, 0],\n",
    "        [0, 1, 0, 0],\n",
    "        [0, 0, 1, 0],\n",
    "        [0, 0, 0, -1]\n",
    "    ])\n",
    ")"
   ]
  },
  {
   "cell_type": "code",
   "execution_count": 15,
   "metadata": {},
   "outputs": [],
   "source": [
    "gate = cnot12\n",
    "gate_name = gate.get_key()"
   ]
  },
  {
   "cell_type": "code",
   "execution_count": 16,
   "metadata": {
    "ExecuteTime": {
     "end_time": "2020-06-10T13:45:05.684014Z",
     "start_time": "2020-06-10T13:45:04.441825Z"
    },
    "code_folding": [
     1
    ]
   },
   "outputs": [],
   "source": [
    "gate.add_component(carr_2Q_1, \"d1\")\n",
    "gate.add_component(carr_2Q_2, \"d2\")\n",
    "gate.comps[\"d1\"][\"carrier\"].params[\"framechange\"].set_value(\n",
    "    (-sideband * t_final) * 2 * np.pi % (2 * np.pi)\n",
    ")\n",
    "\n",
    "for drive_line, envs in sig_envelopes.items():\n",
    "    for env in envs:\n",
    "        gate.add_component(env, drive_line)"
   ]
  },
  {
   "cell_type": "markdown",
   "metadata": {
    "jp-MarkdownHeadingCollapsed": true,
    "tags": []
   },
   "source": [
    "#### The experiment\n",
    "All components are collected in the parameter map and the experiment is set up."
   ]
  },
  {
   "cell_type": "code",
   "execution_count": 17,
   "metadata": {
    "ExecuteTime": {
     "end_time": "2020-06-10T13:45:05.684014Z",
     "start_time": "2020-06-10T13:45:04.441825Z"
    }
   },
   "outputs": [],
   "source": [
    "parameter_map = PMap(instructions=[gate], model=model, generator=generator)\n",
    "exp = Exp(pmap=parameter_map)"
   ]
  },
  {
   "cell_type": "markdown",
   "metadata": {
    "jp-MarkdownHeadingCollapsed": true,
    "tags": []
   },
   "source": [
    "#### Dynamics\n",
    "\n",
    "The system is initialised in the state $|0,1\\rangle$ so that a transition to $|1,1\\rangle$ should be visible."
   ]
  },
  {
   "cell_type": "code",
   "execution_count": 18,
   "metadata": {},
   "outputs": [],
   "source": [
    "psi_init = [[0] * qubit_lvls ** 2]\n",
    "psi_init[0][0] = 1\n",
    "init_state = tf.transpose(tf.constant(psi_init, tf.complex128))"
   ]
  },
  {
   "cell_type": "code",
   "execution_count": 19,
   "metadata": {
    "code_folding": [
     0,
     6,
     8,
     16,
     28,
     37,
     45,
     79,
     110,
     114
    ]
   },
   "outputs": [],
   "source": [
    "def plot_dynamics(exp, psi_init, seq, disp_legend: bool=False):\n",
    "    \"\"\"\n",
    "    Plotting code for time-resolved populations.\n",
    "\n",
    "    Parameters\n",
    "    ----------\n",
    "    psi_init: tf.Tensor\n",
    "        Initial state or density matrix.\n",
    "    seq: list\n",
    "        List of operations to apply to the initial state.\n",
    "    \"\"\"\n",
    "    model = exp.pmap.model\n",
    "    exp.compute_propagators()\n",
    "    dUs = exp.partial_propagators\n",
    "    psi_t = psi_init.numpy()\n",
    "    pop_t = exp.populations(psi_t, model.lindbladian)\n",
    "    for gate in seq:\n",
    "        for du in dUs[gate]:\n",
    "            psi_t = np.matmul(du.numpy(), psi_t)\n",
    "            pops = exp.populations(psi_t, model.lindbladian)\n",
    "            pop_t = np.append(pop_t, pops, axis=1)\n",
    "\n",
    "    fig, axs = plt.subplots(1, 1)\n",
    "    ts = exp.ts\n",
    "    dt = ts[1] - ts[0]\n",
    "    ts = np.linspace(0.0, dt * pop_t.shape[1], pop_t.shape[1])\n",
    "    axs.plot(ts / 1e-9, pop_t.T)\n",
    "    axs.grid(linestyle=\"--\")\n",
    "    axs.tick_params(\n",
    "        direction=\"in\", left=True, right=True, top=True, bottom=True\n",
    "    )\n",
    "    axs.set_xlabel('Time [ns]')\n",
    "    axs.set_ylabel('Population')\n",
    "    if disp_legend:\n",
    "        plt.legend(model.state_labels, loc='center right')\n",
    "\n",
    "\n",
    "def plot_signal(drivers_signals: dict, t_final: float, \n",
    "                n_points: int= 1000, disp_legend: bool=False):\n",
    "    signal_t = np.linspace(0, t_final, n_points)\n",
    "    \n",
    "    n_drivers = len(drivers_signals)\n",
    "    res_signal = np.zeros((n_drivers, len(signal_t)), dtype=np.complex128)\n",
    "    fig, axs = plt.subplots(1, n_drivers, sharey=\"all\")\n",
    "\n",
    "    for driver, envs in drivers_signals.items():\n",
    "        driver_ind = int(driver[1:])-1\n",
    "        for env in envs:\n",
    "            # de-normalize the amplitude so it has units of volts\n",
    "            ts = awg.create_ts(0, t_final)\n",
    "            env.normalize_pulse = False\n",
    "            area = abs(env.get_shape_values(ts).numpy()).sum()\n",
    "            amplitude = env.params['amp'].numpy()\n",
    "            real_amplitude = amplitude / area\n",
    "\n",
    "            signal = env.get_shape_values(signal_t).numpy() * real_amplitude\n",
    "            res_signal[driver_ind] += signal\n",
    "\n",
    "            env.normalize_pulse = True\n",
    "\n",
    "            axs[driver_ind].plot(signal_t*1e9, np.real(signal), label=env.name)\n",
    "    \n",
    "    for driver in range(n_drivers):\n",
    "        ax = axs[driver]\n",
    "        \n",
    "        ax.plot(signal_t*1e9, np.real(res_signal[driver]), \n",
    "                           label='Resulting signal', c='k', linewidth=2, linestyle='dashed')\n",
    "        \n",
    "        ax.set_title(f'Driver {driver+1}')\n",
    "        ax.grid()\n",
    "        ax.set_xlabel('Time[ns]')\n",
    "        ax.set_ylabel('Signal[V]')\n",
    "        ax.set_xlim(0, t_final*1e9)\n",
    "        if disp_legend:\n",
    "            ax.legend()\n",
    "    \n",
    "    plt.suptitle('Real part of pulses')\n",
    "\n",
    "\n",
    "def getQubitsPopulation(population: np.array, dims: List[int]) -> np.array:\n",
    "    \"\"\"\n",
    "    Splits the population of all levels of a system into the populations of levels per subsystem.\n",
    "    Parameters\n",
    "    ----------\n",
    "    population: np.array\n",
    "        The time dependent population of each energy level. First dimension: level index, second dimension: time.\n",
    "    dims: List[int]\n",
    "        The number of levels for each subsystem.\n",
    "    Returns\n",
    "    -------\n",
    "    np.array\n",
    "        The time-dependent population of energy levels for each subsystem. First dimension: subsystem index, second\n",
    "        dimension: level index, third dimension: time.\n",
    "    \"\"\"\n",
    "    numQubits = len(dims)\n",
    "\n",
    "    # create a list of all levels\n",
    "    qubit_levels = []\n",
    "    for dim in dims:\n",
    "        qubit_levels.append(list(range(dim)))\n",
    "    combined_levels = list(itertools.product(*qubit_levels))\n",
    "\n",
    "    # calculate populations\n",
    "    qubitsPopulations = np.zeros((numQubits, dims[0], population.shape[1]))\n",
    "    for idx, levels in enumerate(combined_levels):\n",
    "        for i in range(numQubits):\n",
    "            qubitsPopulations[i, levels[i]] += population[idx]\n",
    "    return qubitsPopulations\n",
    "\n",
    "\n",
    "def plotSplittedPopulation(\n",
    "        exp: Exp,\n",
    "        psi_init: tf.Tensor,\n",
    "        sequence: List[str]\n",
    ") -> None:\n",
    "    \"\"\"\n",
    "    Plots time dependent populations for multiple qubits in separate plots.\n",
    "    Parameters\n",
    "    ----------\n",
    "    exp: Experiment\n",
    "        The experiment containing the model and propagators\n",
    "    psi_init: np.array\n",
    "        Initial state vector\n",
    "    sequence: List[str]\n",
    "        List of gate names that will be applied to the state\n",
    "    -------\n",
    "    \"\"\"\n",
    "    # calculate the time dependent level population\n",
    "    model = exp.pmap.model\n",
    "    dUs = exp.partial_propagators\n",
    "    psi_t = psi_init.numpy()\n",
    "    pop_t = exp.populations(psi_t, model.lindbladian)\n",
    "    for gate in sequence:\n",
    "        for du in dUs[gate]:\n",
    "            psi_t = np.matmul(du, psi_t)\n",
    "            pops = exp.populations(psi_t, model.lindbladian)\n",
    "            pop_t = np.append(pop_t, pops, axis=1)\n",
    "    dims = [s.hilbert_dim for s in model.subsystems.values()]\n",
    "    splitted = getQubitsPopulation(pop_t, dims)\n",
    "\n",
    "    # timestamps\n",
    "    dt = exp.ts[1] - exp.ts[0]\n",
    "    ts = np.linspace(0.0, dt * pop_t.shape[1], pop_t.shape[1])\n",
    "\n",
    "    # create both subplots\n",
    "    titles = list(exp.pmap.model.subsystems.keys())\n",
    "    fig, axs = plt.subplots(1, len(splitted), sharey=\"all\")\n",
    "    for idx, ax in enumerate(axs):\n",
    "        ax.plot(ts / 1e-9, splitted[idx].T)\n",
    "        ax.tick_params(direction=\"in\", left=True, right=True, top=False, bottom=True)\n",
    "        ax.set_xlabel(\"Time [ns]\")\n",
    "        ax.set_ylabel(\"Population\")\n",
    "        ax.set_title(titles[idx])\n",
    "        ax.legend([str(x) for x in np.arange(dims[idx])])\n",
    "        ax.grid()\n",
    "\n",
    "    plt.tight_layout()\n",
    "    plt.show()"
   ]
  },
  {
   "cell_type": "code",
   "execution_count": 20,
   "metadata": {},
   "outputs": [
    {
     "data": {
      "image/png": "[encoded data removed]",
      "text/plain": [
       "<Figure size 432x288 with 1 Axes>"
      ]
     },
     "metadata": {
      "needs_background": "light"
     },
     "output_type": "display_data"
    },
    {
     "data": {
      "image/png": "[encoded data removed]",
      "text/plain": [
       "<Figure size 432x288 with 2 Axes>"
      ]
     },
     "metadata": {
      "needs_background": "light"
     },
     "output_type": "display_data"
    }
   ],
   "source": [
    "sequence = [gate_name]\n",
    "plot_dynamics(exp, init_state, sequence)\n",
    "plotSplittedPopulation(exp, init_state, sequence)"
   ]
  },
  {
   "cell_type": "code",
   "execution_count": 21,
   "metadata": {
    "scrolled": false
   },
   "outputs": [
    {
     "data": {
      "image/png": "[encoded data removed]",
      "text/plain": [
       "<Figure size 432x288 with 2 Axes>"
      ]
     },
     "metadata": {
      "needs_background": "light"
     },
     "output_type": "display_data"
    }
   ],
   "source": [
    "plot_signal(sig_envelopes, t_final)"
   ]
  },
  {
   "cell_type": "markdown",
   "metadata": {
    "tags": []
   },
   "source": [
    "#### Open-loop optimal control"
   ]
  },
  {
   "cell_type": "code",
   "execution_count": 22,
   "metadata": {
    "code_folding": [
     3,
     9
    ]
   },
   "outputs": [],
   "source": [
    "opt_gates = [gate_name]\n",
    "exp.set_opt_gates(opt_gates)\n",
    "\n",
    "gateset_opt_map = [\n",
    "    [(gate_name, \"d1\", \"carrier\", \"framechange\")],\n",
    "    [(gate_name, \"d2\", \"carrier\", \"framechange\")],\n",
    "]\n",
    "\n",
    "opt_params = {'amp', 'xy_angle', 'freq_offset', 'sigma'}\n",
    "for drive_line, envs in sig_envelopes.items():\n",
    "    for env in envs:\n",
    "        for opt_param in opt_params:\n",
    "            gateset_opt_map.append([(gate_name, drive_line, env.name, opt_param)])\n",
    "\n",
    "parameter_map.set_opt_map(gateset_opt_map)"
   ]
  },
  {
   "cell_type": "markdown",
   "metadata": {},
   "source": [
    "As a fidelity function we choose unitary fidelity as well as LBFG-S (a wrapper of the scipy implementation) from our library."
   ]
  },
  {
   "cell_type": "code",
   "execution_count": 23,
   "metadata": {
    "code_folding": []
   },
   "outputs": [],
   "source": [
    "import os\n",
    "import tempfile\n",
    "from c3.optimizers.optimalcontrol import OptimalControl\n",
    "\n",
    "log_dir = os.path.join(tempfile.TemporaryDirectory().name, \"c3logs\")\n",
    "opt = OptimalControl(\n",
    "    dir_path=log_dir,\n",
    "    fid_func=fidelities.unitary_infid_set,\n",
    "    fid_subspace=[\"Q1\", \"Q2\"],\n",
    "    pmap=parameter_map,\n",
    "    algorithm=algorithms.lbfgs,\n",
    "    options={\n",
    "        \"maxiter\": 200,\n",
    "    },\n",
    ")"
   ]
  },
  {
   "cell_type": "code",
   "execution_count": 24,
   "metadata": {},
   "outputs": [
    {
     "name": "stderr",
     "output_type": "stream",
     "text": [
      "C:\\Users\\Yonatan Gideoni\\Desktop\\ML4Q\\c3\\c3\\utils\\utils.py:64: UserWarning: OSError encountered while creating symlink\n",
      "  warnings.warn(\"OSError encountered while creating symlink\")\n"
     ]
    },
    {
     "name": "stdout",
     "output_type": "stream",
     "text": [
      "C3:STATUS:Saving as: C:\\Users\\YONATA~1\\AppData\\Local\\Temp\\tmpbkgiy3w1\\c3logs\\cnot12\\2022_08_26_T_15_50_17\\open_loop.c3log\n"
     ]
    },
    {
     "name": "stderr",
     "output_type": "stream",
     "text": [
      "C:\\Users\\Yonatan Gideoni\\Desktop\\ML4Q\\c3\\c3\\optimizers\\optimizer.py:296: Warning: cz[0, 1]-d1-gauss0-sigma has no gradient. This might indicate no usage for current experiment.\n",
      "  warnings.warn(\n",
      "C:\\Users\\Yonatan Gideoni\\Desktop\\ML4Q\\c3\\c3\\optimizers\\optimizer.py:296: Warning: cz[0, 1]-d1-gauss1-sigma has no gradient. This might indicate no usage for current experiment.\n",
      "  warnings.warn(\n",
      "C:\\Users\\Yonatan Gideoni\\Desktop\\ML4Q\\c3\\c3\\optimizers\\optimizer.py:296: Warning: cz[0, 1]-d1-gauss2-sigma has no gradient. This might indicate no usage for current experiment.\n",
      "  warnings.warn(\n",
      "C:\\Users\\Yonatan Gideoni\\Desktop\\ML4Q\\c3\\c3\\optimizers\\optimizer.py:296: Warning: cz[0, 1]-d1-gauss3-sigma has no gradient. This might indicate no usage for current experiment.\n",
      "  warnings.warn(\n",
      "C:\\Users\\Yonatan Gideoni\\Desktop\\ML4Q\\c3\\c3\\optimizers\\optimizer.py:296: Warning: cz[0, 1]-d1-gauss4-sigma has no gradient. This might indicate no usage for current experiment.\n",
      "  warnings.warn(\n",
      "C:\\Users\\Yonatan Gideoni\\Desktop\\ML4Q\\c3\\c3\\optimizers\\optimizer.py:296: Warning: cz[0, 1]-d1-gauss5-sigma has no gradient. This might indicate no usage for current experiment.\n",
      "  warnings.warn(\n",
      "C:\\Users\\Yonatan Gideoni\\Desktop\\ML4Q\\c3\\c3\\optimizers\\optimizer.py:296: Warning: cz[0, 1]-d1-gauss6-sigma has no gradient. This might indicate no usage for current experiment.\n",
      "  warnings.warn(\n",
      "C:\\Users\\Yonatan Gideoni\\Desktop\\ML4Q\\c3\\c3\\optimizers\\optimizer.py:296: Warning: cz[0, 1]-d1-gauss7-sigma has no gradient. This might indicate no usage for current experiment.\n",
      "  warnings.warn(\n",
      "C:\\Users\\Yonatan Gideoni\\Desktop\\ML4Q\\c3\\c3\\optimizers\\optimizer.py:296: Warning: cz[0, 1]-d1-gauss8-sigma has no gradient. This might indicate no usage for current experiment.\n",
      "  warnings.warn(\n",
      "C:\\Users\\Yonatan Gideoni\\Desktop\\ML4Q\\c3\\c3\\optimizers\\optimizer.py:296: Warning: cz[0, 1]-d1-gauss4-freq_offset has no gradient. This might indicate no usage for current experiment.\n",
      "  warnings.warn(\n",
      "C:\\Users\\Yonatan Gideoni\\Desktop\\ML4Q\\c3\\c3\\optimizers\\optimizer.py:296: Warning: cz[0, 1]-d1-gauss4-xy_angle has no gradient. This might indicate no usage for current experiment.\n",
      "  warnings.warn(\n",
      "C:\\Users\\Yonatan Gideoni\\Desktop\\ML4Q\\c3\\c3\\optimizers\\optimizer.py:296: Warning: cz[0, 1]-d1-gauss7-freq_offset has no gradient. This might indicate no usage for current experiment.\n",
      "  warnings.warn(\n",
      "C:\\Users\\Yonatan Gideoni\\Desktop\\ML4Q\\c3\\c3\\optimizers\\optimizer.py:296: Warning: cz[0, 1]-d1-gauss7-xy_angle has no gradient. This might indicate no usage for current experiment.\n",
      "  warnings.warn(\n",
      "C:\\Users\\Yonatan Gideoni\\Desktop\\ML4Q\\c3\\c3\\optimizers\\optimizer.py:296: Warning: cz[0, 1]-d1-gauss0-freq_offset has no gradient. This might indicate no usage for current experiment.\n",
      "  warnings.warn(\n",
      "C:\\Users\\Yonatan Gideoni\\Desktop\\ML4Q\\c3\\c3\\optimizers\\optimizer.py:296: Warning: cz[0, 1]-d1-gauss0-xy_angle has no gradient. This might indicate no usage for current experiment.\n",
      "  warnings.warn(\n",
      "C:\\Users\\Yonatan Gideoni\\Desktop\\ML4Q\\c3\\c3\\optimizers\\optimizer.py:296: Warning: cz[0, 1]-d2-gauss0-sigma has no gradient. This might indicate no usage for current experiment.\n",
      "  warnings.warn(\n",
      "C:\\Users\\Yonatan Gideoni\\Desktop\\ML4Q\\c3\\c3\\optimizers\\optimizer.py:296: Warning: cz[0, 1]-d2-gauss0-freq_offset has no gradient. This might indicate no usage for current experiment.\n",
      "  warnings.warn(\n",
      "C:\\Users\\Yonatan Gideoni\\Desktop\\ML4Q\\c3\\c3\\optimizers\\optimizer.py:296: Warning: cz[0, 1]-d2-gauss0-xy_angle has no gradient. This might indicate no usage for current experiment.\n",
      "  warnings.warn(\n",
      "C:\\Users\\Yonatan Gideoni\\Desktop\\ML4Q\\c3\\c3\\optimizers\\optimizer.py:296: Warning: cz[0, 1]-d2-gauss6-sigma has no gradient. This might indicate no usage for current experiment.\n",
      "  warnings.warn(\n",
      "C:\\Users\\Yonatan Gideoni\\Desktop\\ML4Q\\c3\\c3\\optimizers\\optimizer.py:296: Warning: cz[0, 1]-d2-gauss6-freq_offset has no gradient. This might indicate no usage for current experiment.\n",
      "  warnings.warn(\n",
      "C:\\Users\\Yonatan Gideoni\\Desktop\\ML4Q\\c3\\c3\\optimizers\\optimizer.py:296: Warning: cz[0, 1]-d2-gauss6-xy_angle has no gradient. This might indicate no usage for current experiment.\n",
      "  warnings.warn(\n",
      "C:\\Users\\Yonatan Gideoni\\Desktop\\ML4Q\\c3\\c3\\optimizers\\optimizer.py:296: Warning: cz[0, 1]-d2-gauss9-sigma has no gradient. This might indicate no usage for current experiment.\n",
      "  warnings.warn(\n",
      "C:\\Users\\Yonatan Gideoni\\Desktop\\ML4Q\\c3\\c3\\optimizers\\optimizer.py:296: Warning: cz[0, 1]-d2-gauss9-freq_offset has no gradient. This might indicate no usage for current experiment.\n",
      "  warnings.warn(\n",
      "C:\\Users\\Yonatan Gideoni\\Desktop\\ML4Q\\c3\\c3\\optimizers\\optimizer.py:296: Warning: cz[0, 1]-d2-gauss9-xy_angle has no gradient. This might indicate no usage for current experiment.\n",
      "  warnings.warn(\n",
      "C:\\Users\\Yonatan Gideoni\\Desktop\\ML4Q\\c3\\c3\\optimizers\\optimizer.py:296: Warning: cz[0, 1]-d2-gauss8-sigma has no gradient. This might indicate no usage for current experiment.\n",
      "  warnings.warn(\n",
      "C:\\Users\\Yonatan Gideoni\\Desktop\\ML4Q\\c3\\c3\\optimizers\\optimizer.py:296: Warning: cz[0, 1]-d2-gauss8-freq_offset has no gradient. This might indicate no usage for current experiment.\n",
      "  warnings.warn(\n",
      "C:\\Users\\Yonatan Gideoni\\Desktop\\ML4Q\\c3\\c3\\optimizers\\optimizer.py:296: Warning: cz[0, 1]-d2-gauss8-xy_angle has no gradient. This might indicate no usage for current experiment.\n",
      "  warnings.warn(\n",
      "C:\\Users\\Yonatan Gideoni\\Desktop\\ML4Q\\c3\\c3\\optimizers\\optimizer.py:296: Warning: cz[0, 1]-d2-gauss3-sigma has no gradient. This might indicate no usage for current experiment.\n",
      "  warnings.warn(\n",
      "C:\\Users\\Yonatan Gideoni\\Desktop\\ML4Q\\c3\\c3\\optimizers\\optimizer.py:296: Warning: cz[0, 1]-d2-gauss3-freq_offset has no gradient. This might indicate no usage for current experiment.\n",
      "  warnings.warn(\n",
      "C:\\Users\\Yonatan Gideoni\\Desktop\\ML4Q\\c3\\c3\\optimizers\\optimizer.py:296: Warning: cz[0, 1]-d2-gauss3-xy_angle has no gradient. This might indicate no usage for current experiment.\n",
      "  warnings.warn(\n",
      "C:\\Users\\Yonatan Gideoni\\Desktop\\ML4Q\\c3\\c3\\optimizers\\optimizer.py:296: Warning: cz[0, 1]-d2-gauss4-sigma has no gradient. This might indicate no usage for current experiment.\n",
      "  warnings.warn(\n",
      "C:\\Users\\Yonatan Gideoni\\Desktop\\ML4Q\\c3\\c3\\optimizers\\optimizer.py:296: Warning: cz[0, 1]-d2-gauss4-freq_offset has no gradient. This might indicate no usage for current experiment.\n",
      "  warnings.warn(\n",
      "C:\\Users\\Yonatan Gideoni\\Desktop\\ML4Q\\c3\\c3\\optimizers\\optimizer.py:296: Warning: cz[0, 1]-d2-gauss4-xy_angle has no gradient. This might indicate no usage for current experiment.\n",
      "  warnings.warn(\n",
      "C:\\Users\\Yonatan Gideoni\\Desktop\\ML4Q\\c3\\c3\\optimizers\\optimizer.py:296: Warning: cz[0, 1]-d2-gauss5-sigma has no gradient. This might indicate no usage for current experiment.\n",
      "  warnings.warn(\n",
      "C:\\Users\\Yonatan Gideoni\\Desktop\\ML4Q\\c3\\c3\\optimizers\\optimizer.py:296: Warning: cz[0, 1]-d2-gauss5-freq_offset has no gradient. This might indicate no usage for current experiment.\n",
      "  warnings.warn(\n",
      "C:\\Users\\Yonatan Gideoni\\Desktop\\ML4Q\\c3\\c3\\optimizers\\optimizer.py:296: Warning: cz[0, 1]-d2-gauss5-xy_angle has no gradient. This might indicate no usage for current experiment.\n",
      "  warnings.warn(\n",
      "C:\\Users\\Yonatan Gideoni\\Desktop\\ML4Q\\c3\\c3\\optimizers\\optimizer.py:296: Warning: cz[0, 1]-d2-gauss7-sigma has no gradient. This might indicate no usage for current experiment.\n",
      "  warnings.warn(\n",
      "C:\\Users\\Yonatan Gideoni\\Desktop\\ML4Q\\c3\\c3\\optimizers\\optimizer.py:296: Warning: cz[0, 1]-d2-gauss7-freq_offset has no gradient. This might indicate no usage for current experiment.\n",
      "  warnings.warn(\n",
      "C:\\Users\\Yonatan Gideoni\\Desktop\\ML4Q\\c3\\c3\\optimizers\\optimizer.py:296: Warning: cz[0, 1]-d2-gauss7-xy_angle has no gradient. This might indicate no usage for current experiment.\n",
      "  warnings.warn(\n",
      "C:\\Users\\Yonatan Gideoni\\Desktop\\ML4Q\\c3\\c3\\optimizers\\optimizer.py:296: Warning: cz[0, 1]-d2-gauss1-sigma has no gradient. This might indicate no usage for current experiment.\n",
      "  warnings.warn(\n",
      "C:\\Users\\Yonatan Gideoni\\Desktop\\ML4Q\\c3\\c3\\optimizers\\optimizer.py:296: Warning: cz[0, 1]-d2-gauss1-freq_offset has no gradient. This might indicate no usage for current experiment.\n",
      "  warnings.warn(\n",
      "C:\\Users\\Yonatan Gideoni\\Desktop\\ML4Q\\c3\\c3\\optimizers\\optimizer.py:296: Warning: cz[0, 1]-d2-gauss1-xy_angle has no gradient. This might indicate no usage for current experiment.\n",
      "  warnings.warn(\n"
     ]
    }
   ],
   "source": [
    "exp.set_opt_gates(opt_gates)\n",
    "opt.set_exp(exp)\n",
    "res = opt.optimize_controls();"
   ]
  },
  {
   "cell_type": "markdown",
   "metadata": {},
   "source": [
    "The final parameters and the fidelity are"
   ]
  },
  {
   "cell_type": "code",
   "execution_count": 25,
   "metadata": {},
   "outputs": [
    {
     "name": "stdout",
     "output_type": "stream",
     "text": [
      "cz[0, 1]-d1-carrier-framechange       : 6.403 rad \n",
      "cz[0, 1]-d2-carrier-framechange       : 2.343 rad \n",
      "cz[0, 1]-d1-gauss0-sigma              : 2.250 ns \n",
      "cz[0, 1]-d1-gauss0-freq_offset        : -53.000 MHz 2pi \n",
      "cz[0, 1]-d1-gauss0-xy_angle           : 2.795 rad \n",
      "cz[0, 1]-d1-gauss0-amp                : 0.000 V \n",
      "cz[0, 1]-d1-gauss1-sigma              : 2.250 ns \n",
      "cz[0, 1]-d1-gauss1-freq_offset        : -53.000 MHz 2pi \n",
      "cz[0, 1]-d1-gauss1-xy_angle           : 807.830 mrad \n",
      "cz[0, 1]-d1-gauss1-amp                : 6.191 mV \n",
      "cz[0, 1]-d1-gauss2-sigma              : 2.250 ns \n",
      "cz[0, 1]-d1-gauss2-freq_offset        : -53.000 MHz 2pi \n",
      "cz[0, 1]-d1-gauss2-xy_angle           : 627.666 mrad \n",
      "cz[0, 1]-d1-gauss2-amp                : 7.091 mV \n",
      "cz[0, 1]-d1-gauss3-sigma              : 2.250 ns \n",
      "cz[0, 1]-d1-gauss3-freq_offset        : -53.000 MHz 2pi \n",
      "cz[0, 1]-d1-gauss3-xy_angle           : 2.627 rad \n",
      "cz[0, 1]-d1-gauss3-amp                : 3.798 mV \n",
      "cz[0, 1]-d1-gauss4-sigma              : 2.250 ns \n",
      "cz[0, 1]-d1-gauss4-freq_offset        : -53.000 MHz 2pi \n",
      "cz[0, 1]-d1-gauss4-xy_angle           : 1.126 rad \n",
      "cz[0, 1]-d1-gauss4-amp                : 0.000 V \n",
      "cz[0, 1]-d1-gauss5-sigma              : 2.250 ns \n",
      "cz[0, 1]-d1-gauss5-freq_offset        : -53.000 MHz 2pi \n",
      "cz[0, 1]-d1-gauss5-xy_angle           : 2.761 rad \n",
      "cz[0, 1]-d1-gauss5-amp                : 1.394 mV \n",
      "cz[0, 1]-d1-gauss6-sigma              : 2.250 ns \n",
      "cz[0, 1]-d1-gauss6-freq_offset        : -53.000 MHz 2pi \n",
      "cz[0, 1]-d1-gauss6-xy_angle           : 2.044 rad \n",
      "cz[0, 1]-d1-gauss6-amp                : 6.182 mV \n",
      "cz[0, 1]-d1-gauss7-sigma              : 2.250 ns \n",
      "cz[0, 1]-d1-gauss7-freq_offset        : -53.000 MHz 2pi \n",
      "cz[0, 1]-d1-gauss7-xy_angle           : 318.142 mrad \n",
      "cz[0, 1]-d1-gauss7-amp                : 0.000 V \n",
      "cz[0, 1]-d1-gauss8-sigma              : 2.250 ns \n",
      "cz[0, 1]-d1-gauss8-freq_offset        : -53.000 MHz 2pi \n",
      "cz[0, 1]-d1-gauss8-xy_angle           : 1.421 rad \n",
      "cz[0, 1]-d1-gauss8-amp                : 2.757 mV \n",
      "cz[0, 1]-d1-gauss9-sigma              : 2.250 ns \n",
      "cz[0, 1]-d1-gauss9-freq_offset        : -52.952 MHz 2pi \n",
      "cz[0, 1]-d1-gauss9-xy_angle           : 1.525 rad \n",
      "cz[0, 1]-d1-gauss9-amp                : 7.670 mV \n",
      "cz[0, 1]-d2-gauss0-sigma              : 2.250 ns \n",
      "cz[0, 1]-d2-gauss0-freq_offset        : -53.000 MHz 2pi \n",
      "cz[0, 1]-d2-gauss0-xy_angle           : 2.795 rad \n",
      "cz[0, 1]-d2-gauss0-amp                : 474.319 nV \n",
      "cz[0, 1]-d2-gauss1-sigma              : 2.250 ns \n",
      "cz[0, 1]-d2-gauss1-freq_offset        : -53.000 MHz 2pi \n",
      "cz[0, 1]-d2-gauss1-xy_angle           : 807.301 mrad \n",
      "cz[0, 1]-d2-gauss1-amp                : 474.319 nV \n",
      "cz[0, 1]-d2-gauss2-sigma              : 2.250 ns \n",
      "cz[0, 1]-d2-gauss2-freq_offset        : -53.000 MHz 2pi \n",
      "cz[0, 1]-d2-gauss2-xy_angle           : 627.142 mrad \n",
      "cz[0, 1]-d2-gauss2-amp                : 7.455 µV \n",
      "cz[0, 1]-d2-gauss3-sigma              : 2.250 ns \n",
      "cz[0, 1]-d2-gauss3-freq_offset        : -53.000 MHz 2pi \n",
      "cz[0, 1]-d2-gauss3-xy_angle           : 2.628 rad \n",
      "cz[0, 1]-d2-gauss3-amp                : 474.319 nV \n",
      "cz[0, 1]-d2-gauss4-sigma              : 2.250 ns \n",
      "cz[0, 1]-d2-gauss4-freq_offset        : -53.000 MHz 2pi \n",
      "cz[0, 1]-d2-gauss4-xy_angle           : 1.126 rad \n",
      "cz[0, 1]-d2-gauss4-amp                : 0.000 V \n",
      "cz[0, 1]-d2-gauss5-sigma              : 2.250 ns \n",
      "cz[0, 1]-d2-gauss5-freq_offset        : -53.000 MHz 2pi \n",
      "cz[0, 1]-d2-gauss5-xy_angle           : 2.761 rad \n",
      "cz[0, 1]-d2-gauss5-amp                : 0.000 V \n",
      "cz[0, 1]-d2-gauss6-sigma              : 2.250 ns \n",
      "cz[0, 1]-d2-gauss6-freq_offset        : -53.000 MHz 2pi \n",
      "cz[0, 1]-d2-gauss6-xy_angle           : 2.045 rad \n",
      "cz[0, 1]-d2-gauss6-amp                : 0.000 V \n",
      "cz[0, 1]-d2-gauss7-sigma              : 2.250 ns \n",
      "cz[0, 1]-d2-gauss7-freq_offset        : -53.000 MHz 2pi \n",
      "cz[0, 1]-d2-gauss7-xy_angle           : 317.349 mrad \n",
      "cz[0, 1]-d2-gauss7-amp                : 670.788 nV \n",
      "cz[0, 1]-d2-gauss8-sigma              : 2.250 ns \n",
      "cz[0, 1]-d2-gauss8-freq_offset        : -53.000 MHz 2pi \n",
      "cz[0, 1]-d2-gauss8-xy_angle           : 1.421 rad \n",
      "cz[0, 1]-d2-gauss8-amp                : 474.319 nV \n",
      "cz[0, 1]-d2-gauss9-sigma              : 2.250 ns \n",
      "cz[0, 1]-d2-gauss9-freq_offset        : -52.540 MHz 2pi \n",
      "cz[0, 1]-d2-gauss9-xy_angle           : 1.525 rad \n",
      "cz[0, 1]-d2-gauss9-amp                : 474.319 nV \n",
      "\n",
      "0.9328201752276278\n"
     ]
    }
   ],
   "source": [
    "parameter_map.print_parameters()\n",
    "print(1-opt.current_best_goal)"
   ]
  },
  {
   "cell_type": "code",
   "execution_count": 26,
   "metadata": {
    "jupyter": {
     "outputs_hidden": false
    },
    "pycharm": {
     "name": "#%%\n"
    }
   },
   "outputs": [
    {
     "name": "stdout",
     "output_type": "stream",
     "text": [
      "CONVERGENCE: REL_REDUCTION_OF_F_<=_FACTR*EPSMCH\n"
     ]
    }
   ],
   "source": [
    "print(res.message)"
   ]
  },
  {
   "cell_type": "code",
   "execution_count": 27,
   "metadata": {},
   "outputs": [
    {
     "data": {
      "image/png": "[encoded data removed]",
      "text/plain": [
       "<Figure size 432x288 with 2 Axes>"
      ]
     },
     "metadata": {
      "needs_background": "light"
     },
     "output_type": "display_data"
    }
   ],
   "source": [
    "plot_signal(sig_envelopes, t_final)"
   ]
  },
  {
   "cell_type": "markdown",
   "metadata": {
    "tags": []
   },
   "source": [
    "#### Results of the optimisation\n",
    "Plotting the dynamics with the same initial state:"
   ]
  },
  {
   "cell_type": "code",
   "execution_count": 28,
   "metadata": {
    "pycharm": {
     "name": "#%%\n"
    }
   },
   "outputs": [
    {
     "data": {
      "image/png": "[encoded data removed]",
      "text/plain": [
       "<Figure size 432x288 with 1 Axes>"
      ]
     },
     "metadata": {
      "needs_background": "light"
     },
     "output_type": "display_data"
    },
    {
     "data": {
      "image/png": "[encoded data removed]",
      "text/plain": [
       "<Figure size 432x288 with 2 Axes>"
      ]
     },
     "metadata": {
      "needs_background": "light"
     },
     "output_type": "display_data"
    }
   ],
   "source": [
    "plot_dynamics(exp, init_state, sequence)\n",
    "plotSplittedPopulation(exp, init_state, sequence)"
   ]
  },
  {
   "cell_type": "markdown",
   "metadata": {
    "pycharm": {
     "name": "#%% md\n"
    }
   },
   "source": [
    "Now we plot the dynamics for the control in the excited state."
   ]
  },
  {
   "cell_type": "code",
   "execution_count": 29,
   "metadata": {
    "jupyter": {
     "outputs_hidden": false
    },
    "pycharm": {
     "name": "#%%\n"
    }
   },
   "outputs": [
    {
     "data": {
      "image/png": "[encoded data removed]",
      "text/plain": [
       "<Figure size 432x288 with 1 Axes>"
      ]
     },
     "metadata": {
      "needs_background": "light"
     },
     "output_type": "display_data"
    },
    {
     "data": {
      "image/png": "[encoded data removed]",
      "text/plain": [
       "<Figure size 432x288 with 2 Axes>"
      ]
     },
     "metadata": {
      "needs_background": "light"
     },
     "output_type": "display_data"
    }
   ],
   "source": [
    "psi_init = [[0] * qubit_lvls ** 2]\n",
    "psi_init[0][qubit_lvls] = 1\n",
    "init_state = tf.transpose(tf.constant(psi_init, tf.complex128))\n",
    "\n",
    "plot_dynamics(exp, init_state, sequence)\n",
    "plotSplittedPopulation(exp, init_state, sequence)"
   ]
  },
  {
   "cell_type": "code",
   "execution_count": 30,
   "metadata": {},
   "outputs": [],
   "source": [
    "exp.write_config('two_qubits_entanglement_gauss_raw_var_sigma.hjson')"
   ]
  }
 ],
 "metadata": {
  "interpreter": {
   "hash": "8fc56ae400e717d872a76f4d6b257151d16696a9d0a72e6998d355f9b43887c7"
  },
  "kernelspec": {
   "display_name": "Python 3 (ipykernel)",
   "language": "python",
   "name": "python3"
  },
  "language_info": {
   "codemirror_mode": {
    "name": "ipython",
    "version": 3
   },
   "file_extension": ".py",
   "mimetype": "text/x-python",
   "name": "python",
   "nbconvert_exporter": "python",
   "pygments_lexer": "ipython3",
   "version": "3.8.13"
  }
 },
 "nbformat": 4,
 "nbformat_minor": 4
}